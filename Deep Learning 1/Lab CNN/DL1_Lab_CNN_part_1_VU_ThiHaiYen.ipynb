{
 "cells": [
  {
   "cell_type": "markdown",
   "metadata": {
    "colab_type": "text",
    "id": "oG72s_W2HDtI"
   },
   "source": [
    "# TP Coding Convolutional Neural Networks in tensorflow and keras\n",
    "\n",
    "TP author : Geoffroy Peeters, Alasdair Newson\n",
    "\n",
    "**Student: VU Thi Hai Yen (haiyen96.hp@gmail.com)**\n",
    "\n",
    "### Objective:\n",
    "\n",
    "We want to implement a Convolutional Neural Network (CNN) to do image recognition. For this we will use the well-known CIFAR-10 dataset https://www.cs.toronto.edu/~kriz/cifar.html.\n",
    "\n",
    "The CIFAR-10 dataset consists of 60000 32x32 colour images in 10 classes, with 6000 images per class. There are 50000 training images and 10000 test images.\n",
    "\n",
    "We will first code the simple ConvNet described below using \n",
    "- tensorflow https://www.tensorflow.org\n",
    "\n",
    "then do the same using\n",
    "- keras : https://keras.io\n",
    "\n",
    "\n",
    "The input of the CNN is a set of (32,32,3) image tensors. We apply :\n",
    "\n",
    "    - a Convolutional layer of 32 filters of shape (3,3), with stride (1,1) and padding='same' (i.e. we do not apply zero-padding)\n",
    "    - a ReLu activation function\n",
    "    \n",
    "    - a Convolutional layer of 32 filters of shape (3,3), with stride (1,1) and padding='same' (i.e. we do not apply zero-padding)\n",
    "    - a ReLu activation function\n",
    "    - a Max Pooling Layer of shape (2,2) and stride (2,2) (i.e. we reduce by two the size in each dimension)\n",
    "    \n",
    "    - a Convolutional layer of 32 filters of shape (3,3), with stride (1,1) and padding='same' (i.e. we do not apply zero-padding)\n",
    "    - a ReLu activation function\n",
    "    - a Max Pooling Layer of shape (2,2) and stride (2,2) (i.e. we reduce by two the size in each dimension)\n",
    "    \n",
    "    - We then Flatten the data (reduce them to a vector in order to be able to apply a Fully-Connected layer to it)\n",
    "    - A softmax activation function which outputs are the $P(y_c | X)$ (multi-class problem)\n",
    "\n",
    "### Your task:\n",
    "You need to add the missing parts in the code (parts between # --- START CODE HERE and # --- END CODE HERE)"
   ]
  },
  {
   "cell_type": "markdown",
   "metadata": {
    "colab_type": "text",
    "id": "L8h4Q5zdHDtJ"
   },
   "source": [
    "# Load packages"
   ]
  },
  {
   "cell_type": "code",
   "execution_count": 0,
   "metadata": {
    "colab": {},
    "colab_type": "code",
    "id": "rFJls5ewHDtK"
   },
   "outputs": [],
   "source": [
    "%matplotlib inline\n",
    "import matplotlib.pyplot as plt\n",
    "import numpy as np"
   ]
  },
  {
   "cell_type": "markdown",
   "metadata": {
    "colab_type": "text",
    "id": "at4D-oaGHDtM"
   },
   "source": [
    "## Import data\n",
    "\n",
    "We first import CIFAR-10 dataset."
   ]
  },
  {
   "cell_type": "code",
   "execution_count": 2,
   "metadata": {
    "colab": {
     "base_uri": "https://localhost:8080/",
     "height": 129
    },
    "colab_type": "code",
    "id": "QHE4ZqqUHDtN",
    "outputId": "2398a136-5804-4c8b-dacb-9f001bfd42c6"
   },
   "outputs": [
    {
     "name": "stderr",
     "output_type": "stream",
     "text": [
      "Using TensorFlow backend.\n"
     ]
    },
    {
     "data": {
      "text/html": [
       "<p style=\"color: red;\">\n",
       "The default version of TensorFlow in Colab will soon switch to TensorFlow 2.x.<br>\n",
       "We recommend you <a href=\"https://www.tensorflow.org/guide/migrate\" target=\"_blank\">upgrade</a> now \n",
       "or ensure your notebook will continue to use TensorFlow 1.x via the <code>%tensorflow_version 1.x</code> magic:\n",
       "<a href=\"https://colab.research.google.com/notebooks/tensorflow_version.ipynb\" target=\"_blank\">more info</a>.</p>\n"
      ],
      "text/plain": [
       "<IPython.core.display.HTML object>"
      ]
     },
     "metadata": {
      "tags": []
     },
     "output_type": "display_data"
    },
    {
     "name": "stdout",
     "output_type": "stream",
     "text": [
      "(50000, 32, 32, 3)\n",
      "(10000, 32, 32, 3)\n",
      "[0 1 2 3 4 5 6 7 8 9]\n"
     ]
    }
   ],
   "source": [
    "from keras.utils.np_utils import to_categorical\n",
    "\n",
    "from keras.datasets import cifar10\n",
    "(X_train, y_train), (X_test, y_test) = cifar10.load_data()\n",
    "\n",
    "print(X_train.shape)\n",
    "print(X_test.shape)\n",
    "print(np.unique(y_train))"
   ]
  },
  {
   "cell_type": "markdown",
   "metadata": {
    "colab_type": "text",
    "id": "pJbEZWvjHDtP"
   },
   "source": [
    "The CIFAR-10 dataset has 10 classes. These are the following :"
   ]
  },
  {
   "cell_type": "code",
   "execution_count": 0,
   "metadata": {
    "colab": {},
    "colab_type": "code",
    "id": "9t4X8OvNHDtQ"
   },
   "outputs": [],
   "source": [
    "cifar_10_list = [ 'airplane', 'automobile','bird','cat','deer','dog','frog','horse','ship','truck']"
   ]
  },
  {
   "cell_type": "markdown",
   "metadata": {
    "colab_type": "text",
    "id": "LzTnVp8oHDtS"
   },
   "source": [
    "### Display some of the images"
   ]
  },
  {
   "cell_type": "code",
   "execution_count": 4,
   "metadata": {
    "colab": {
     "base_uri": "https://localhost:8080/",
     "height": 338
    },
    "colab_type": "code",
    "id": "ptocBAeFHDtT",
    "outputId": "2c084237-3059-4a91-8d64-1eb41447cc5f"
   },
   "outputs": [
    {
     "data": {
      "image/png": "[encoded data removed]",
      "text/plain": [
       "<Figure size 720x432 with 10 Axes>"
      ]
     },
     "metadata": {
      "tags": []
     },
     "output_type": "display_data"
    }
   ],
   "source": [
    "plt.figure(figsize=(10, 6))\n",
    "for idx,i in enumerate(range(100,110)):\n",
    "    plt.subplot(2, 5, idx+1)\n",
    "    plt.imshow(X_train[i, :, :, :])\n",
    "    plt.title(cifar_10_list[int(y_train[i])])"
   ]
  },
  {
   "cell_type": "code",
   "execution_count": 0,
   "metadata": {
    "colab": {
     "base_uri": "https://localhost:8080/",
     "height": 34
    },
    "colab_type": "code",
    "id": "QQuZj-tkHDtW",
    "outputId": "68f4da6d-d33f-4fb8-b9e4-4c3c9474f660"
   },
   "outputs": [
    {
     "data": {
      "text/plain": [
       "(50000, 1)"
      ]
     },
     "execution_count": 5,
     "metadata": {
      "tags": []
     },
     "output_type": "execute_result"
    }
   ],
   "source": [
    "y_train.shape"
   ]
  },
  {
   "cell_type": "markdown",
   "metadata": {
    "colab_type": "text",
    "id": "XeQsVQN9HDtX"
   },
   "source": [
    "## Format conversion\n",
    "\n",
    "We now convert the format of the data. In the case of CNNs, and contrary to MLPs, the inputs are not simply vectors of arbitrary size. For example, in the case of images, it is important to distinguish the different dimensions (otherwise the network would not know how to carry out convolutions). Therefore, you need to carry out the following operation :\n",
    "\n",
    "- reshape the input ```X_train```and ```X_test``` to a set of matrices of size (32,32) and depth 3 (for the 3 R,G,B colors), convert the data to float32 and normalize them in the range [0,1]. The final dimensions of the image data should be : [batch_size, height, width, n_channels]\n",
    "\n",
    "Furthermore, as in the previous lab work, you must also convert the label vectors to matrices with k columns, where k is the number of classes. This allows us to carry out the cross-entropy for multi-class problems. Therefore :\n",
    "\n",
    "- convert the output label ```y_train``` and ```y_test``` to one-hot encoding format."
   ]
  },
  {
   "cell_type": "code",
   "execution_count": 5,
   "metadata": {
    "colab": {
     "base_uri": "https://localhost:8080/",
     "height": 117
    },
    "colab_type": "code",
    "id": "DgY-jL38HDtY",
    "outputId": "4727db2d-c52f-441c-d027-0d10ee61d76f"
   },
   "outputs": [
    {
     "name": "stdout",
     "output_type": "stream",
     "text": [
      "X_train shape: (50000, 32, 32, 3)\n",
      "y_train shape: (50000, 1)\n",
      "Y_train shape: (50000, 10)\n",
      "There is 50000 train data\n",
      "There is 10000 test data\n",
      "32 32 3\n"
     ]
    }
   ],
   "source": [
    "# input image dimensions\n",
    "img_rows, img_cols, nb_channels = 32, 32, 3\n",
    "nb_classes = 10\n",
    "\n",
    "# In case depth is 1 (black and white pictures) -> reshape to proper format\n",
    "X_train = X_train.reshape(X_train.shape[0], img_rows, img_cols, nb_channels)\n",
    "X_test = X_test.reshape(X_test.shape[0], img_rows, img_cols, nb_channels)\n",
    "\n",
    "X_train = X_train.astype('float32')\n",
    "X_test = X_test.astype('float32')\n",
    "X_train /= 255\n",
    "X_test /= 255\n",
    "\n",
    "Y_train = to_categorical(y_train)\n",
    "Y_test = to_categorical(y_test)\n",
    "\n",
    "print('X_train shape:', X_train.shape)\n",
    "print('y_train shape:', y_train.shape)\n",
    "print('Y_train shape:', Y_train.shape)\n",
    "print('There is {} train data'.format(X_train.shape[0]))\n",
    "print('There is {} test data'.format(X_test.shape[0]))\n",
    "print(img_rows, img_cols, nb_channels)"
   ]
  },
  {
   "cell_type": "markdown",
   "metadata": {
    "colab_type": "text",
    "id": "wFacV9uxHDta"
   },
   "source": [
    "For memory and speed reasons, we are going to reduce the amount of training data :"
   ]
  },
  {
   "cell_type": "code",
   "execution_count": 6,
   "metadata": {
    "colab": {
     "base_uri": "https://localhost:8080/",
     "height": 50
    },
    "colab_type": "code",
    "id": "JwL1RzLrHDta",
    "outputId": "8704d4c1-1527-4ba9-d44f-62a0a16af33b"
   },
   "outputs": [
    {
     "name": "stdout",
     "output_type": "stream",
     "text": [
      "(10000, 32, 32, 3)\n",
      "(10000, 10)\n"
     ]
    }
   ],
   "source": [
    "n_train_samples = 10000\n",
    "X_train = X_train[0:n_train_samples,:,:,:]\n",
    "Y_train = Y_train[0:n_train_samples,:]\n",
    "print(X_train.shape)\n",
    "print(Y_train.shape)"
   ]
  },
  {
   "cell_type": "markdown",
   "metadata": {
    "colab_type": "text",
    "id": "7z8_JujnHDtc"
   },
   "source": [
    "# 1. CNN with tensorflow\n",
    "\n",
    "We are now going to create a CNN with Tensorflow, and train it on the previously loaded CIFAR dataset.\n",
    "- First define the input and output using ```tf.placeholder```\n",
    "- Define the weights and biases of the CNN using ```tf.variable``` or ```tf.get_variable```\n",
    "    - You can initialize them using ```tf.contrib.layers.xavier_initializer```(see https://www.tensorflow.org/api_docs/python/tf/contrib/layers/xavier_initializer)\n",
    "- Perform the convolution using ```tf.nn.conv2d``` \n",
    "- Apply the activation function using ```tf.nn.relu```\n",
    "- Perform the max pooling using ```tf.nn.max_pool```\n",
    "- Flatten the output of the convolution using ```tf.contrib.layers.flatten```\n",
    "- Perform the Fully-Connected part using ```tf.contrib.layers.fully_connected```\n",
    "\n",
    "Also, note that in Tensorflow, you can carry out the softmax + cross entropy all in one step with the following function :\n",
    "\n",
    "- ```tf.nn.softmax_cross_entropy_with_logits()```\n",
    "\n",
    "This has the advantage of being optimised and stabilised by the programmers who wrote Tensorflow, so that you do not have numerical problems.\n",
    "\n",
    "$\\textbf{IMPORTANT NOTE}$ : Please note that this part in Tensorflow is just so that you have had some experience with CNNs in Tensorflow. So do not spend a lot of time trying to get great accuracy results. If you want to do this, do it in the Keras part."
   ]
  },
  {
   "cell_type": "code",
   "execution_count": 0,
   "metadata": {
    "colab": {},
    "colab_type": "code",
    "id": "hgUmQIf8HDtd"
   },
   "outputs": [],
   "source": [
    "import tensorflow as tf\n",
    "\n",
    "learning_rate = 0.01\n",
    "n_epochs = 20\n",
    "batch_size = 64\n",
    "\n",
    "# number of convolutional filters to use\n",
    "nb_filters = 32\n",
    "# convolution kernel size\n",
    "kernel_size = (3, 3)\n",
    "# size of pooling area for max pooling\n",
    "pool_size = (2, 2)\n",
    "\n",
    "\n",
    "# --- Size of the successice layers\n",
    "n_h_0 = nb_channels\n",
    "n_h_1 = nb_filters\n",
    "n_h_2 = nb_filters\n",
    "n_h_3 = nb_filters"
   ]
  },
  {
   "cell_type": "code",
   "execution_count": 8,
   "metadata": {
    "colab": {
     "base_uri": "https://localhost:8080/",
     "height": 405
    },
    "colab_type": "code",
    "id": "3fScB-ZfHDte",
    "outputId": "92bbef20-2687-44f8-d22f-2b370ccc892b"
   },
   "outputs": [
    {
     "name": "stdout",
     "output_type": "stream",
     "text": [
      "WARNING:tensorflow:\n",
      "The TensorFlow contrib module will not be included in TensorFlow 2.0.\n",
      "For more information, please see:\n",
      "  * https://github.com/tensorflow/community/blob/master/rfcs/20180907-contrib-sunset.md\n",
      "  * https://github.com/tensorflow/addons\n",
      "  * https://github.com/tensorflow/io (for I/O related ops)\n",
      "If you depend on functionality not listed there, please file an issue.\n",
      "\n",
      "WARNING:tensorflow:From /usr/local/lib/python3.6/dist-packages/tensorflow_core/contrib/layers/python/layers/layers.py:1634: flatten (from tensorflow.python.layers.core) is deprecated and will be removed in a future version.\n",
      "Instructions for updating:\n",
      "Use keras.layers.flatten instead.\n",
      "WARNING:tensorflow:From /usr/local/lib/python3.6/dist-packages/tensorflow_core/python/layers/core.py:332: Layer.apply (from tensorflow.python.keras.engine.base_layer) is deprecated and will be removed in a future version.\n",
      "Instructions for updating:\n",
      "Please use `layer.__call__` method instead.\n",
      "WARNING:tensorflow:From <ipython-input-8-088d296f890e>:48: softmax_cross_entropy_with_logits (from tensorflow.python.ops.nn_ops) is deprecated and will be removed in a future version.\n",
      "Instructions for updating:\n",
      "\n",
      "Future major versions of TensorFlow will allow gradients to flow\n",
      "into the labels input on backprop by default.\n",
      "\n",
      "See `tf.nn.softmax_cross_entropy_with_logits_v2`.\n",
      "\n"
     ]
    }
   ],
   "source": [
    "tf.reset_default_graph()\n",
    "\n",
    "# input tensor are of shape [batch, in_height, in_width, in_channels]  \n",
    "# filter / kernel tensor are of shape [filter_height, filter_width, in_channels, out_channels]\n",
    "\n",
    "# --- START CODE HERE\n",
    "# Define placeholder for input and output\n",
    "X_input = tf.placeholder(\"float32\", shape=(None, img_rows, img_cols, nb_channels), name=\"input\")\n",
    "Y_output = tf.placeholder(\"float32\", shape=(None, nb_classes), name=\"output\")\n",
    "\n",
    "# Define variables\n",
    "weights = {\n",
    "    'wc1': tf.get_variable('W0', shape=(kernel_size[0],kernel_size[1],n_h_0,n_h_1), initializer=tf.contrib.layers.xavier_initializer()), \n",
    "    'wc2': tf.get_variable('W1', shape=(kernel_size[0],kernel_size[1],n_h_1,n_h_2), initializer=tf.contrib.layers.xavier_initializer()), \n",
    "    'wc3': tf.get_variable('W2', shape=(kernel_size[0],kernel_size[1],n_h_2,n_h_3), initializer=tf.contrib.layers.xavier_initializer())\n",
    "}\n",
    "biases = {\n",
    "    'bc1': tf.get_variable('B0', shape=(n_h_1), initializer=tf.contrib.layers.xavier_initializer()),\n",
    "    'bc2': tf.get_variable('B1', shape=(n_h_2), initializer=tf.contrib.layers.xavier_initializer()),\n",
    "    'bc3': tf.get_variable('B2', shape=(n_h_3), initializer=tf.contrib.layers.xavier_initializer())\n",
    "}\n",
    "\n",
    "# Define the model\n",
    "## Conv1\n",
    "conv1 = tf.nn.bias_add(tf.nn.conv2d(X_input, weights['wc1'], strides=[1, 1], padding='SAME'),\n",
    "                             biases['bc1'])\n",
    "conv1 = tf.nn.relu(conv1)\n",
    "\n",
    "## Conv2\n",
    "conv2 = tf.nn.bias_add(tf.nn.conv2d(conv1, weights['wc2'], strides=[1, 1], padding='SAME'),\n",
    "                             biases['bc2'])\n",
    "conv2 = tf.nn.relu(conv2)\n",
    "conv2 = tf.nn.max_pool(conv2, ksize=pool_size, strides=pool_size,padding='SAME')\n",
    "\n",
    "## Conv3\n",
    "conv3 = tf.nn.bias_add(tf.nn.conv2d(conv2, weights['wc3'], strides=[1, 1], padding='SAME'),\n",
    "                             biases['bc3'])\n",
    "conv3 = tf.nn.relu(conv3)\n",
    "conv3 = tf.nn.max_pool(conv3, ksize=pool_size, strides=pool_size,padding='SAME')\n",
    "\n",
    "## FC\n",
    "fc = tf.contrib.layers.flatten(conv3)\n",
    "fc = tf.contrib.layers.fully_connected(fc,nb_classes, activation_fn=None)\n",
    "Z4 = fc\n",
    "\n",
    "# --- END CODE HERE\n",
    "\n",
    "cost = tf.reduce_mean(tf.nn.softmax_cross_entropy_with_logits(logits = Z4, labels = Y_output))\n",
    "optimizer = tf.train.AdamOptimizer(learning_rate = learning_rate).minimize(cost)"
   ]
  },
  {
   "cell_type": "markdown",
   "metadata": {
    "colab_type": "text",
    "id": "zk0JgxMZHDtg"
   },
   "source": [
    "## Train the model"
   ]
  },
  {
   "cell_type": "code",
   "execution_count": 9,
   "metadata": {
    "colab": {
     "base_uri": "https://localhost:8080/",
     "height": 680
    },
    "colab_type": "code",
    "id": "kfAQR-wVHDth",
    "outputId": "86735dff-7bf3-42a6-da1d-b4e5f9536a9f"
   },
   "outputs": [
    {
     "name": "stdout",
     "output_type": "stream",
     "text": [
      "Cost after epoch 0: 2.235506\n",
      "Cost after epoch 1: 1.876066\n",
      "Cost after epoch 2: 1.671968\n",
      "Cost after epoch 3: 1.605194\n",
      "Cost after epoch 4: 1.538222\n",
      "Cost after epoch 5: 1.492359\n",
      "Cost after epoch 6: 1.454168\n",
      "Cost after epoch 7: 1.413546\n",
      "Cost after epoch 8: 1.412484\n",
      "Cost after epoch 9: 1.404810\n",
      "Cost after epoch 10: 1.369418\n",
      "Cost after epoch 11: 1.331563\n",
      "Cost after epoch 12: 1.327725\n",
      "Cost after epoch 13: 1.327829\n",
      "Cost after epoch 14: 1.310885\n",
      "Cost after epoch 15: 1.312907\n",
      "Cost after epoch 16: 1.300785\n",
      "Cost after epoch 17: 1.308598\n",
      "Cost after epoch 18: 1.296123\n",
      "Cost after epoch 19: 1.272320\n"
     ]
    },
    {
     "data": {
      "image/png": "[encoded data removed]",
      "text/plain": [
       "<Figure size 432x288 with 1 Axes>"
      ]
     },
     "metadata": {
      "tags": []
     },
     "output_type": "display_data"
    },
    {
     "name": "stdout",
     "output_type": "stream",
     "text": [
      "Tensor(\"Mean_1:0\", shape=(), dtype=float32)\n",
      "Train Accuracy: 0.5691\n",
      "Test Accuracy: 0.4615\n"
     ]
    }
   ],
   "source": [
    "init = tf.global_variables_initializer()\n",
    "n_batches = int(np.ceil(X_train.shape[0] / float(batch_size)))\n",
    "costs = []\n",
    "\n",
    "with tf.Session() as sess:\n",
    "    sess.run(init)\n",
    "    \n",
    "    for epoch in range(n_epochs):\n",
    "        minibatch_cost = 0.\n",
    "        for batch_idx in range(n_batches):\n",
    "            # BEGIN CODE HERE\n",
    "            _ , temp_cost = sess.run([optimizer,cost], feed_dict={\n",
    "                                                                  X_input: X_train[batch_idx*batch_size : min((batch_idx+1)*batch_size, len(X_train))], \n",
    "                                                                  Y_output: Y_train[batch_idx*batch_size : min((batch_idx+1)*batch_size, len(Y_train))]})\n",
    "            # END CODE HERE\n",
    "            minibatch_cost += temp_cost / n_batches\n",
    "\n",
    "        if epoch % 1 == 0:\n",
    "            print (\"Cost after epoch %i: %f\" % (epoch, minibatch_cost))\n",
    "            \n",
    "        costs.append(minibatch_cost) \n",
    "        \n",
    "    plt.plot(np.squeeze(costs))\n",
    "    plt.ylabel('cost')\n",
    "    plt.xlabel('iterations (per tens)')\n",
    "    plt.title(\"Learning rate =\" + str(learning_rate))\n",
    "    plt.show()\n",
    "\n",
    "    # Calculate the correct predictions\n",
    "    predict_op = tf.argmax(Z4, 1)\n",
    "    correct_prediction = tf.equal(predict_op, tf.argmax(Y_output, 1))\n",
    "\n",
    "    # Calculate accuracy on the test set\n",
    "    accuracy = tf.reduce_mean(tf.cast(correct_prediction, \"float\"))\n",
    "    print(accuracy)\n",
    "    train_accuracy = accuracy.eval({X_input: X_train, Y_output: Y_train})\n",
    "    test_accuracy = accuracy.eval({X_input: X_test, Y_output: Y_test})\n",
    "    print(\"Train Accuracy:\", train_accuracy)\n",
    "    print(\"Test Accuracy:\", test_accuracy)\n",
    "    \n"
   ]
  },
  {
   "cell_type": "markdown",
   "metadata": {
    "colab_type": "text",
    "id": "_EjDrS83HDtj"
   },
   "source": [
    "The train accuracy after 20 epochs should be around 0.5. You do not have to push the training further than this, just make sure that the loss decreases and that the accuracy is reasonable. We will now create the same network in Keras."
   ]
  },
  {
   "cell_type": "markdown",
   "metadata": {
    "colab_type": "text",
    "id": "McSayz5ZHDtj"
   },
   "source": [
    "# 2. CNN with keras"
   ]
  },
  {
   "cell_type": "markdown",
   "metadata": {
    "colab_type": "text",
    "id": "V0ZeLKczHDtk"
   },
   "source": [
    "We are now going to create the same network with Keras. As we shall see, the interface is quite simplified in comparison to Tensorflow.\n",
    "\n",
    "## We first import keras packages"
   ]
  },
  {
   "cell_type": "code",
   "execution_count": 8,
   "metadata": {
    "colab": {
     "base_uri": "https://localhost:8080/",
     "height": 33
    },
    "colab_type": "code",
    "id": "QpY2SJl9HDtk",
    "outputId": "6060c5be-7ca1-4852-abc8-5ac27a87d5c4"
   },
   "outputs": [
    {
     "name": "stdout",
     "output_type": "stream",
     "text": [
      "2.2.5\n"
     ]
    }
   ],
   "source": [
    "import keras\n",
    "from keras.models import Sequential, Model\n",
    "from keras.layers import Dense, Dropout, Activation, Flatten, Input\n",
    "from keras.layers import Conv2D, MaxPooling2D\n",
    "from keras import optimizers\n",
    "print(keras.__version__)"
   ]
  },
  {
   "cell_type": "markdown",
   "metadata": {
    "colab_type": "text",
    "id": "3xTCPkBrHDtm"
   },
   "source": [
    "## We define the parameters of the model, and of the training"
   ]
  },
  {
   "cell_type": "code",
   "execution_count": 0,
   "metadata": {
    "colab": {},
    "colab_type": "code",
    "id": "ELfQdn5CHDtn"
   },
   "outputs": [],
   "source": [
    "input_shape = (img_rows, img_cols, nb_channels)"
   ]
  },
  {
   "cell_type": "markdown",
   "metadata": {
    "colab_type": "text",
    "id": "73cd6px5HDto"
   },
   "source": [
    "## Creating the CNN model in Keras using the Sequential API\n",
    "\n",
    "Keras has a simple way of adding layers to create a neural network. First, you can indicate to Keras that the model is 'sequential', that is to say, a straight-forward CNN. For this, you can use the following function :\n",
    "- ```model = Sequential()```\n",
    "\n",
    "After this, you can add layers with the function.\n",
    "\n",
    "- ```model.add()```\n",
    "\n",
    "You can then use the ```Conv2D```, ```Activation```, ```MaxPooling2D```, ```Flatten``` and ```Dense``` (fully connected) functions to specify different layer types. Note that in the case of this approach, you will have to specify the input image size in the first layer of the network. So, for example, if the first layer is convolutional :\n",
    "\n",
    "- model = Sequential()\n",
    "- model.add(Conv2D(nb_filters, kernel_size, input_shape=input_shape, name='Conv1'))\n",
    "\n",
    "\n",
    "## Creating the CNN model in Keras using the standard API\n",
    "\n",
    "Otherwise, another approach to creating the model is to explicitly create the input variable, and just cascade the different functions, as in Tensorflow. So, for the same example, we would have :\n",
    "\n",
    "- input = Input(shape=(img_rows,img_cols,nb_channels))\n",
    "- output = Conv2D(input_shape=self.img_shape,filters=nb_filters,kernel_size=kernel_size)(input)\n",
    "- model = Model(input, output)\n",
    "\n",
    "Create your CNN now with the network parameters specified above."
   ]
  },
  {
   "cell_type": "code",
   "execution_count": 10,
   "metadata": {
    "colab": {
     "base_uri": "https://localhost:8080/",
     "height": 170
    },
    "colab_type": "code",
    "id": "yVpA3r_7HDtp",
    "outputId": "7b8e904b-c81a-4666-87a7-d5b249143d31"
   },
   "outputs": [
    {
     "name": "stdout",
     "output_type": "stream",
     "text": [
      "WARNING:tensorflow:From /usr/local/lib/python3.6/dist-packages/keras/backend/tensorflow_backend.py:66: The name tf.get_default_graph is deprecated. Please use tf.compat.v1.get_default_graph instead.\n",
      "\n",
      "WARNING:tensorflow:From /usr/local/lib/python3.6/dist-packages/keras/backend/tensorflow_backend.py:541: The name tf.placeholder is deprecated. Please use tf.compat.v1.placeholder instead.\n",
      "\n",
      "WARNING:tensorflow:From /usr/local/lib/python3.6/dist-packages/keras/backend/tensorflow_backend.py:4432: The name tf.random_uniform is deprecated. Please use tf.random.uniform instead.\n",
      "\n",
      "WARNING:tensorflow:From /usr/local/lib/python3.6/dist-packages/keras/backend/tensorflow_backend.py:4267: The name tf.nn.max_pool is deprecated. Please use tf.nn.max_pool2d instead.\n",
      "\n"
     ]
    }
   ],
   "source": [
    "# --- START CODE HERE\n",
    "model = Sequential()\n",
    "model.add(Conv2D(nb_filters, kernel_size, input_shape=input_shape, padding='SAME', name='Conv1'))\n",
    "model.add(Activation('relu', name='Relu1'))\n",
    "model.add(Conv2D(nb_filters, kernel_size, padding='SAME', name='Conv2'))\n",
    "model.add(Activation('relu', name='Relu2'))\n",
    "model.add(MaxPooling2D(pool_size, name='MaxPool2'))\n",
    "model.add(Conv2D(nb_filters, kernel_size, padding='SAME', name='Conv3'))\n",
    "model.add(Activation('relu', name='Relu3'))\n",
    "model.add(MaxPooling2D(pool_size, name='MaxPool3'))\n",
    "model.add(Flatten())\n",
    "model.add(Dense(nb_classes, activation='softmax', name='output'))\n",
    "# --- END CODE HERE"
   ]
  },
  {
   "cell_type": "markdown",
   "metadata": {
    "colab_type": "text",
    "id": "btAHuyF3HDtr"
   },
   "source": [
    "## Compile the model\n",
    "\n",
    "We define here the ```loss``` that we will minimize and the ```optimizer``` (the specific algorithm used to perform gradient descent)."
   ]
  },
  {
   "cell_type": "code",
   "execution_count": 11,
   "metadata": {
    "colab": {
     "base_uri": "https://localhost:8080/",
     "height": 104
    },
    "colab_type": "code",
    "id": "Hax1oheDHDtr",
    "outputId": "377f5460-7ab5-4440-e848-60e2e1b84c41"
   },
   "outputs": [
    {
     "name": "stdout",
     "output_type": "stream",
     "text": [
      "WARNING:tensorflow:From /usr/local/lib/python3.6/dist-packages/keras/optimizers.py:793: The name tf.train.Optimizer is deprecated. Please use tf.compat.v1.train.Optimizer instead.\n",
      "\n",
      "WARNING:tensorflow:From /usr/local/lib/python3.6/dist-packages/keras/backend/tensorflow_backend.py:3576: The name tf.log is deprecated. Please use tf.math.log instead.\n",
      "\n"
     ]
    }
   ],
   "source": [
    "model.compile(loss='categorical_crossentropy',\n",
    "              optimizer=optimizers.Adam(lr=learning_rate),\n",
    "              metrics=['accuracy'])"
   ]
  },
  {
   "cell_type": "markdown",
   "metadata": {
    "colab_type": "text",
    "id": "ZcIJBrgPHDtt"
   },
   "source": [
    "## We display a summary of the model created (but not yet trained)"
   ]
  },
  {
   "cell_type": "code",
   "execution_count": 25,
   "metadata": {
    "colab": {
     "base_uri": "https://localhost:8080/",
     "height": 485
    },
    "colab_type": "code",
    "id": "UhjLndoJHDtu",
    "outputId": "a89036df-b8ef-405c-f8b9-a6ec87b9d9bf"
   },
   "outputs": [
    {
     "name": "stdout",
     "output_type": "stream",
     "text": [
      "Model: \"sequential_3\"\n",
      "_________________________________________________________________\n",
      "Layer (type)                 Output Shape              Param #   \n",
      "=================================================================\n",
      "Conv1 (Conv2D)               (None, 32, 32, 32)        896       \n",
      "_________________________________________________________________\n",
      "Relu1 (Activation)           (None, 32, 32, 32)        0         \n",
      "_________________________________________________________________\n",
      "Conv2 (Conv2D)               (None, 32, 32, 32)        9248      \n",
      "_________________________________________________________________\n",
      "Relu2 (Activation)           (None, 32, 32, 32)        0         \n",
      "_________________________________________________________________\n",
      "MaxPool2 (MaxPooling2D)      (None, 16, 16, 32)        0         \n",
      "_________________________________________________________________\n",
      "Conv3 (Conv2D)               (None, 16, 16, 32)        9248      \n",
      "_________________________________________________________________\n",
      "Relu3 (Activation)           (None, 16, 16, 32)        0         \n",
      "_________________________________________________________________\n",
      "MaxPool3 (MaxPooling2D)      (None, 8, 8, 32)          0         \n",
      "_________________________________________________________________\n",
      "flatten_3 (Flatten)          (None, 2048)              0         \n",
      "_________________________________________________________________\n",
      "output (Dense)               (None, 10)                20490     \n",
      "=================================================================\n",
      "Total params: 39,882\n",
      "Trainable params: 39,882\n",
      "Non-trainable params: 0\n",
      "_________________________________________________________________\n"
     ]
    }
   ],
   "source": [
    "model.summary()"
   ]
  },
  {
   "cell_type": "markdown",
   "metadata": {
    "colab_type": "text",
    "id": "0RRkqgfCHDtv"
   },
   "source": [
    "## Perform the training"
   ]
  },
  {
   "cell_type": "code",
   "execution_count": 12,
   "metadata": {
    "colab": {
     "base_uri": "https://localhost:8080/",
     "height": 1000
    },
    "colab_type": "code",
    "id": "hRid7cdHHDtx",
    "outputId": "bf005028-6e0d-4424-e9e5-a62718e3e940"
   },
   "outputs": [
    {
     "name": "stdout",
     "output_type": "stream",
     "text": [
      "WARNING:tensorflow:From /usr/local/lib/python3.6/dist-packages/tensorflow_core/python/ops/math_grad.py:1424: where (from tensorflow.python.ops.array_ops) is deprecated and will be removed in a future version.\n",
      "Instructions for updating:\n",
      "Use tf.where in 2.0, which has the same broadcast rule as np.where\n",
      "WARNING:tensorflow:From /usr/local/lib/python3.6/dist-packages/keras/backend/tensorflow_backend.py:1033: The name tf.assign_add is deprecated. Please use tf.compat.v1.assign_add instead.\n",
      "\n"
     ]
    },
    {
     "name": "stderr",
     "output_type": "stream",
     "text": [
      "/usr/local/lib/python3.6/dist-packages/ipykernel_launcher.py:5: UserWarning: The `nb_epoch` argument in `fit` has been renamed `epochs`.\n",
      "  \"\"\"\n"
     ]
    },
    {
     "name": "stdout",
     "output_type": "stream",
     "text": [
      "WARNING:tensorflow:From /usr/local/lib/python3.6/dist-packages/keras/backend/tensorflow_backend.py:1020: The name tf.assign is deprecated. Please use tf.compat.v1.assign instead.\n",
      "\n",
      "WARNING:tensorflow:From /usr/local/lib/python3.6/dist-packages/keras/backend/tensorflow_backend.py:3005: The name tf.Session is deprecated. Please use tf.compat.v1.Session instead.\n",
      "\n",
      "Train on 10000 samples, validate on 10000 samples\n",
      "Epoch 1/20\n",
      "WARNING:tensorflow:From /usr/local/lib/python3.6/dist-packages/keras/backend/tensorflow_backend.py:190: The name tf.get_default_session is deprecated. Please use tf.compat.v1.get_default_session instead.\n",
      "\n",
      "WARNING:tensorflow:From /usr/local/lib/python3.6/dist-packages/keras/backend/tensorflow_backend.py:197: The name tf.ConfigProto is deprecated. Please use tf.compat.v1.ConfigProto instead.\n",
      "\n",
      "WARNING:tensorflow:From /usr/local/lib/python3.6/dist-packages/keras/backend/tensorflow_backend.py:207: The name tf.global_variables is deprecated. Please use tf.compat.v1.global_variables instead.\n",
      "\n",
      "WARNING:tensorflow:From /usr/local/lib/python3.6/dist-packages/keras/backend/tensorflow_backend.py:216: The name tf.is_variable_initialized is deprecated. Please use tf.compat.v1.is_variable_initialized instead.\n",
      "\n",
      "WARNING:tensorflow:From /usr/local/lib/python3.6/dist-packages/keras/backend/tensorflow_backend.py:223: The name tf.variables_initializer is deprecated. Please use tf.compat.v1.variables_initializer instead.\n",
      "\n",
      "10000/10000 [==============================] - 43s 4ms/step - loss: 2.1258 - acc: 0.2172 - val_loss: 2.0326 - val_acc: 0.2600\n",
      "Epoch 2/20\n",
      "10000/10000 [==============================] - 43s 4ms/step - loss: 1.8827 - acc: 0.3130 - val_loss: 1.8395 - val_acc: 0.3480\n",
      "Epoch 3/20\n",
      "10000/10000 [==============================] - 43s 4ms/step - loss: 1.8190 - acc: 0.3454 - val_loss: 1.8327 - val_acc: 0.3424\n",
      "Epoch 4/20\n",
      "10000/10000 [==============================] - 42s 4ms/step - loss: 1.7831 - acc: 0.3587 - val_loss: 1.8369 - val_acc: 0.3454\n",
      "Epoch 5/20\n",
      "10000/10000 [==============================] - 42s 4ms/step - loss: 1.7402 - acc: 0.3752 - val_loss: 1.7308 - val_acc: 0.3784\n",
      "Epoch 6/20\n",
      "10000/10000 [==============================] - 42s 4ms/step - loss: 1.6575 - acc: 0.4053 - val_loss: 1.6775 - val_acc: 0.3898\n",
      "Epoch 7/20\n",
      "10000/10000 [==============================] - 43s 4ms/step - loss: 1.6025 - acc: 0.4243 - val_loss: 1.6429 - val_acc: 0.4090\n",
      "Epoch 8/20\n",
      "10000/10000 [==============================] - 42s 4ms/step - loss: 1.5745 - acc: 0.4339 - val_loss: 1.6674 - val_acc: 0.4097\n",
      "Epoch 9/20\n",
      "10000/10000 [==============================] - 43s 4ms/step - loss: 1.5439 - acc: 0.4434 - val_loss: 1.6139 - val_acc: 0.4195\n",
      "Epoch 10/20\n",
      "10000/10000 [==============================] - 42s 4ms/step - loss: 1.5070 - acc: 0.4623 - val_loss: 1.6309 - val_acc: 0.4238\n",
      "Epoch 11/20\n",
      "10000/10000 [==============================] - 42s 4ms/step - loss: 1.4832 - acc: 0.4718 - val_loss: 1.7923 - val_acc: 0.4005\n",
      "Epoch 12/20\n",
      "10000/10000 [==============================] - 42s 4ms/step - loss: 1.4818 - acc: 0.4720 - val_loss: 1.6191 - val_acc: 0.4229\n",
      "Epoch 13/20\n",
      "10000/10000 [==============================] - 42s 4ms/step - loss: 1.4721 - acc: 0.4720 - val_loss: 1.6705 - val_acc: 0.4145\n",
      "Epoch 14/20\n",
      "10000/10000 [==============================] - 42s 4ms/step - loss: 1.4475 - acc: 0.4894 - val_loss: 1.5936 - val_acc: 0.4364\n",
      "Epoch 15/20\n",
      "10000/10000 [==============================] - 42s 4ms/step - loss: 1.4399 - acc: 0.4901 - val_loss: 1.5836 - val_acc: 0.4490\n",
      "Epoch 16/20\n",
      "10000/10000 [==============================] - 44s 4ms/step - loss: 1.4223 - acc: 0.4927 - val_loss: 1.5805 - val_acc: 0.4483\n",
      "Epoch 17/20\n",
      "10000/10000 [==============================] - 43s 4ms/step - loss: 1.4178 - acc: 0.4968 - val_loss: 1.7307 - val_acc: 0.4172\n",
      "Epoch 18/20\n",
      "10000/10000 [==============================] - 42s 4ms/step - loss: 1.4321 - acc: 0.4886 - val_loss: 1.6009 - val_acc: 0.4410\n",
      "Epoch 19/20\n",
      "10000/10000 [==============================] - 42s 4ms/step - loss: 1.3916 - acc: 0.5091 - val_loss: 1.5921 - val_acc: 0.4343\n",
      "Epoch 20/20\n",
      "10000/10000 [==============================] - 42s 4ms/step - loss: 1.4053 - acc: 0.5001 - val_loss: 1.6023 - val_acc: 0.4435\n"
     ]
    },
    {
     "data": {
      "text/plain": [
       "<keras.callbacks.History at 0x7f54e7de5e80>"
      ]
     },
     "execution_count": 12,
     "metadata": {
      "tags": []
     },
     "output_type": "execute_result"
    }
   ],
   "source": [
    "model.fit(X_train, Y_train,\n",
    "          batch_size=batch_size, \n",
    "          nb_epoch=n_epochs,\n",
    "          verbose=1, \n",
    "          validation_data=(X_test, Y_test))"
   ]
  },
  {
   "cell_type": "markdown",
   "metadata": {
    "colab_type": "text",
    "id": "bnBoTwDmHDt1"
   },
   "source": [
    "## We evaluate the performances of the model on the test data"
   ]
  },
  {
   "cell_type": "code",
   "execution_count": 13,
   "metadata": {
    "colab": {
     "base_uri": "https://localhost:8080/",
     "height": 50
    },
    "colab_type": "code",
    "id": "pt9XvRzhHDt4",
    "outputId": "5a140ade-19b8-4254-8f46-de0e4b2d74f9"
   },
   "outputs": [
    {
     "name": "stdout",
     "output_type": "stream",
     "text": [
      "Test score: 1.6022663261413574\n",
      "Test accuracy: 0.4435\n"
     ]
    }
   ],
   "source": [
    "score = model.evaluate(X_test, Y_test, verbose=False)\n",
    "print('Test score:', score[0])\n",
    "print('Test accuracy:', score[1])"
   ]
  },
  {
   "cell_type": "markdown",
   "metadata": {
    "colab_type": "text",
    "id": "Fd9fRBi3HDuB"
   },
   "source": [
    "Let's take a look at what the network has learned. What do you think ?"
   ]
  },
  {
   "cell_type": "code",
   "execution_count": 14,
   "metadata": {
    "colab": {
     "base_uri": "https://localhost:8080/",
     "height": 338
    },
    "colab_type": "code",
    "id": "6ERJ0wXeHDuB",
    "outputId": "5536915b-92e7-4bc2-ddf0-be1e0dd509b6"
   },
   "outputs": [
    {
     "data": {
      "image/png": "[encoded data removed]",
      "text/plain": [
       "<Figure size 720x432 with 10 Axes>"
      ]
     },
     "metadata": {
      "tags": []
     },
     "output_type": "display_data"
    }
   ],
   "source": [
    "plt.figure(figsize=(10, 6))\n",
    "for idx,i in enumerate(range(100,110)):\n",
    "    plt.subplot(2, 5, idx+1)\n",
    "    rand_ind = np.random.randint(0,X_test.shape[0])\n",
    "    predicted_class = np.argmax(np.squeeze(model.predict(np.expand_dims(X_test[rand_ind,:,:,:],axis=0))))\n",
    "    plt.imshow(X_test[rand_ind,:,:,:])\n",
    "    plt.title(cifar_10_list[int(predicted_class)])"
   ]
  },
  {
   "cell_type": "markdown",
   "metadata": {
    "colab_type": "text",
    "id": "x817_m_PHDuD"
   },
   "source": [
    "## Now, display all (32) trained filters of the first layer\n",
    "\n",
    "You can explore the network parameters easily with Keras. For example ```model.layers``` is a list of the layers of the network. Each element of the network contains the information necessary for this layer. To show the content of a layer i, type :\n",
    "\n",
    "```dir(model.layers[i])```\n",
    "\n",
    "Display all (32) trained filters of the first layer :"
   ]
  },
  {
   "cell_type": "code",
   "execution_count": 17,
   "metadata": {
    "colab": {
     "base_uri": "https://localhost:8080/",
     "height": 424
    },
    "colab_type": "code",
    "id": "72prJlPMHDuD",
    "outputId": "537aa722-821d-4b86-843b-56faab4dddcf"
   },
   "outputs": [
    {
     "name": "stdout",
     "output_type": "stream",
     "text": [
      "32\n",
      "(3, 3)\n",
      "(3, 3, 3, 32)\n"
     ]
    },
    {
     "data": {
      "image/png": "[encoded data removed]",
      "text/plain": [
       "<Figure size 720x432 with 32 Axes>"
      ]
     },
     "metadata": {
      "tags": []
     },
     "output_type": "display_data"
    }
   ],
   "source": [
    "print(model.layers[0].filters)\n",
    "print(model.layers[0].kernel_size)\n",
    "print(model.layers[0].get_weights()[0].shape)\n",
    "plt.figure(figsize=(10, 6))\n",
    "for num in range(0,32):\n",
    "    plt.subplot(8, 4, num+1)\n",
    "    # --- START CODE HERE\n",
    "    #plt.imshow((model.layers[0].get_weights()[0][:,:,:,num] * 255).astype(np.uint8))\n",
    "    plt.imshow(model.layers[0].get_weights()[0][:,:,0,num])\n",
    "    plt.title(\"filter {}\".format(num), x=1.8, y=-0.1)\n",
    "    # --- END CODE HERE    "
   ]
  }
 ],
 "metadata": {
  "colab": {
   "name": "tp_deep_learning_cnn_part_1_for_students.ipynb",
   "provenance": []
  },
  "kernelspec": {
   "display_name": "Python 3",
   "language": "python",
   "name": "python3"
  },
  "language_info": {
   "codemirror_mode": {
    "name": "ipython",
    "version": 3
   },
   "file_extension": ".py",
   "mimetype": "text/x-python",
   "name": "python",
   "nbconvert_exporter": "python",
   "pygments_lexer": "ipython3",
   "version": "3.6.1"
  }
 },
 "nbformat": 4,
 "nbformat_minor": 1
}
