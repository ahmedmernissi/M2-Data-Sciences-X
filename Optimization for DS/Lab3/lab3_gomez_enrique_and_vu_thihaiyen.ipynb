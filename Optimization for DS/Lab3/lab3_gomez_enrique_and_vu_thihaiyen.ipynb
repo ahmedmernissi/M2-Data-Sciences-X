{
 "cells": [
  {
   "cell_type": "markdown",
   "metadata": {
    "colab_type": "text",
    "id": "aMBEHXCZwfpY"
   },
   "source": [
    "# Short Lab 3 : Proximal/cyclic/greedy coordinate descent\n",
    "\n",
    "#### Authors: A. Gramfort, M. Massias, P. Ablin\n",
    "\n",
    "## Aim\n",
    "\n",
    "The aim of this material is to code \n",
    "- cyclic and greedy coordinate descent for ordinary least squares (OLS)\n",
    "- proximal coordinate descent for sparse Logistic regression\n",
    "\n",
    "## VERY IMPORTANT\n",
    "\n",
    "- This work **must be done by pairs of students**.\n",
    "- **Each** student must send their work **before the 11th of november at 23:59**, using the **moodle platform**.\n",
    "- This means that **each student in the pair sends the same file**\n",
    "- On the moodle, in the \"Optimization for Data Science\" course, you have a \"devoir\" section called **Rendu TP du 5 novembre 2018**. This is where you submit your jupyter notebook file. \n",
    "- The **name of the file must be** constructed as in the next cell\n",
    "\n",
    "# Gentle reminder: no evaluation if you don't respect this EXACTLY\n",
    "\n",
    "### How to construct the name of your file"
   ]
  },
  {
   "cell_type": "code",
   "execution_count": 1,
   "metadata": {
    "colab": {
     "base_uri": "https://localhost:8080/",
     "height": 34
    },
    "colab_type": "code",
    "id": "tJ34lltOwfpg",
    "outputId": "82b0c779-23b6-4227-cb7c-f553724dedff"
   },
   "outputs": [
    {
     "name": "stdout",
     "output_type": "stream",
     "text": [
      "lab3_gomez_enrique_and_vu_thihaiyen.ipynb\n"
     ]
    }
   ],
   "source": [
    "# Change here using YOUR first and last names\n",
    "fn1 = \"enrique\"\n",
    "ln1 = \"gomez\"\n",
    "fn2 = \"thihaiyen\"\n",
    "ln2 = \"vu\"\n",
    "\n",
    "filename = \"_\".join(map(lambda s: s.strip().lower(), \n",
    "                        [\"lab3\", ln1, fn1, \"and\", ln2, fn2])) + \".ipynb\"\n",
    "print(filename)"
   ]
  },
  {
   "cell_type": "code",
   "execution_count": 2,
   "metadata": {
    "colab": {},
    "colab_type": "code",
    "id": "YZvaAcECwfpu"
   },
   "outputs": [],
   "source": [
    "import numpy as np\n",
    "from numpy.linalg import norm\n",
    "import matplotlib.pyplot as plt"
   ]
  },
  {
   "cell_type": "code",
   "execution_count": 3,
   "metadata": {
    "colab": {},
    "colab_type": "code",
    "id": "BeG9ecPBwfp-"
   },
   "outputs": [],
   "source": [
    "# the usual functions:\n",
    "\n",
    "from numpy.random import multivariate_normal\n",
    "from scipy.linalg.special_matrices import toeplitz\n",
    "from numpy.random import randn\n",
    "\n",
    "\n",
    "def simu(coefs, n_samples=1000, corr=0.5, for_logreg=False):\n",
    "    n_features = len(coefs)\n",
    "    cov = toeplitz(corr ** np.arange(0, n_features))\n",
    "    A = multivariate_normal(np.zeros(n_features), cov, size=n_samples)\n",
    "    b = A.dot(coefs) + randn(n_samples)\n",
    "    if for_logreg:\n",
    "        b = np.sign(b)\n",
    "    return A, b"
   ]
  },
  {
   "cell_type": "markdown",
   "metadata": {
    "colab_type": "text",
    "id": "ZtEK-oNawfqH"
   },
   "source": [
    "## Part 1: Ordinary Least Squares\n",
    "\n",
    "\n",
    "Let $A \\in \\mathbb{R}^{n \\times p}$, $y \\in \\mathbb{R}^n$.\n",
    "We want to use coordinate descent to solve:\n",
    "    $$\\hat w \\in  \\mathrm{arg \\, min \\,} \\frac 12 \\Vert Aw - b \\Vert ^2 $$\n",
    "\n",
    "We ask you to code:\n",
    "- cyclic coordinate descent: at iteration $t$, update feature $j = t \\mod p$\n",
    "- greedy coordinate descent: at iteration $t$, update feature having the largest partial gradient in magnitude, ie $j = \\mathrm{arg\\, max \\,}_{i} \\vert \\nabla_i f(w_t) \\vert$.\n",
    "\n",
    "\n",
    "**WARNING**: You must do this in a clever way, ie such that $p$ updates cost the same as one update of GD."
   ]
  },
  {
   "cell_type": "code",
   "execution_count": 4,
   "metadata": {
    "colab": {},
    "colab_type": "code",
    "id": "0tVaIM2UwfqI"
   },
   "outputs": [],
   "source": [
    "n_features = 100\n",
    "np.random.seed(1970)\n",
    "coefs = np.random.randn(n_features)\n",
    "\n",
    "A, b = simu(coefs, n_samples=1000, for_logreg=False)"
   ]
  },
  {
   "cell_type": "code",
   "execution_count": 5,
   "metadata": {
    "colab": {},
    "colab_type": "code",
    "id": "vzy66-NDwfqK"
   },
   "outputs": [],
   "source": [
    "def cyclic_cd(A, b, n_iter):\n",
    "    n_samples, n_features = A.shape\n",
    "    all_objs = []\n",
    "    \n",
    "    w = np.zeros(n_features)\n",
    "    residuals = b - A.dot(w)\n",
    "    \n",
    "    # TODO\n",
    "    lips_const = np.linalg.norm(A, axis=0) ** 2\n",
    "    # END TODO\n",
    "    \n",
    "    for t in range(n_iter):\n",
    "        j = t % n_features\n",
    "        # TODO\n",
    "        old_w_j = w[j]\n",
    "\n",
    "        w[j] += 1./ lips_const[j] * A[:,j].dot(residuals)\n",
    "        # update residuals:\n",
    "        residuals += ( A[:,j].dot(old_w_j) - A[:,j].dot(w[j]) )\n",
    "        # END TODO\n",
    "        \n",
    "        if t % n_features == 0:\n",
    "            all_objs.append((residuals ** 2).sum() / 2.)\n",
    "    return w, np.array(all_objs)\n",
    "\n",
    "\n",
    "\n",
    "def greedy_cd(A, b, n_iter):\n",
    "    n_samples, n_features = A.shape\n",
    "    all_objs = []\n",
    "    \n",
    "    w = np.zeros(n_features)\n",
    "    \n",
    "    gradient = A.T.dot(A.dot(w) - b)\n",
    "    gram = A.T.dot(A)  # you will need this to keep the gradient up to date\n",
    "    \n",
    "    # TODO\n",
    "    lips_const = np.sum(A * A, axis=0)\n",
    "    # END TODO \n",
    "    \n",
    "    for t in range(n_iter):\n",
    "        # TODO\n",
    "        # choose feature j to update: \n",
    "        j = np.argmax(np.abs(gradient))\n",
    "        old_w_j = w[j]\n",
    "        w[j] -= 1./ lips_const[j] * gradient[j]\n",
    "        # update gradient:\n",
    "        gradient -= ( gram[:,j] * (old_w_j - w[j]) )\n",
    "        # END TODO\n",
    "        if t % n_features == 0:\n",
    "            all_objs.append(0.5 * np.linalg.norm(A.dot(w) - b) ** 2)\n",
    "    \n",
    "    return w, np.array(all_objs)"
   ]
  },
  {
   "cell_type": "markdown",
   "metadata": {
    "colab_type": "text",
    "id": "cuVfULu3wfqM"
   },
   "source": [
    "- compute a precise minimum with your favorite solver\n",
    "- compare the performance of cyclic and greedy CD\n",
    "\n",
    "- from a practical point of view, could you use greedy CD for ridge logistic regression? to solve OLS, but with 100,000 features? Explain your answers."
   ]
  },
  {
   "cell_type": "markdown",
   "metadata": {},
   "source": [
    "#### Compute a minimiser using linalg.solve"
   ]
  },
  {
   "cell_type": "code",
   "execution_count": 6,
   "metadata": {},
   "outputs": [
    {
     "name": "stdout",
     "output_type": "stream",
     "text": [
      "CPU times: user 2.9 ms, sys: 1.66 ms, total: 4.56 ms\n",
      "Wall time: 5.27 ms\n",
      "466.3849765337659\n"
     ]
    }
   ],
   "source": [
    "from scipy import linalg\n",
    "%time w_solve = linalg.solve(np.dot(A.T, A), np.dot(A.T, b))\n",
    "\n",
    "obj_solve = 0.5 * np.linalg.norm(A.dot(w_solve) - b) ** 2\n",
    "print(obj_solve)"
   ]
  },
  {
   "cell_type": "markdown",
   "metadata": {},
   "source": [
    "#### Performances of the two coordinate methods"
   ]
  },
  {
   "cell_type": "code",
   "execution_count": 7,
   "metadata": {},
   "outputs": [
    {
     "name": "stdout",
     "output_type": "stream",
     "text": [
      "========Cyclic Coordinate Descent========\n",
      "CPU times: user 239 ms, sys: 16.7 ms, total: 255 ms\n",
      "Wall time: 157 ms\n",
      "466.384976533766\n"
     ]
    }
   ],
   "source": [
    "print(\"========Cyclic Coordinate Descent========\")\n",
    "%time w_cyclic,objs_cyclic = cyclic_cd(A,b,10000)\n",
    "print(objs_cyclic[-1])"
   ]
  },
  {
   "cell_type": "code",
   "execution_count": 8,
   "metadata": {
    "colab": {
     "base_uri": "https://localhost:8080/",
     "height": 68
    },
    "colab_type": "code",
    "id": "VlmIoEPqeAtq",
    "outputId": "bcd69b41-f6d3-4724-da2c-d361173db14f"
   },
   "outputs": [
    {
     "name": "stdout",
     "output_type": "stream",
     "text": [
      "========Greedy Coordinate Descent========\n",
      "CPU times: user 181 ms, sys: 18.7 ms, total: 200 ms\n",
      "Wall time: 109 ms\n",
      "466.3849765337658\n"
     ]
    }
   ],
   "source": [
    "print(\"========Greedy Coordinate Descent========\")\n",
    "%time w_greedy,objs_greedy = greedy_cd(A,b,10000)\n",
    "print(objs_greedy[-1])"
   ]
  },
  {
   "cell_type": "markdown",
   "metadata": {},
   "source": [
    "### Coments \n",
    "\n",
    "We see that the two methods succeed to obtain the true minimum of the problem. The cyclic coordinate descent takes more time than greedy coordinate descent in this case."
   ]
  },
  {
   "cell_type": "code",
   "execution_count": 9,
   "metadata": {
    "colab": {
     "base_uri": "https://localhost:8080/",
     "height": 282
    },
    "colab_type": "code",
    "id": "rKSbqcMMeYwA",
    "outputId": "8385c6e2-4b48-4aa3-db47-2d88e595d0e3"
   },
   "outputs": [
    {
     "data": {
      "text/plain": [
       "Text(0.5, 1.0, 'Comparision of objective function error - CCD and GCD')"
      ]
     },
     "execution_count": 9,
     "metadata": {},
     "output_type": "execute_result"
    },
    {
     "data": {
      "image/png": "[encoded data removed]",
      "text/plain": [
       "<Figure size 432x288 with 1 Axes>"
      ]
     },
     "metadata": {
      "needs_background": "light"
     },
     "output_type": "display_data"
    }
   ],
   "source": [
    "iter_range = np.arange(objs_cyclic.shape[0])+1\n",
    "plt.semilogy(iter_range, objs_cyclic - obj_solve, color='r', label='cyclic coordinate descent')\n",
    "plt.semilogy(iter_range, objs_greedy - obj_solve, color='g', label='greedy coordinate descent')\n",
    "plt.legend()\n",
    "plt.ylabel('$f(\\widehat{w}) - f(w^*)$')\n",
    "plt.xlabel('iterations')\n",
    "plt.title('Comparision of objective function error - CCD and GCD')"
   ]
  },
  {
   "cell_type": "markdown",
   "metadata": {},
   "source": [
    "### Coments \n",
    "\n",
    "We observe that the greedy coordinate descent is faster than the cyclic coordinate descent."
   ]
  },
  {
   "cell_type": "markdown",
   "metadata": {},
   "source": [
    "##### For logistic regression,\n",
    "the gradient is written as the sum of functions of $\\exp(-b_i a_i^\\top w)$. Therefore, we cannot update the gradient for each coordinate update with a constant cost as in the least square lost, which makes the greedy coordinate descent much more costly than cyclic coordinate descent or gradient descent. So the use of greedy CD is not pratical in this case. "
   ]
  },
  {
   "cell_type": "markdown",
   "metadata": {},
   "source": [
    "##### For OLS with many features"
   ]
  },
  {
   "cell_type": "code",
   "execution_count": 10,
   "metadata": {},
   "outputs": [],
   "source": [
    "n_features = 1000\n",
    "np.random.seed(1970)\n",
    "coefs = np.random.randn(n_features)\n",
    "\n",
    "A, b = simu(coefs, n_samples=100, for_logreg=False)"
   ]
  },
  {
   "cell_type": "code",
   "execution_count": 11,
   "metadata": {},
   "outputs": [
    {
     "name": "stdout",
     "output_type": "stream",
     "text": [
      "========Cyclic Coordinate Descent========\n",
      "CPU times: user 136 ms, sys: 14.3 ms, total: 150 ms\n",
      "Wall time: 89.4 ms\n",
      "1.0155766052493663e-23\n"
     ]
    }
   ],
   "source": [
    "print(\"========Cyclic Coordinate Descent========\")\n",
    "%time w_cyclic,objs_cyclic = cyclic_cd(A,b,10000)\n",
    "print(objs_cyclic[-1])"
   ]
  },
  {
   "cell_type": "code",
   "execution_count": 12,
   "metadata": {},
   "outputs": [
    {
     "name": "stdout",
     "output_type": "stream",
     "text": [
      "========Greedy Coordinate Descent========\n",
      "CPU times: user 364 ms, sys: 29.8 ms, total: 394 ms\n",
      "Wall time: 220 ms\n",
      "3.134275031530507e-26\n"
     ]
    }
   ],
   "source": [
    "print(\"========Greedy Coordinate Descent========\")\n",
    "%time w_greedy,objs_greedy = greedy_cd(A,b,10000)\n",
    "print(objs_greedy[-1])"
   ]
  },
  {
   "cell_type": "markdown",
   "metadata": {},
   "source": [
    "We observe that in this case the greedy CD is slower than cyclic GD."
   ]
  },
  {
   "cell_type": "markdown",
   "metadata": {},
   "source": [
    "In general, we see that, for each iteration, the step finding $j$ that maximizes the gradient takes $O(p)$ cost, hence for $p$ updates it takes $O(p^2 + pn)$ cost, compared to $O(pn)$ of cyclic GD or GD. By consequence, for $p \\gg n$, greedy CD is more costly than cyclic CD, hence it is not very practical to use greedy CD for high $p$."
   ]
  },
  {
   "cell_type": "markdown",
   "metadata": {
    "colab_type": "text",
    "id": "_TY0IAkxwfqN"
   },
   "source": [
    "## Part 2: Sparse Logistic regression"
   ]
  },
  {
   "cell_type": "markdown",
   "metadata": {
    "colab_type": "text",
    "id": "eV6C6Vc5wfqO"
   },
   "source": [
    "### An important result\n",
    "\n",
    "Remember: we are solving \n",
    "$$\\hat w \\in \\mathrm{arg \\, min} \\sum_{i=1}^{n} \\mathrm{log} ( 1 + e^{- y_i w^\\top x_i} )  + \\lambda \\Vert w \\Vert_1$$\n",
    "1) Assuming uniqueness of the solution, show that:\n",
    "$$ \\lambda \\geq \\lambda_{max} \\Leftrightarrow \\hat w = 0$$\n",
    "where $\\lambda_{max} := \\frac 12 \\Vert X^\\top y \\Vert_{\\infty}$.\n",
    "\n",
    "\n",
    "You will need the following beautiful result: for any $w =(w_1, \\dots, w_p) \\in \\mathbb{R}^p$, the subdifferential of the L1 norm at $w$ is:\n",
    "\n",
    "$$\\partial \\Vert \\cdot \\Vert_1 (w) = \\partial \\vert \\cdot \\vert (w_1)  \\times \\dots \\times \\partial \\vert \\cdot \\vert (w_p) $$\n",
    "where $\\times$ is the Cartesian product between sets,\n",
    "and $$ \\partial \\vert \\cdot \\vert (w_j) = \n",
    "\\begin{cases} &w_j / |w_j| &\\mathrm{if} \\quad w_j \\neq 0, \n",
    "         \\\\ & [-1, 1] &\\mathrm{otherwise.} \n",
    "\\end{cases}\n",
    "$$\n",
    "\n",
    "\n",
    "(it should now be easy to find $\\partial \\Vert \\cdot \\Vert_1 (\\mathbf{0}_p)$)"
   ]
  },
  {
   "cell_type": "markdown",
   "metadata": {
    "colab_type": "text",
    "id": "oFoiHXErwfqO"
   },
   "source": [
    "*Proof:*\n",
    "\n",
    "Let: $$ f(w) =  \\sum_{i=1}^{n} \\mathrm{log} ( 1 + e^{- y_i w^\\top x_i} )  + \\lambda \\Vert w \\Vert_1$$\n",
    "\n",
    "Then, $$ \\hat w \\in \\mathrm{arg \\, min} f(w) \\iff \\mathbf{0}_p \\in \\partial f(\\hat w) $$\n",
    "\n",
    "We have: $$ \\partial f(\\hat w) =  \\sum_{i=1}^{n} \\nabla \\mathrm{log} ( 1 + e^{- y_i   \\hat w^\\top x_i} )  + \\lambda \\partial \\Vert \\hat w \\Vert_1 $$\n",
    "\n",
    "$$  \\partial f(\\hat w) = \n",
    "\\begin{pmatrix}\n",
    "\\sum_{i=1}^{n} \\nabla_{w_1} \\mathrm{log} ( 1 + e^{- y_i   \\hat w^\\top x_i} )  + \\lambda \\partial | \\hat w_1 | \\\\\n",
    ". \\\\\n",
    ". \\\\\n",
    ". \\\\\n",
    "\\sum_{i=1}^{n} \\nabla_{w_p} \\mathrm{log} ( 1 + e^{- y_i   \\hat w^\\top x_i} )  + \\lambda \\partial | \\hat w_p | \n",
    "\\end{pmatrix} $$\n",
    "\n",
    "So, $\\forall j \\in \\{1...p\\}$\n",
    "\n",
    "$$ \\partial f_j(\\hat w) \n",
    "= \\sum_{i=1}^{n} \\nabla_{w_j} \\mathrm{log} ( 1 + e^{- y_i   \\hat w^\\top x_i} )  + \\lambda \\partial | \\hat w_j | \n",
    "= \\sum_{i=1}^{n} \\nabla_{w_j} \\frac{-y_iX_{ij}}{1 + e^{ y_i   \\hat w^\\top x_i} }  + \\lambda \\partial | \\hat w_j |$$\n",
    "\n",
    "Then, $$ 0 \\in \\partial f_j(\\hat w) \\iff \\frac{1}{\\lambda}\\sum_{i=1}^{n} \\frac{y_iX_{ij}}{1 + e^{ y_i   \\hat w^\\top x_i} } \\in \\partial | \\hat w_j |$$\n",
    "\n",
    "($\\impliedby$)\n",
    "\n",
    "$ \\hat w = 0 \\iff \\hat w_j = 0 \\iff \\partial | \\hat w_j | = [-1,1]$\n",
    "\n",
    "So, the gradient of the log is bounded by $\\lambda$\n",
    "\n",
    "$$ -\\lambda \\le \\sum_{i=1}^{n} \\frac{y_iX_{ij}}{2 }  \\le \\lambda$$\n",
    "\n",
    "$$ \\iff -\\lambda \\le \\frac{1}{2}y^TX_{:j}  \\le \\lambda$$\n",
    "$$ \\iff \\left\\lvert \\frac{1}{2}y^TX_{:j} \\right\\rvert \\le \\lambda$$\n",
    "\n",
    "That inequality must hold for all $j$. As $y^TX_{:j}$ is upper bounded by its maximum $ \\Vert X^\\top y \\Vert_{\\infty} $, this implies that \n",
    "\n",
    "$$ \\frac{1}{2} \\Vert X^\\top y \\Vert_{\\infty} \\le \\lambda $$\n",
    "\n",
    "$(\\implies)$\n",
    "\n",
    "By applying Jensen's inequality for the convex function $\\mathrm{log}(1 + e^{-x})$ we obtain that\n",
    "$$\\frac{1}{n}\\sum_{i=1}^{n} \\mathrm{log} ( 1 + e^{- y_i w^\\top x_i} ) \\geq \\mathrm{log} ( 1 + e^{-\\frac{1}{n}\\sum_{i=1}^{n} y_i w^\\top x_i} ).$$\n",
    "On the other hand, we have:\n",
    "$$\\left\\lvert-\\frac{1}{n}\\sum_{i=1}^{n} y_i w^\\top x_i\\right\\rvert = \\frac{1}{n}\\left\\lvert\\sum_{i=1}^{n} y_i \\sum_{j=1}^{n} w_j X_{ij}\\right\\rvert = \\frac{1}{n}\\left\\lvert\\sum_{j=1}^{n} w_j \\sum_{i=1}^{n} y_i X_{ij}\\right\\rvert \\leq \\frac{1}{n}\\sum_{j=1}^{n} \\left\\lvert w_j \\right\\rvert \\Vert X^\\top y \\Vert_{\\infty} \\leq \\frac{2\\lambda}{n} \\Vert w \\Vert_1$$\n",
    "Hence\n",
    "$$\\frac{1}{n}\\sum_{i=1}^{n} \\mathrm{log} ( 1 + e^{- y_i w^\\top x_i} ) \\geq \\mathrm{log} ( 1 + e^{-\\frac{1}{n}\\sum_{i=1}^{n} y_i w^\\top x_i} ) \\geq \\mathrm{log} ( 1 + e^{-\\frac{2\\lambda}{n} \\Vert w \\Vert_1} )$$\n",
    "As a result\n",
    "$$ f(w) =  \\sum_{i=1}^{n} \\mathrm{log} ( 1 + e^{- y_i w^\\top x_i} )  + \\lambda \\Vert w \\Vert_1 \\geq n\\mathrm{log} ( 1 + e^{-\\frac{2\\lambda}{n} \\Vert w \\Vert_1} ) + \\lambda \\Vert w\\Vert_1 = nh\\left(\\frac{2\\lambda}{n} \\Vert w \\Vert_1\\right),$$\n",
    "where $h(x) = \\mathrm{log}(1+e^{-x}) + \\frac{x}{2}$. \n",
    "\n",
    "We have $h'(x) = \\frac{e^x - 1}{e^x + 1} > 0, \\quad \\forall x>0$, thus \n",
    "$$h(x) \\geq h(0) \\quad \\forall x\\geq 0 \\quad \\text{ and } \\quad h(x) = h(0) \\iff x= 0.$$\n",
    "We finally deduce that \n",
    "$$ f(w) \\geq nh\\left(\\frac{2\\lambda}{n} \\Vert w \\Vert_1\\right) \\geq nh(0) = f(\\mathbf{0}_p),$$\n",
    "and the equality holds if and only if $w=\\mathbf{0}_p$.\n",
    "\n",
    "As $\\hat w \\in \\mathrm{arg \\, min} f(w)$, we deduce that $\\hat w=\\mathbf{0}_p$."
   ]
  },
  {
   "cell_type": "markdown",
   "metadata": {
    "colab_type": "text",
    "id": "Vw7SIXPlwfqP"
   },
   "source": [
    "2) Show that for sparse Logistic regression the coordinate-wise Lipschitz constant of the smooth term, $\\gamma_j$, can be taken equal to $\\Vert X_j \\Vert^2 / 4$, where $X_j$ denotes the $j$-th column of $X$."
   ]
  },
  {
   "cell_type": "markdown",
   "metadata": {
    "colab_type": "text",
    "id": "-_bRwt3SwfqP"
   },
   "source": [
    "*Proof:*\n",
    "\n",
    "Consider the coordinate-wise functions concerning the smooth term $g_j(w_j)=\\sum_{i=1}^{n} \\mathrm{log} ( 1 + e^{- y_i w^\\top x_i} )$ for $j \\in \\{1, \\dots, p\\}$.\n",
    "\n",
    "Let us compute $\\nabla^2 g_j(w_j)$. We have\n",
    "$$\\nabla g_j(w_j) = \\sum_{i=1}^{n} \\frac{-y_iX_{ij}e^{- y_i w^\\top x_i}}{1 + e^{- y_i w^\\top x_i}} = \\sum_{i=1}^{n} \\frac{-y_iX_{ij}}{1 + e^{y_i w^\\top x_i}}$$\n",
    "and \n",
    "$$ \\nabla^2 g_j(w_j) =  \\sum_{i=1}^{n} \\frac{y_i^2  X_{ij}^2 e^{ y_i   \\hat w^\\top x_i}}{ \\left(1 + e^{ y_i   \\hat w^\\top x_i} \\right)^2 }.$$\n",
    "\n",
    "By using the inequality $(1+x)^2 \\geq 4x$, we deduce that\n",
    "$$\\left\\lvert\\nabla^2 g_j(w_j) \\right\\rvert =  \\sum_{i=1}^{n} \\frac{y_i^2  X_{ij}^2 e^{ y_i   \\hat w^\\top x_i}}{ \\left(1 + e^{ y_i   \\hat w^\\top x_i} \\right)^2 } \\leq \\frac{1}{4}\\sum_{i=1}^{n} y_i^2  X_{ij}^2 = \\frac{1}{4}\\sum_{i=1}^{n}  X_{ij}^2 = \\frac{1}{4} \\Vert X_j \\Vert^2 $$\n",
    "where we have used the fact that $y_i^2 = 1, \\forall i$.\n",
    "\n",
    "As a result, we can choose the Lipschitz constant $\\gamma_j = \\Vert X_j \\Vert^2 / 4$."
   ]
  },
  {
   "cell_type": "markdown",
   "metadata": {
    "colab_type": "text",
    "id": "UOr3rOI0wfqc"
   },
   "source": [
    "You are now ready to code cyclic proximal coordinate descent for sparse Logistic regression:"
   ]
  },
  {
   "cell_type": "markdown",
   "metadata": {
    "colab_type": "text",
    "id": "7mNtNHclwfqd"
   },
   "source": [
    "**WARNING**: the Lasso means linear regression (quadratic fitting term) with L1 penalty. Sparse logistic regression means logistic regression with L1 penalty."
   ]
  },
  {
   "cell_type": "code",
   "execution_count": 13,
   "metadata": {
    "colab": {},
    "colab_type": "code",
    "id": "uMODFq_Ywfqd"
   },
   "outputs": [],
   "source": [
    "X, y = simu(coefs, n_samples=1000, for_logreg=True)\n",
    "lambda_max = norm(X.T.dot(y), ord= np.inf) / 2.\n",
    "lamb = lambda_max / 20.  \n",
    "# much easier to parametrize lambda as a function of lambda_max than \n",
    "# to take random values like 0.1 in previous Labs\n",
    "\n",
    "\n",
    "def sigmoid(t):\n",
    "    \"\"\"Sigmoid function\"\"\"\n",
    "    return 1. / (1. + np.exp(-t))\n",
    "\n",
    "\n",
    "def soft_thresh(x, u):\n",
    "    \"\"\"Soft thresholding of x at level u\"\"\"\n",
    "    return np.sign(x) * np.maximum(0., np.abs(x) - u)\n",
    "\n",
    "\n",
    "def cd_logreg(X, y, lamb, n_iter):\n",
    "    n_samples, n_features = X.shape\n",
    "    w = np.zeros(n_features)\n",
    "    Xw = X.dot(w)\n",
    "\n",
    "    all_objs = np.empty(n_iter)\n",
    "    \n",
    "    # TODO\n",
    "    lips_const = np.sum(X ** 2, axis=0)/4\n",
    "    # END TODO\n",
    "    \n",
    "    for t in range(n_iter):\n",
    "        for j in range(n_features):\n",
    "            old_w_j = w[j]\n",
    "            # TODO\n",
    "            grad_j = np.sum( - y * X[:,j] * sigmoid( - y * Xw) )\n",
    "            w[j] = soft_thresh(old_w_j - grad_j / lips_const[j] ,\n",
    "                               lamb / lips_const[j])\n",
    "            \n",
    "            if old_w_j != w[j]:\n",
    "                Xw += ( ( w[j] - old_w_j )  * X[:,j] )\n",
    "            #END TODO\n",
    "            \n",
    "        all_objs[t] = np.log(1. + np.exp(-y * Xw)).sum() + lamb * norm(w, ord=1)\n",
    "    \n",
    "    return w, all_objs"
   ]
  },
  {
   "cell_type": "code",
   "execution_count": 14,
   "metadata": {
    "colab": {},
    "colab_type": "code",
    "id": "5yaDIb8xkt8Z"
   },
   "outputs": [],
   "source": [
    "n_features = 100\n",
    "np.random.seed(1970)\n",
    "coefs = np.random.randn(n_features)\n",
    "\n",
    "A, b = simu(coefs, n_samples=1000, for_logreg=True)"
   ]
  },
  {
   "cell_type": "code",
   "execution_count": 15,
   "metadata": {
    "colab": {
     "base_uri": "https://localhost:8080/",
     "height": 85
    },
    "colab_type": "code",
    "id": "W8BOvCMBk8Fv",
    "outputId": "8f4bfd05-db64-4dfc-9000-084d70489325"
   },
   "outputs": [
    {
     "name": "stdout",
     "output_type": "stream",
     "text": [
      "CPU times: user 2.46 s, sys: 23.1 ms, total: 2.48 s\n",
      "Wall time: 2.55 s\n",
      "263.86298368058146\n"
     ]
    }
   ],
   "source": [
    "%time w_cd_logreg, objs_cd_logreg = cd_logreg(A,b,lamb,500)\n",
    "\n",
    "print(objs_cd_logreg[-1])"
   ]
  },
  {
   "cell_type": "code",
   "execution_count": 16,
   "metadata": {},
   "outputs": [
    {
     "data": {
      "text/plain": [
       "Text(0.5, 1.0, 'Performance of proximal CD for Sparse logistic regression')"
      ]
     },
     "execution_count": 16,
     "metadata": {},
     "output_type": "execute_result"
    },
    {
     "data": {
      "image/png": "[encoded data removed]",
      "text/plain": [
       "<Figure size 432x288 with 1 Axes>"
      ]
     },
     "metadata": {
      "needs_background": "light"
     },
     "output_type": "display_data"
    }
   ],
   "source": [
    "iter_range = np.arange(objs_cd_logreg.shape[0])+1\n",
    "plt.semilogy(iter_range, objs_cd_logreg - objs_cd_logreg[-1], color='r', label='proximal coordinate descent')\n",
    "plt.legend()\n",
    "plt.ylabel('$f(\\widehat{w}) - f(w^*)$')\n",
    "plt.xlabel('iterations')\n",
    "plt.title('Performance of proximal CD for Sparse logistic regression')"
   ]
  },
  {
   "cell_type": "markdown",
   "metadata": {
    "colab_type": "text",
    "id": "S1QT1Jwxwfqq"
   },
   "source": [
    "# Part 3: Real data\n",
    "\n",
    "We will compare vanilla cyclic CD and ISTA to solve the Lasso on a real dataset, called _leukemia_."
   ]
  },
  {
   "cell_type": "code",
   "execution_count": 17,
   "metadata": {
    "colab": {},
    "colab_type": "code",
    "id": "J_PdVr6xwfqq"
   },
   "outputs": [],
   "source": [
    "from sklearn.datasets import fetch_openml\n",
    "\n",
    "leuk = fetch_openml(\"leukemia\")\n",
    "\n",
    "X = np.asfortranarray(leuk.data)\n",
    "y = np.ones(leuk.target.shape)\n",
    "y[leuk.target == leuk.target[0]] = -1."
   ]
  },
  {
   "cell_type": "code",
   "execution_count": 18,
   "metadata": {
    "colab": {},
    "colab_type": "code",
    "id": "lUpsGAIxwfqs"
   },
   "outputs": [
    {
     "name": "stdout",
     "output_type": "stream",
     "text": [
      "(72, 7129)\n"
     ]
    }
   ],
   "source": [
    "print(X.shape)\n",
    "\n",
    "lambda_max_lasso = norm(X.T.dot(y), ord=np.inf)\n",
    "lambd = lambda_max_lasso / 5."
   ]
  },
  {
   "cell_type": "markdown",
   "metadata": {
    "colab_type": "text",
    "id": "Lwt66e_Uwfq9"
   },
   "source": [
    "Code:\n",
    "- a simple proximal gradient solver for the Lasso\n",
    "- a prox CD solver for the Lasso\n",
    "and compare them on this dataset. \n",
    "Do the plots in terms of epochs, not updates (to be fair to CD)."
   ]
  },
  {
   "cell_type": "markdown",
   "metadata": {},
   "source": [
    "Let us first recall the LASSO problem:\n",
    "$$\n",
    "\\min_w \\left\\{ \\frac{1}{2} \\Vert Xw - y\\Vert_2^2 + \\lambda \\Vert w\\Vert_1 \\right\\}.\n",
    "$$\n",
    "\n",
    "Then, a simple proximal gradient solver for the Lasso could be computed as:\n",
    "$$w^{t+1} = \\text{prox}_{\\frac{\\lambda}{L}\\Vert w\\Vert_1}\\left(w^t - \\frac{1}{L}X^T(Xw^t-y)\\right),$$\n",
    "where $\\text{prox}_{\\lambda\\Vert w\\Vert_1}(w) = \\left(S_{\\lambda}(w_1), \\dots , S_{\\lambda}(w_p)\\right)$ with $S$ being the soft threshold function and $L=\\sigma^2_{\\max}(X)$."
   ]
  },
  {
   "cell_type": "code",
   "execution_count": 19,
   "metadata": {},
   "outputs": [],
   "source": [
    "def lasso_proxGD(X,y,lamb,n_iter):\n",
    "    n_samples, n_features = X.shape\n",
    "    w = np.zeros(n_features)\n",
    "    XTX = np.dot(X.T,X)\n",
    "    XTy = np.dot(X.T,y)\n",
    "\n",
    "    all_objs = np.empty(n_iter)\n",
    "    \n",
    "    lips_const = np.linalg.norm(X, ord=2) ** 2\n",
    "    \n",
    "    for t in range(n_iter):\n",
    "        w = soft_thresh(w - 1./lips_const*(XTX.dot(w)-XTy), \n",
    "                        lamb/lips_const)\n",
    "        \n",
    "        all_objs[t] = 0.5 * np.linalg.norm(X.dot(w) - y) ** 2 + lamb * norm(w, ord=1)\n",
    "    \n",
    "    return w, all_objs"
   ]
  },
  {
   "cell_type": "code",
   "execution_count": 20,
   "metadata": {},
   "outputs": [],
   "source": [
    "def lasso_proxCD(X, y, lamb, n_iter):\n",
    "    n_samples, n_features = X.shape\n",
    "    w = np.zeros(n_features)\n",
    "    residuals = X.dot(w) - y\n",
    "\n",
    "    all_objs = np.empty(n_iter)\n",
    "    \n",
    "    lips_const = np.sum(X ** 2, axis=0)\n",
    "    \n",
    "    for t in range(n_iter):\n",
    "        for j in range(n_features):\n",
    "            old_w_j = w[j]\n",
    "            w[j] = soft_thresh(old_w_j - 1. / lips_const[j] * X[:,j].dot(residuals) ,\n",
    "                               lamb / lips_const[j])\n",
    "            \n",
    "            if old_w_j != w[j]:\n",
    "                residuals += ( - X[:,j].dot(old_w_j) + X[:,j].dot(w[j]) )\n",
    "            \n",
    "        all_objs[t] = (residuals ** 2).sum() / 2. + lamb * norm(w, ord=1)\n",
    "    \n",
    "    return w, all_objs"
   ]
  },
  {
   "cell_type": "code",
   "execution_count": 22,
   "metadata": {},
   "outputs": [
    {
     "name": "stdout",
     "output_type": "stream",
     "text": [
      "CPU times: user 25.7 s, sys: 101 ms, total: 25.8 s\n",
      "Wall time: 25.8 s\n",
      "26.49967787413481\n"
     ]
    }
   ],
   "source": [
    "%time w_proxCD, objs_proxCD = lasso_proxCD(X,y,lambd,500)\n",
    "print(objs_proxCD[-1])"
   ]
  },
  {
   "cell_type": "code",
   "execution_count": 23,
   "metadata": {},
   "outputs": [
    {
     "name": "stdout",
     "output_type": "stream",
     "text": [
      "CPU times: user 27 s, sys: 267 ms, total: 27.3 s\n",
      "Wall time: 13.9 s\n",
      "27.817813445952943\n"
     ]
    }
   ],
   "source": [
    "%time w_proxGD, objs_proxGD = lasso_proxGD(X,y,lambd,500)\n",
    "print(objs_proxGD[-1])"
   ]
  },
  {
   "cell_type": "code",
   "execution_count": 26,
   "metadata": {},
   "outputs": [
    {
     "data": {
      "text/plain": [
       "Text(0.5, 1.0, 'Comparision of objective function error for Lasso - prox GD and prox CD')"
      ]
     },
     "execution_count": 26,
     "metadata": {},
     "output_type": "execute_result"
    },
    {
     "data": {
      "image/png": "[encoded data removed]",
      "text/plain": [
       "<Figure size 432x288 with 1 Axes>"
      ]
     },
     "metadata": {
      "needs_background": "light"
     },
     "output_type": "display_data"
    }
   ],
   "source": [
    "iter_range = np.arange(objs_proxGD.shape[0])+1\n",
    "plt.semilogy(iter_range, objs_proxGD - objs_proxCD[-1], color='r', label='proximal gradient descent')\n",
    "plt.semilogy(iter_range, objs_proxCD - objs_proxCD[-1], color='g', label='proximal coordinate descent')\n",
    "plt.legend()\n",
    "plt.ylabel('$f(\\widehat{w}) - f(w^*)$')\n",
    "plt.xlabel('iterations')\n",
    "plt.title('Comparision of objective function error for Lasso - prox GD and prox CD')"
   ]
  },
  {
   "cell_type": "markdown",
   "metadata": {},
   "source": [
    "### Coments \n",
    "\n",
    "We observe that the proximal CD performs a lot better than proximal GD for the Lasso problem. In fact, if we take the value returned by the prox CD method as the true minimum, we can see that the prox GD converges less quickly than the other method."
   ]
  },
  {
   "cell_type": "code",
   "execution_count": null,
   "metadata": {},
   "outputs": [],
   "source": []
  }
 ],
 "metadata": {
  "anaconda-cloud": {},
  "colab": {
   "collapsed_sections": [],
   "name": "lab3_gomez_enrique_and_vu_thihaiyen.ipynb",
   "provenance": []
  },
  "kernelspec": {
   "display_name": "Python 3",
   "language": "python",
   "name": "python3"
  },
  "language_info": {
   "codemirror_mode": {
    "name": "ipython",
    "version": 3
   },
   "file_extension": ".py",
   "mimetype": "text/x-python",
   "name": "python",
   "nbconvert_exporter": "python",
   "pygments_lexer": "ipython3",
   "version": "3.7.5"
  }
 },
 "nbformat": 4,
 "nbformat_minor": 1
}
