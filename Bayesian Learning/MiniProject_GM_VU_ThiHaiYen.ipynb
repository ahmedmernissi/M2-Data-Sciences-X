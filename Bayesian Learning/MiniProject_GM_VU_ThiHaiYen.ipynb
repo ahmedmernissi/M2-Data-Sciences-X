{
 "cells": [
  {
   "cell_type": "markdown",
   "metadata": {},
   "source": [
    "# Introduction to Bayesian Learning\n",
    "## Mini-Project: Gaussian Mixtures using Variational Bayes and Metropolis-Hastings\n",
    "**Student: VU Thi Hai Yen (haiyen96.hp@gmail.com)**"
   ]
  },
  {
   "cell_type": "markdown",
   "metadata": {},
   "source": [
    "# 0. Install and collect packages"
   ]
  },
  {
   "cell_type": "code",
   "execution_count": null,
   "metadata": {},
   "outputs": [],
   "source": [
    "# install.packages(\"MASS\")\n",
    "# install.packages(\"abind\")\n",
    "# install.packages(\"mnormt\")\n",
    "# install.packages(\"LaplacesDemon\")\n",
    "# install.packages(\"coda\")"
   ]
  },
  {
   "cell_type": "code",
   "execution_count": 1,
   "metadata": {},
   "outputs": [],
   "source": [
    "library(MASS)\n",
    "library(abind)\n",
    "library(mnormt)\n",
    "library(LaplacesDemon)\n",
    "library(coda)"
   ]
  },
  {
   "cell_type": "markdown",
   "metadata": {},
   "source": [
    "# I. Simulation of GMM"
   ]
  },
  {
   "cell_type": "code",
   "execution_count": 2,
   "metadata": {},
   "outputs": [],
   "source": [
    "N <- 500\n",
    "p <- c(0.4, 0.3, 0.3)\n",
    "Mu <- rbind(c(0,0),c(1,0),c(0,1))\n",
    "set.seed(1)\n",
    "Sigma <- rWishart(3, 4, 0.02*diag(2))\n",
    "K = 3"
   ]
  },
  {
   "cell_type": "code",
   "execution_count": 3,
   "metadata": {},
   "outputs": [],
   "source": [
    "n_gaussiens <- rmultinom(1, N, p)"
   ]
  },
  {
   "cell_type": "code",
   "execution_count": 4,
   "metadata": {},
   "outputs": [],
   "source": [
    "X <- matrix(, nrow = 0, ncol = 2)\n",
    "for (i in 1:K) {\n",
    "    X <- rbind(X,mvrnorm(n_gaussiens[i], Mu[i,], Sigma[,,i]))\n",
    "}"
   ]
  },
  {
   "cell_type": "code",
   "execution_count": 5,
   "metadata": {},
   "outputs": [],
   "source": [
    "labs <- c()\n",
    "for (i in 1:K) {\n",
    "    labs <- c(labs,rep(i,n_gaussiens[i]))\n",
    "}"
   ]
  },
  {
   "cell_type": "code",
   "execution_count": 6,
   "metadata": {},
   "outputs": [
    {
     "data": {
      "image/png": "[encoded data removed]",
      "text/plain": [
       "plot without title"
      ]
     },
     "metadata": {},
     "output_type": "display_data"
    }
   ],
   "source": [
    "plot(X,col=labs)"
   ]
  },
  {
   "cell_type": "markdown",
   "metadata": {},
   "source": [
    "We have generated our data set. Let's start with the Variational Bayes algorithms!"
   ]
  },
  {
   "cell_type": "markdown",
   "metadata": {},
   "source": [
    "# II. Variational Bayes"
   ]
  },
  {
   "cell_type": "code",
   "execution_count": 7,
   "metadata": {},
   "outputs": [],
   "source": [
    "#######################'\n",
    "#' 1.  Common functions \n",
    "#######################' \n",
    "\n",
    "gmllk <- function(x , Mu , Sigma , p){\n",
    "    #' Log-likelihood in the Gaussian mixture model. \n",
    "    #' x: dataset: a n*d matrix for n points with d features each.\n",
    "    #' Mu: a k*d matrix with k the number of components: the centers\n",
    "    #' Sigma: a d*d*k array:: the convariance matrices.\n",
    "    #' p: a vector of length k: the mixture weights\n",
    "    #' returns:  the log-likelihood (single number)\n",
    "    k <- length(p)\n",
    "    if(is.vector(x)){\n",
    "        x <- matrix(x, nrow=1)}\n",
    "    n <- nrow(x)\n",
    "    mat_dens <- vapply(1:k, function(j){\n",
    "        dmnorm(x, mean = Mu[j,], varcov = Sigma[,,j], log=FALSE)\n",
    "    }, FUN.VALUE = numeric(n)) ##  n rows, k columns.\n",
    "    if(is.vector(mat_dens)){\n",
    "        mat_dens <- matrix(mat_dens, nrow = 1)\n",
    "    }\n",
    "    vect_dens <-   mat_dens%*%matrix(p,ncol=1) ## vector of size n\n",
    "    return(sum(log(vect_dens)))\n",
    "}\n",
    "\n",
    "\n",
    "gmcdf <- function(x , Mu , Sigma , p)\n",
    "    #' multivariate cumulative distribution function in a GMM. \n",
    "    #' x: a single point (vector of size d)\n",
    "    #' Mu, Sigma, p: see gmllk.\n",
    "    #' returns: the cdf at point x. \n",
    "{\n",
    "    k <- length(p)\n",
    "    vect_cdf <- vapply(1:k, function(j){\n",
    "        pmnorm(x, mean = Mu[j,], varcov = Sigma[,,j])\n",
    "    }, FUN.VALUE = numeric(1))\n",
    "    return(sum(p*vect_cdf))\n",
    "}\n",
    "\n",
    "\n",
    "initPar <- function(x , k){\n",
    "    #' Initialisation for VB based on kmeans. \n",
    "    #'x: dataset: a n*d matrix for n points with d features each.\n",
    "    #'k: number of components for the inferred mixture\n",
    "    #' returns: a list with entries p, Mu, Sigma: respectively a vector of size k (weights), a k*d matrix (centers) and a d*d*k array (empirical covariance matrix)\n",
    "    init <- kmeans(x = x, centers = k, iter.max = 100, nstart = 1,\n",
    "                   algorithm = c(\"Hartigan-Wong\"), trace=FALSE)\n",
    "    Mu <- init$centers\n",
    "    d <- ncol(x)\n",
    "    Sigma <- array(dim=c(d,d,k))\n",
    "    p <- rep(0,k)\n",
    "    for( i in (1:k)){\n",
    "        inds = which(init$cluster==i)\n",
    "        n = length(inds)\n",
    "        tildeX = t(t(x[inds,]) -Mu[i,])  \n",
    "        sig = 1/n * t(tildeX) %*% tildeX\n",
    "        Sigma[,,i] <- sig\n",
    "        p[i] <-  n/nrow(x)\n",
    "    }\n",
    "    return(list(p = p, Mu = Mu, Sigma = Sigma ))\n",
    "}\n",
    "\n",
    "\n",
    "draw_sd <- function(mu , sigma)\n",
    "    #' draws  an ellipsoid  around the mean of a gaussian distribution\n",
    "    #' which corresponds to the density level set of the univariate\n",
    "    #' 0.95 quantile.\n",
    "    #' mu: vector of size d the dimension\n",
    "    #' sigma: a d*d covariance matrix.\n",
    "    #' returns: a 2*100 matrix containing abscissas and ordinates of\n",
    "    #' the ellipsoid to be drawn. \n",
    "{\n",
    "    L <-  chol(sigma)\n",
    "    angles <- seq(0, 2*pi, length.out=100)\n",
    "    U <- 1.64* rbind(cos(angles), sin(angles))\n",
    "    X <- mu + t(L) %*% U\n",
    "    return(X)\n",
    "}\n",
    "\n",
    "nanDetector <- function(X)\n",
    "    #' returns TRUE if X contains NaNs\n",
    "{\n",
    "   # examine data frames\n",
    "   if(is.data.frame(X)){ \n",
    "       return(any(unlist(sapply(X, is.nan))))\n",
    "   }\n",
    "   #  examine vectors, matrices, or arrays\n",
    "   if(is.numeric(X)){\n",
    "       return(any(is.nan(X)))\n",
    "   }\n",
    "   #  examine lists, including nested lists\n",
    "   if(is.list(X)){\n",
    "       return(any(rapply(X, is.nan)))\n",
    "   }\n",
    "   return(FALSE)\n",
    "}\n",
    "\n",
    "wrapper <- function(x , y , FUN, ...)\n",
    "    #' applies a function on a grid with abscissas x, y.\n",
    "    #' x, y: vectors of same length.\n",
    "      {\n",
    "       sapply(seq_along(x), FUN = function(i){FUN(x[i], y[i],...)})\n",
    "      }"
   ]
  },
  {
   "cell_type": "markdown",
   "metadata": {},
   "source": [
    "## II.1. Functions vbMStep, vbEstep, vbalgo"
   ]
  },
  {
   "cell_type": "code",
   "execution_count": 8,
   "metadata": {},
   "outputs": [],
   "source": [
    "################################'\n",
    "##' 2. Variational Bayes functions \n",
    "################################' \n",
    "\n",
    "vbMstep <- function(x , respons , alpha0 ,  W0inv , nu0 , m0 , beta0)\n",
    "    #' x: the data. A n*d matrix \n",
    "    #' respons: current q(z): a n*k matrix (responsibilities r_{nk})\n",
    "    #' alpha0>0: a real.  isotropic dirichlet prior parameter on p\n",
    "    #' W0inv, nu0: parameters for the Wishart prior on Lambda.\n",
    "    #' W0inv: d*d matrix, inverse of the Wishart parameter.\n",
    "    #' nu0 > d-1:  is a real.\n",
    "    #' m0 : mean parameter (d vector) for the Gaussian-Wishart prior on  mu\n",
    "    #' beta0: scale parameter for the gaussian-wishart  prior on mu (>0)\n",
    "    ##' \n",
    "    #' returns: a list made of ( Alpha , Winv, Nu , M , Beta):  optimal parameters for\n",
    "    #' q(p),\n",
    "    #' q(mu_j, Lambda_j), j=1, ...,k: \n",
    "    #' Alpha: k-vector ; Winv: d*d*k array ; Nu: a k-vector ; M: k*d matrix ;\n",
    "    #' Beta: k-vector                   \n",
    "{\n",
    "    K <-  ncol(respons)\n",
    "    d <- ncol(x)\n",
    "    \n",
    "    NK <- apply(respons, 2, sum) # a vector of size k\n",
    "    NK <- sapply(NK, function(x){max(x, 1e-300)}) ## avoids divisions by zero\n",
    "    \n",
    "    ## complete the code (optimal Alpha): vector of size k\n",
    "    Alpha <- alpha0 + NK\n",
    "\n",
    "    ## complete the code (optimal nu): vector of size k\n",
    "    Nu <- nu0 + NK \n",
    "    \n",
    "    ## complete the code (optimal Beta): vector of size k\n",
    "    Beta <- beta0 + NK\n",
    "\n",
    "    ## complete the code: optimal mean parameters m_j for the mu_j's: a k*d matrix\n",
    "    XbarK <- 1/NK*(t(respons)%*%x) # compute x_bar_k: k*d matrix\n",
    "    M <- array(dim=c(K,d))\n",
    "    for (j in (1:K)){\n",
    "       M[j,] <- 1/Beta[j]*(beta0*m0 + NK[j]*XbarK[j,])\n",
    "    }\n",
    "        \n",
    "    \n",
    "    Winv <- array(dim=c(d,d,K))\n",
    "    for( j in (1:K)){\n",
    "        ## compute NkSk: d*d matrix\n",
    "        NkSk <- matrix(respons[,j] %*% t(apply(t(apply(x,1, function(y){y-XbarK[j,]})), 1, function(y) {y %*% t(y)})),d)\n",
    "        ## complete the code: optimal W^{-1}\n",
    "        Winv[,,j] <- W0inv + NkSk + (beta0*NK[j])/(beta0+NK[j])*((XbarK[j,]-m0) %*% t(XbarK[j,]-m0))\n",
    "            ##(inverse of the covariance parameter for Lambda_j)\n",
    "            ## a d*d matrix\n",
    "    }\n",
    "\n",
    "    return(list(Alpha = Alpha, Winv = Winv, Nu = Nu, M= M, Beta =Beta)) \n",
    "}\n",
    "\n",
    "\n",
    "vbEstep <- function(x, Alpha, Winv, Nu, M, Beta)\n",
    "    #' computation of the variational responsibilities. \n",
    "    #' x: the data. A n*d matrix\n",
    "    #' Alpha: a k vector: current dirichlet parameter for q(p)\n",
    "    #' Winv : a d*d*k array: current inverses of the W parameter for the Wishart q(Lambda)\n",
    "    #' Nu: a k vector: current degrees of freedom parameter for the Wishart q(Lambda)\n",
    "    #' M: a k*d matrix: current mean parameters for the Gaussian q(Mu | Lambda)\n",
    "    #' Beta: a k vector: current scale parameters for the Gaussian q(Mu | Lambda)\n",
    "    #' returns: a n*k matrix: the responsibilities for each data point.  \n",
    "{\n",
    "    d <-  ncol(M)\n",
    "    k <- length(Alpha)\n",
    "    N <- nrow(x)\n",
    "    Eloglambda <-  # k vector\n",
    "        sapply(1:k, function(j){\n",
    "            sum(digamma( (Nu[j] + 1 - (1:d) )/2) )+ d * log(2) - log(det(Winv[,,j]))\n",
    "        })\n",
    "    Elogrho <- # k vector\n",
    "        digamma(Alpha) - digamma(sum(Alpha))    \n",
    "    Equadratic <- # k*N  matrix\n",
    "         d / Beta  + Nu * t( sapply(1:k, function(j){ ## a N * k matrix\n",
    "            Wj <- solve(Winv[,,j])\n",
    "            sapply(1:N, function(n){# a N vector\n",
    "                t(M[j,] -x[n, ]) %*% Wj %*% (M[j,] -x[n, ])})\n",
    "        }))\n",
    "    logResponsT <- ## Complete the code: the transpose of\n",
    "        ## the unnormalized log-responsibility matrix, ie. a k * N matrix\n",
    "        apply(- 1/2*Equadratic, 2, function(y){y + Elogrho + 1/2*Eloglambda}) \n",
    "    logRespons <- t(logResponsT) ## N * k\n",
    "    logRespons <- logRespons - apply(logRespons, 1, max) #' avoids numerical precision loss. \n",
    "    respons <- exp(logRespons) ##  N * k matrix\n",
    "    Z <-  apply(respons, 1 , sum ) # N vector\n",
    "    respons <-  respons / Z ##N * k matrix\n",
    "    return(respons)\n",
    "}\n",
    "\n",
    "vbalgo <- function(x, k, alpha0,  W0inv, nu0, m0, beta0, tol=1e-5)\n",
    "    #' x: the data. n*d matrix\n",
    "    #' k: the number of mixture components. \n",
    "    #' alpha0, W0inv, nu0, m0, beta0: prior hyper-parameters, see vbMstep.\n",
    "    #' returns: a list composed of (Alphamat,  Winvarray, Numat, Marray, Betamat, responsarray, stopCriteria):\n",
    "    #'   optimal parameters for q(p), q(mu_j, Lambda_j), j=1, ...,k, and trace of the\n",
    "    ## stopping criteria along the iteration. \n",
    "    #'   Alphamat: K* Tmatrix,  Winvarray: d*d*T array,  Numat: a k*T matrix-vector, \n",
    "    #'   Marray: k*d*T array,  Betamat: k*T matrix, responsarray: n*k*T matrix, \n",
    "    #'   where T is the number of steps.\n",
    "    #' stoppingCriteria: a T-vector:the stopping criterion  at each iteration (the first entry is set to the arbitrary 0 value)\n",
    "{\n",
    "    N <- nrow(x)\n",
    "    d <- ncol(x)\n",
    "    \n",
    "    init <-  initPar(x=x,k=k)\n",
    "    res <- list(Alphamat=matrix(nrow=k, ncol=0),\n",
    "                Winvarray = array(dim=c(d,d,k,0)),\n",
    "                Numat = matrix(nrow=k, ncol=0),\n",
    "                Marray= array(dim=c(k,d,0) ),\n",
    "                Betamat = matrix(nrow=k, ncol=0),\n",
    "                responsarray = array(dim=c(N,k, 0)),\n",
    "                stopCriteria = c(0)\n",
    "                )\n",
    "    \n",
    "    Winvstart <- array(dim=c(d,d,k))\n",
    "    for(j in 1:k){\n",
    "        Winvstart[,,j] <- init$p[j] * N *  init$Sigma[,,j]\n",
    "        }\n",
    "    current <- list( Alpha = N * init$p, \n",
    "                    Winv = Winvstart, \n",
    "                    Nu = N* init$p, \n",
    "                    M = init$Mu,\n",
    "                    Beta = N * init$p)\n",
    "    ## current: current list of hyper parameters for the variational distribution\n",
    "    \n",
    "    continue <- TRUE\n",
    "    niter <- 0\n",
    "    while(continue){        \n",
    "        niter <- niter+1\n",
    "        respons <- vbEstep(x=x, Alpha=current$Alpha, \n",
    "                           Winv=current$Winv, Nu=current$Nu, \n",
    "                           M=current$M, Beta=current$Beta) ## Complete the code\n",
    "            \n",
    "        if(nanDetector(respons)) {stop(\"NaNs detected!\\n\")}\n",
    "        vbOpt <- vbMstep(x=x , respons=respons , \n",
    "                         alpha0=alpha0 ,  W0inv=W0inv , \n",
    "                         nu0=nu0 , m0=m0 , beta0=beta0)## Complete the code\n",
    "            \n",
    "        if(nanDetector(vbOpt)) {stop(\"NaNs detected!\\n\")}\n",
    "        current <- vbOpt\n",
    "\n",
    "        if(niter >=2){\n",
    "            t <- ncol(res$Alphamat)\n",
    "            # Complete the code for computing the stopping\n",
    "                ## criterion at current iteration. \n",
    "            delta <- sqrt(\n",
    "                sum((res$Alphamat[,t] - current$Alpha)^2) + sum((res$Betamat[,t] - current$Beta)^2)\n",
    "              + sum((res$Numat[,t] - current$Nu)^2) + sum((res$Winvarray[,,,t] - current$Winv)^2) \n",
    "              + sum((res$Marray[,,t] - current$M)^2) + sum((res$responsarray[,,t] - respons)^2))\n",
    "            \n",
    "            res$stopCriteria <- c(res$stopCriteria,delta)\n",
    "        }\n",
    "        \n",
    "\n",
    "        \n",
    "        res$Alphamat <- cbind(res$Alphamat, current$Alpha)\n",
    "        res$Winvarray <- abind(res$Winvarray, current$Winv,along=4)\n",
    "        res$Numat <- cbind(res$Numat, current$Nu)\n",
    "        res$Marray <- abind(res$Marray, current$M,along=3)\n",
    "        res$Betamat <- cbind(res$Betamat, current$Beta)\n",
    "        res$responsarray <- abind(res$responsarray, respons,along=3)\n",
    "        \n",
    "            if(niter>=2){\n",
    "                if( niter == 200  ||  delta < tol)              \n",
    "            {continue <- FALSE}\n",
    "        }\n",
    "    }\n",
    "        return(res)\n",
    "        \n",
    "}"
   ]
  },
  {
   "cell_type": "markdown",
   "metadata": {},
   "source": [
    "## II.2. Test the VB algorithm"
   ]
  },
  {
   "cell_type": "markdown",
   "metadata": {},
   "source": [
    "We start running the algorithm, we set here Kfit = 4."
   ]
  },
  {
   "cell_type": "code",
   "execution_count": 9,
   "metadata": {
    "scrolled": false
   },
   "outputs": [
    {
     "data": {
      "text/html": [
       "<ol class=list-inline>\n",
       "\t<li>147.748005696461</li>\n",
       "\t<li>195.548241038158</li>\n",
       "\t<li>157.003753264287</li>\n",
       "\t<li>0.100000001093478</li>\n",
       "</ol>\n"
      ],
      "text/latex": [
       "\\begin{enumerate*}\n",
       "\\item 147.748005696461\n",
       "\\item 195.548241038158\n",
       "\\item 157.003753264287\n",
       "\\item 0.100000001093478\n",
       "\\end{enumerate*}\n"
      ],
      "text/markdown": [
       "1. 147.748005696461\n",
       "2. 195.548241038158\n",
       "3. 157.003753264287\n",
       "4. 0.100000001093478\n",
       "\n",
       "\n"
      ],
      "text/plain": [
       "[1] 147.7480 195.5482 157.0038   0.1000"
      ]
     },
     "metadata": {},
     "output_type": "display_data"
    },
    {
     "data": {
      "text/html": [
       "<table>\n",
       "<tbody>\n",
       "\t<tr><td>-1.299215e-02</td><td> 1.012430e+00</td></tr>\n",
       "\t<tr><td>-2.721257e-03</td><td>-4.138295e-02</td></tr>\n",
       "\t<tr><td> 1.025369e+00</td><td>-1.638918e-02</td></tr>\n",
       "\t<tr><td> 2.722955e-10</td><td>-2.620707e-10</td></tr>\n",
       "</tbody>\n",
       "</table>\n"
      ],
      "text/latex": [
       "\\begin{tabular}{ll}\n",
       "\t -1.299215e-02 &  1.012430e+00\\\\\n",
       "\t -2.721257e-03 & -4.138295e-02\\\\\n",
       "\t  1.025369e+00 & -1.638918e-02\\\\\n",
       "\t  2.722955e-10 & -2.620707e-10\\\\\n",
       "\\end{tabular}\n"
      ],
      "text/markdown": [
       "\n",
       "| -1.299215e-02 |  1.012430e+00 |\n",
       "| -2.721257e-03 | -4.138295e-02 |\n",
       "|  1.025369e+00 | -1.638918e-02 |\n",
       "|  2.722955e-10 | -2.620707e-10 |\n",
       "\n"
      ],
      "text/plain": [
       "     [,1]          [,2]         \n",
       "[1,] -1.299215e-02  1.012430e+00\n",
       "[2,] -2.721257e-03 -4.138295e-02\n",
       "[3,]  1.025369e+00 -1.638918e-02\n",
       "[4,]  2.722955e-10 -2.620707e-10"
      ]
     },
     "metadata": {},
     "output_type": "display_data"
    },
    {
     "data": {
      "image/png": "[encoded data removed]",
      "text/plain": [
       "plot without title"
      ]
     },
     "metadata": {},
     "output_type": "display_data"
    }
   ],
   "source": [
    "#########################'\n",
    "#' 2. VB\n",
    "#########################' \n",
    "#' Bayesian model: \n",
    "#' p ~ dirichlet(alpha);  alpha = (alpha0, ... , alpha0)\n",
    "#' [ xi | p ] ~ Multinomial(p)\n",
    "#' [ mu_j | Lambda_j ] ~ Normal(m0, beta0 Lambda_j^(-1))\n",
    "#' Lambda_j ~ Wishart(W0, nu0)\n",
    "#' [ X| xi=j, mu, Lambda ] ~ Normal (mu_j, Lambda_j^(-1))\n",
    "\n",
    "\n",
    "#' Bayesian model: \n",
    "#' p ~ dirichlet(alpha);  alpha = (alpha0, ... , alpha0)\n",
    "#' [ xi | p ] ~ Multinomial(p)\n",
    "#' [ mu_j | Lambda_j ] ~ Normal(m0, beta0 Lambda_j^(-1))\n",
    "#' Lambda_j ~ Wishart(W0, nu0)\n",
    "#' [ X| xi=j, mu, Lambda ] ~ Normal (mu_j, Lambda_j^(-1))\n",
    "\n",
    "#' hyper-parameters : to be varied \n",
    "alpha0 <- 0.1\n",
    "m0 <- rep(0,2)\n",
    "beta0 <- 0.1\n",
    "W0 <- 1*diag(2)\n",
    "nu0 <- 10\n",
    "#' Run VB \n",
    "#'\n",
    "Kfit <- 4\n",
    "seed <- 10\n",
    "set.seed(seed)\n",
    "outputvb <- vbalgo(x=X,k=Kfit, alpha0 = alpha0, W0inv = solve(W0),\n",
    "                 nu0 = nu0, m0 = m0, beta0=beta0, tol=1e-6)\n",
    "\n",
    "#' plot the Stopping criteria over iterations\n",
    "plot(outputvb$stopCriteria)\n",
    "\n",
    "#' show a summary of VB's output\n",
    "T <- ncol(outputvb$Alphamat)\n",
    "outputvb$Alphamat[,T]\n",
    "outputvb$Marray[,,T] "
   ]
  },
  {
   "cell_type": "markdown",
   "metadata": {},
   "source": [
    "We see the algorithm succeeds to converge to a stationary solution after about 100 iterations. Among the 4 values in the vector Alpha, we see that there is a value nearly to zero. We also see that the last vector in the M matrix is also zero. This suggests that the algorithm manages to reduce to the true number of components in the model. Now we'll visualize the output of VB algorithm to confirm our predictions."
   ]
  },
  {
   "cell_type": "markdown",
   "metadata": {},
   "source": [
    "## II.3. Visualisation of VB's output"
   ]
  },
  {
   "cell_type": "code",
   "execution_count": 12,
   "metadata": {
    "scrolled": false
   },
   "outputs": [
    {
     "name": "stdout",
     "output_type": "stream",
     "text": [
      "p_vb: 0.2952598 0.3907839 0.3137565 0.0001998401 \n",
      "True p: 0.4 0.3 0.3 \n",
      "Mu_vb:\n"
     ]
    },
    {
     "data": {
      "text/html": [
       "<table>\n",
       "<tbody>\n",
       "\t<tr><td>-1.299215e-02</td><td> 1.012430e+00</td></tr>\n",
       "\t<tr><td>-2.721257e-03</td><td>-4.138295e-02</td></tr>\n",
       "\t<tr><td> 1.025369e+00</td><td>-1.638918e-02</td></tr>\n",
       "\t<tr><td> 2.722955e-10</td><td>-2.620707e-10</td></tr>\n",
       "</tbody>\n",
       "</table>\n"
      ],
      "text/latex": [
       "\\begin{tabular}{ll}\n",
       "\t -1.299215e-02 &  1.012430e+00\\\\\n",
       "\t -2.721257e-03 & -4.138295e-02\\\\\n",
       "\t  1.025369e+00 & -1.638918e-02\\\\\n",
       "\t  2.722955e-10 & -2.620707e-10\\\\\n",
       "\\end{tabular}\n"
      ],
      "text/markdown": [
       "\n",
       "| -1.299215e-02 |  1.012430e+00 |\n",
       "| -2.721257e-03 | -4.138295e-02 |\n",
       "|  1.025369e+00 | -1.638918e-02 |\n",
       "|  2.722955e-10 | -2.620707e-10 |\n",
       "\n"
      ],
      "text/plain": [
       "     [,1]          [,2]         \n",
       "[1,] -1.299215e-02  1.012430e+00\n",
       "[2,] -2.721257e-03 -4.138295e-02\n",
       "[3,]  1.025369e+00 -1.638918e-02\n",
       "[4,]  2.722955e-10 -2.620707e-10"
      ]
     },
     "metadata": {},
     "output_type": "display_data"
    },
    {
     "name": "stdout",
     "output_type": "stream",
     "text": [
      "True Mu:\n"
     ]
    },
    {
     "data": {
      "text/html": [
       "<table>\n",
       "<tbody>\n",
       "\t<tr><td>0</td><td>0</td></tr>\n",
       "\t<tr><td>1</td><td>0</td></tr>\n",
       "\t<tr><td>0</td><td>1</td></tr>\n",
       "</tbody>\n",
       "</table>\n"
      ],
      "text/latex": [
       "\\begin{tabular}{ll}\n",
       "\t 0 & 0\\\\\n",
       "\t 1 & 0\\\\\n",
       "\t 0 & 1\\\\\n",
       "\\end{tabular}\n"
      ],
      "text/markdown": [
       "\n",
       "| 0 | 0 |\n",
       "| 1 | 0 |\n",
       "| 0 | 1 |\n",
       "\n"
      ],
      "text/plain": [
       "     [,1] [,2]\n",
       "[1,] 0    0   \n",
       "[2,] 1    0   \n",
       "[3,] 0    1   "
      ]
     },
     "metadata": {},
     "output_type": "display_data"
    },
    {
     "name": "stdout",
     "output_type": "stream",
     "text": [
      "True Sigma:\n",
      ", , 1\n",
      "\n",
      "           [,1]       [,2]\n",
      "[1,] 0.03323460 0.03280529\n",
      "[2,] 0.03280529 0.14325716\n",
      "\n",
      ", , 2\n",
      "\n",
      "           [,1]       [,2]\n",
      "[1,] 0.08203247 0.02990579\n",
      "[2,] 0.02990579 0.11196628\n",
      "\n",
      ", , 3\n",
      "\n",
      "            [,1]        [,2]\n",
      "[1,]  0.09152265 -0.03418465\n",
      "[2,] -0.03418465  0.04148540\n",
      "\n",
      "Sigma_vb:\n",
      ", , 1\n",
      "\n",
      "            [,1]        [,2]\n",
      "[1,]  0.09668272 -0.03253666\n",
      "[2,] -0.03253666  0.05272423\n",
      "\n",
      ", , 2\n",
      "\n",
      "           [,1]      [,2]\n",
      "[1,] 0.03659756 0.0164993\n",
      "[2,] 0.01649930 0.1004959\n",
      "\n",
      ", , 3\n",
      "\n",
      "           [,1]       [,2]\n",
      "[1,] 0.07199524 0.03110598\n",
      "[2,] 0.03110598 0.11407361\n",
      "\n",
      ", , 4\n",
      "\n",
      "              [,1]          [,2]\n",
      "[1,]  1.000000e-01 -2.897214e-13\n",
      "[2,] -2.897214e-13  1.000000e-01\n",
      "\n"
     ]
    },
    {
     "data": {
      "image/png": "[encoded data removed]",
      "text/plain": [
       "plot without title"
      ]
     },
     "metadata": {},
     "output_type": "display_data"
    }
   ],
   "source": [
    "####################################################\n",
    "#' Visual summary of VB's output :\n",
    "####################################################\n",
    "d = 2\n",
    "T <- ncol(outputvb$Alphamat)\n",
    "#' posterior expectancy of each parameter\n",
    "## complete the code\n",
    "p_vb <- outputvb$Alphamat[,T]/sum(outputvb$Alphamat[,T])\n",
    "\n",
    "## complete the code\n",
    "Mu_vb <- outputvb$Marray[,,T]\n",
    "\n",
    "Sigma_vb <- array(dim=c(d,d,Kfit))\n",
    "for(j in 1:Kfit){\n",
    "    ## complete the code\n",
    "    Sigma_vb[,,j] <- 1/outputvb$Numat[j,T]*outputvb$Winvarray[,,j,T]\n",
    "}\n",
    "\n",
    "cat(\"p_vb:\",p_vb,\"\\n\")\n",
    "cat(\"True p:\",p,\"\\n\")\n",
    "cat(\"Mu_vb:\\n\")\n",
    "Mu_vb\n",
    "cat(\"True Mu:\\n\")\n",
    "Mu\n",
    "cat(\"Sigma_vb:\\n\")\n",
    "print(Sigma_vb)\n",
    "cat(\"True Sigma:\\n\")\n",
    "print(Sigma)\n",
    "\n",
    "## show the data, true centers and initial positions from K-means\n",
    "#graphics.off()\n",
    "plot(X[,1], X[,2], col=labs)\n",
    "points(Mu[,1],Mu[,2], col=\"black\",pch=8,cex=10*p) \n",
    "set.seed(seed)\n",
    "Init <-  initPar(X,Kfit)\n",
    "points(Init$Mu[,1],Init$Mu[,2], col=\"orange\",pch=18,cex = 10*Init$p)\n",
    "## Add a  summary of the VB solution\n",
    "nonneg <- which(p_vb>0.001)\n",
    "for(j in nonneg){\n",
    "    points(Mu_vb[j,1], Mu_vb[j,2], col=\"blue\",\n",
    "           pch=18,cex= 10 * p_vb[j])\n",
    "    ellips <- draw_sd(mu = Mu_vb[j,], \n",
    "                      sigma = Sigma_vb[,,j])\n",
    "    lines(ellips[1,], ellips[2,], col='blue')\n",
    "}    "
   ]
  },
  {
   "cell_type": "markdown",
   "metadata": {},
   "source": [
    "The algorithm fits beautifully the dataset. We see that it manages to recover the true number of components in the model. Considering the parameters, we see that the parameters obtained by the algorithm reach a level of precision of about $O(10^{-2})$."
   ]
  },
  {
   "cell_type": "markdown",
   "metadata": {},
   "source": [
    "## II.4. Influence of $\\alpha_0$"
   ]
  },
  {
   "cell_type": "markdown",
   "metadata": {},
   "source": [
    "We have seen in the previous questions that for $\\alpha_0 = 0.1$, the algorithm succeeds to find the true number of components of GMM. Now we'll try other values of $\\alpha_0$. We first define a function to run and visualize the VB algorithm."
   ]
  },
  {
   "cell_type": "code",
   "execution_count": 31,
   "metadata": {},
   "outputs": [],
   "source": [
    "runVBalgo <- function(x,k,alpha0,W0inv,nu0,m0,beta0,seed=10,tol=1e-6,print_values=F,plot_criteria=F,plot_VB=T) {\n",
    "    set.seed(seed)\n",
    "    outputvb <- vbalgo(x=x,k=k, alpha0 = alpha0, W0inv = solve(W0),\n",
    "                 nu0 = nu0, m0 = m0, beta0=beta0, tol=tol)\n",
    "    \n",
    "    d <- ncol(x)\n",
    "    T <- ncol(outputvb$Alphamat)\n",
    "    p_vb <- outputvb$Alphamat[,T]/sum(outputvb$Alphamat[,T])\n",
    "    Mu_vb <- outputvb$Marray[,,T]\n",
    "    Sigma_vb <- array(dim=c(d,d,k))\n",
    "    for(j in 1:k){\n",
    "        Sigma_vb[,,j] <- 1/outputvb$Numat[j,T]*outputvb$Winvarray[,,j,T]\n",
    "    }\n",
    "    \n",
    "    if (print_values) {\n",
    "        cat(\"p_vb:\",p_vb,\"\\n\")\n",
    "        cat(\"Mu_vb:\\n\")\n",
    "        Mu_vb\n",
    "        cat(\"Sigma_vb:\\n\")\n",
    "        print(Sigma_vb)\n",
    "    }\n",
    "    \n",
    "    if (plot_criteria) {\n",
    "        plot(outputvb$stopCriteria)\n",
    "    }\n",
    "    \n",
    "    if (plot_VB) {\n",
    "        plot(x[,1], x[,2], col=labs)\n",
    "        points(Mu[,1],Mu[,2], col=\"black\",pch=8,cex=10*p)\n",
    "        Init <-  initPar(X,Kfit)\n",
    "        points(Init$Mu[,1],Init$Mu[,2], col=\"orange\",pch=18,cex = 10*Init$p)\n",
    "        ## Add a  summary of the VB solution\n",
    "        nonneg <- which(p_vb>0.001)\n",
    "        for(j in nonneg){\n",
    "            points(Mu_vb[j,1], Mu_vb[j,2], col=\"blue\",\n",
    "                   pch=18,cex= 10 * p_vb[j])\n",
    "            ellips <- draw_sd(mu = Mu_vb[j,], \n",
    "                              sigma = Sigma_vb[,,j])\n",
    "            lines(ellips[1,], ellips[2,], col='blue')\n",
    "            }\n",
    "    }\n",
    "    \n",
    "    return(list(p_vb=p_vb,Mu_vb=Mu_vb,Sigma_vb=Sigma_vb))\n",
    "}"
   ]
  },
  {
   "cell_type": "markdown",
   "metadata": {},
   "source": [
    "We now set $\\alpha_0 = 1$ and see the result."
   ]
  },
  {
   "cell_type": "code",
   "execution_count": 32,
   "metadata": {},
   "outputs": [
    {
     "data": {
      "text/html": [
       "<dl>\n",
       "\t<dt>$p_vb</dt>\n",
       "\t\t<dd><ol class=list-inline>\n",
       "\t<li>0.266025113850767</li>\n",
       "\t<li>0.359800497627613</li>\n",
       "\t<li>0.312867952370285</li>\n",
       "\t<li>0.0613064361513349</li>\n",
       "</ol>\n",
       "</dd>\n",
       "\t<dt>$Mu_vb</dt>\n",
       "\t\t<dd><table>\n",
       "<tbody>\n",
       "\t<tr><td>-0.04206096</td><td> 1.03902497</td></tr>\n",
       "\t<tr><td>-0.01505126</td><td>-0.08130662</td></tr>\n",
       "\t<tr><td> 1.02654479</td><td>-0.01547336</td></tr>\n",
       "\t<tr><td> 0.19685162</td><td> 0.58809856</td></tr>\n",
       "</tbody>\n",
       "</table>\n",
       "</dd>\n",
       "\t<dt>$Sigma_vb</dt>\n",
       "\t\t<dd><ol class=list-inline>\n",
       "\t<li>0.093936824807888</li>\n",
       "\t<li>-0.0281509939225414</li>\n",
       "\t<li>-0.0281509939225414</li>\n",
       "\t<li>0.0476022086123941</li>\n",
       "\t<li>0.0354193538167293</li>\n",
       "\t<li>0.0109914317165533</li>\n",
       "\t<li>0.0109914317165533</li>\n",
       "\t<li>0.0863848091433866</li>\n",
       "\t<li>0.0714083272435248</li>\n",
       "\t<li>0.0308014765280342</li>\n",
       "\t<li>0.0308014765280342</li>\n",
       "\t<li>0.114149503000278</li>\n",
       "\t<li>0.0534173633590136</li>\n",
       "\t<li>0.00778510845454763</li>\n",
       "\t<li>0.00778510845454763</li>\n",
       "\t<li>0.0791759251857354</li>\n",
       "</ol>\n",
       "</dd>\n",
       "</dl>\n"
      ],
      "text/latex": [
       "\\begin{description}\n",
       "\\item[\\$p\\_vb] \\begin{enumerate*}\n",
       "\\item 0.266025113850767\n",
       "\\item 0.359800497627613\n",
       "\\item 0.312867952370285\n",
       "\\item 0.0613064361513349\n",
       "\\end{enumerate*}\n",
       "\n",
       "\\item[\\$Mu\\_vb] \\begin{tabular}{ll}\n",
       "\t -0.04206096 &  1.03902497\\\\\n",
       "\t -0.01505126 & -0.08130662\\\\\n",
       "\t  1.02654479 & -0.01547336\\\\\n",
       "\t  0.19685162 &  0.58809856\\\\\n",
       "\\end{tabular}\n",
       "\n",
       "\\item[\\$Sigma\\_vb] \\begin{enumerate*}\n",
       "\\item 0.093936824807888\n",
       "\\item -0.0281509939225414\n",
       "\\item -0.0281509939225414\n",
       "\\item 0.0476022086123941\n",
       "\\item 0.0354193538167293\n",
       "\\item 0.0109914317165533\n",
       "\\item 0.0109914317165533\n",
       "\\item 0.0863848091433866\n",
       "\\item 0.0714083272435248\n",
       "\\item 0.0308014765280342\n",
       "\\item 0.0308014765280342\n",
       "\\item 0.114149503000278\n",
       "\\item 0.0534173633590136\n",
       "\\item 0.00778510845454763\n",
       "\\item 0.00778510845454763\n",
       "\\item 0.0791759251857354\n",
       "\\end{enumerate*}\n",
       "\n",
       "\\end{description}\n"
      ],
      "text/markdown": [
       "$p_vb\n",
       ":   1. 0.266025113850767\n",
       "2. 0.359800497627613\n",
       "3. 0.312867952370285\n",
       "4. 0.0613064361513349\n",
       "\n",
       "\n",
       "\n",
       "$Mu_vb\n",
       ":   \n",
       "| -0.04206096 |  1.03902497 |\n",
       "| -0.01505126 | -0.08130662 |\n",
       "|  1.02654479 | -0.01547336 |\n",
       "|  0.19685162 |  0.58809856 |\n",
       "\n",
       "\n",
       "$Sigma_vb\n",
       ":   1. 0.093936824807888\n",
       "2. -0.0281509939225414\n",
       "3. -0.0281509939225414\n",
       "4. 0.0476022086123941\n",
       "5. 0.0354193538167293\n",
       "6. 0.0109914317165533\n",
       "7. 0.0109914317165533\n",
       "8. 0.0863848091433866\n",
       "9. 0.0714083272435248\n",
       "10. 0.0308014765280342\n",
       "11. 0.0308014765280342\n",
       "12. 0.114149503000278\n",
       "13. 0.0534173633590136\n",
       "14. 0.00778510845454763\n",
       "15. 0.00778510845454763\n",
       "16. 0.0791759251857354\n",
       "\n",
       "\n",
       "\n",
       "\n",
       "\n"
      ],
      "text/plain": [
       "$p_vb\n",
       "[1] 0.26602511 0.35980050 0.31286795 0.06130644\n",
       "\n",
       "$Mu_vb\n",
       "            [,1]        [,2]\n",
       "[1,] -0.04206096  1.03902497\n",
       "[2,] -0.01505126 -0.08130662\n",
       "[3,]  1.02654479 -0.01547336\n",
       "[4,]  0.19685162  0.58809856\n",
       "\n",
       "$Sigma_vb\n",
       ", , 1\n",
       "\n",
       "            [,1]        [,2]\n",
       "[1,]  0.09393682 -0.02815099\n",
       "[2,] -0.02815099  0.04760221\n",
       "\n",
       ", , 2\n",
       "\n",
       "           [,1]       [,2]\n",
       "[1,] 0.03541935 0.01099143\n",
       "[2,] 0.01099143 0.08638481\n",
       "\n",
       ", , 3\n",
       "\n",
       "           [,1]       [,2]\n",
       "[1,] 0.07140833 0.03080148\n",
       "[2,] 0.03080148 0.11414950\n",
       "\n",
       ", , 4\n",
       "\n",
       "            [,1]        [,2]\n",
       "[1,] 0.053417363 0.007785108\n",
       "[2,] 0.007785108 0.079175925\n",
       "\n"
      ]
     },
     "metadata": {},
     "output_type": "display_data"
    },
    {
     "data": {
      "image/png": "[encoded data removed]",
      "text/plain": [
       "plot without title"
      ]
     },
     "metadata": {},
     "output_type": "display_data"
    }
   ],
   "source": [
    "runVBalgo(x=X,k=Kfit, alpha0 = 1, W0inv = solve(W0),\n",
    "                 nu0 = nu0, m0 = m0, beta0=beta0, tol=1e-6,\n",
    "                  print_values=F,plot_criteria=F,plot_VB=T)"
   ]
  },
  {
   "cell_type": "markdown",
   "metadata": {},
   "source": [
    "We see that as we increase $\\alpha_0$, the model starts to find the other component more significant. However, its weight is still small compared to the 3 main components."
   ]
  },
  {
   "cell_type": "code",
   "execution_count": 24,
   "metadata": {},
   "outputs": [
    {
     "data": {
      "text/html": [
       "<dl>\n",
       "\t<dt>$p_vb</dt>\n",
       "\t\t<dd><ol class=list-inline>\n",
       "\t<li>0.265602606999847</li>\n",
       "\t<li>0.209194581580828</li>\n",
       "\t<li>0.304802612491097</li>\n",
       "\t<li>0.220400198928228</li>\n",
       "</ol>\n",
       "</dd>\n",
       "\t<dt>$Mu_vb</dt>\n",
       "\t\t<dd><table>\n",
       "<tbody>\n",
       "\t<tr><td>-0.04255615 </td><td> 1.044244699</td></tr>\n",
       "\t<tr><td>-0.02174950 </td><td>-0.227164388</td></tr>\n",
       "\t<tr><td> 1.03492871 </td><td>-0.009235694</td></tr>\n",
       "\t<tr><td> 0.05830886 </td><td> 0.222947927</td></tr>\n",
       "</tbody>\n",
       "</table>\n",
       "</dd>\n",
       "\t<dt>$Sigma_vb</dt>\n",
       "\t\t<dd><ol class=list-inline>\n",
       "\t<li>0.0944793474082524</li>\n",
       "\t<li>-0.0267192301240351</li>\n",
       "\t<li>-0.0267192301240351</li>\n",
       "\t<li>0.0451577171956371</li>\n",
       "\t<li>0.0437705826971412</li>\n",
       "\t<li>-0.000386188134100626</li>\n",
       "\t<li>-0.000386188134100626</li>\n",
       "\t<li>0.054128932929932</li>\n",
       "\t<li>0.0674039877499402</li>\n",
       "\t<li>0.0278767399874932</li>\n",
       "\t<li>0.0278767399874932</li>\n",
       "\t<li>0.11324176001715</li>\n",
       "\t<li>0.0414623024862883</li>\n",
       "\t<li>0.0307893050790376</li>\n",
       "\t<li>0.0307893050790376</li>\n",
       "\t<li>0.111167373829524</li>\n",
       "</ol>\n",
       "</dd>\n",
       "</dl>\n"
      ],
      "text/latex": [
       "\\begin{description}\n",
       "\\item[\\$p\\_vb] \\begin{enumerate*}\n",
       "\\item 0.265602606999847\n",
       "\\item 0.209194581580828\n",
       "\\item 0.304802612491097\n",
       "\\item 0.220400198928228\n",
       "\\end{enumerate*}\n",
       "\n",
       "\\item[\\$Mu\\_vb] \\begin{tabular}{ll}\n",
       "\t -0.04255615  &  1.044244699\\\\\n",
       "\t -0.02174950  & -0.227164388\\\\\n",
       "\t  1.03492871  & -0.009235694\\\\\n",
       "\t  0.05830886  &  0.222947927\\\\\n",
       "\\end{tabular}\n",
       "\n",
       "\\item[\\$Sigma\\_vb] \\begin{enumerate*}\n",
       "\\item 0.0944793474082524\n",
       "\\item -0.0267192301240351\n",
       "\\item -0.0267192301240351\n",
       "\\item 0.0451577171956371\n",
       "\\item 0.0437705826971412\n",
       "\\item -0.000386188134100626\n",
       "\\item -0.000386188134100626\n",
       "\\item 0.054128932929932\n",
       "\\item 0.0674039877499402\n",
       "\\item 0.0278767399874932\n",
       "\\item 0.0278767399874932\n",
       "\\item 0.11324176001715\n",
       "\\item 0.0414623024862883\n",
       "\\item 0.0307893050790376\n",
       "\\item 0.0307893050790376\n",
       "\\item 0.111167373829524\n",
       "\\end{enumerate*}\n",
       "\n",
       "\\end{description}\n"
      ],
      "text/markdown": [
       "$p_vb\n",
       ":   1. 0.265602606999847\n",
       "2. 0.209194581580828\n",
       "3. 0.304802612491097\n",
       "4. 0.220400198928228\n",
       "\n",
       "\n",
       "\n",
       "$Mu_vb\n",
       ":   \n",
       "| -0.04255615  |  1.044244699 |\n",
       "| -0.02174950  | -0.227164388 |\n",
       "|  1.03492871  | -0.009235694 |\n",
       "|  0.05830886  |  0.222947927 |\n",
       "\n",
       "\n",
       "$Sigma_vb\n",
       ":   1. 0.0944793474082524\n",
       "2. -0.0267192301240351\n",
       "3. -0.0267192301240351\n",
       "4. 0.0451577171956371\n",
       "5. 0.0437705826971412\n",
       "6. -0.000386188134100626\n",
       "7. -0.000386188134100626\n",
       "8. 0.054128932929932\n",
       "9. 0.0674039877499402\n",
       "10. 0.0278767399874932\n",
       "11. 0.0278767399874932\n",
       "12. 0.11324176001715\n",
       "13. 0.0414623024862883\n",
       "14. 0.0307893050790376\n",
       "15. 0.0307893050790376\n",
       "16. 0.111167373829524\n",
       "\n",
       "\n",
       "\n",
       "\n",
       "\n"
      ],
      "text/plain": [
       "$p_vb\n",
       "[1] 0.2656026 0.2091946 0.3048026 0.2204002\n",
       "\n",
       "$Mu_vb\n",
       "            [,1]         [,2]\n",
       "[1,] -0.04255615  1.044244699\n",
       "[2,] -0.02174950 -0.227164388\n",
       "[3,]  1.03492871 -0.009235694\n",
       "[4,]  0.05830886  0.222947927\n",
       "\n",
       "$Sigma_vb\n",
       ", , 1\n",
       "\n",
       "            [,1]        [,2]\n",
       "[1,]  0.09447935 -0.02671923\n",
       "[2,] -0.02671923  0.04515772\n",
       "\n",
       ", , 2\n",
       "\n",
       "              [,1]          [,2]\n",
       "[1,]  0.0437705827 -0.0003861881\n",
       "[2,] -0.0003861881  0.0541289329\n",
       "\n",
       ", , 3\n",
       "\n",
       "           [,1]       [,2]\n",
       "[1,] 0.06740399 0.02787674\n",
       "[2,] 0.02787674 0.11324176\n",
       "\n",
       ", , 4\n",
       "\n",
       "           [,1]       [,2]\n",
       "[1,] 0.04146230 0.03078931\n",
       "[2,] 0.03078931 0.11116737\n",
       "\n"
      ]
     },
     "metadata": {},
     "output_type": "display_data"
    },
    {
     "data": {
      "image/png": "[encoded data removed]",
      "text/plain": [
       "plot without title"
      ]
     },
     "metadata": {},
     "output_type": "display_data"
    }
   ],
   "source": [
    "runVBalgo(x=X,k=Kfit, alpha0 = 10, W0inv = solve(W0),\n",
    "                 nu0 = nu0, m0 = m0, beta0=beta0, tol=1e-6,\n",
    "                  print_values=F,plot_criteria=F,plot_VB=T)"
   ]
  },
  {
   "cell_type": "markdown",
   "metadata": {},
   "source": [
    "If we take $\\alpha_0=10$, we see that the algorithm results in all component with significant weights."
   ]
  },
  {
   "cell_type": "markdown",
   "metadata": {},
   "source": [
    "## II.5. Influences of other hyper-parameters"
   ]
  },
  {
   "cell_type": "markdown",
   "metadata": {},
   "source": [
    "We first increase $\\beta_0 = 10$ and see the result."
   ]
  },
  {
   "cell_type": "code",
   "execution_count": 34,
   "metadata": {},
   "outputs": [
    {
     "data": {
      "text/html": [
       "<dl>\n",
       "\t<dt>$p_vb</dt>\n",
       "\t\t<dd><ol class=list-inline>\n",
       "\t<li>0.357339397147497</li>\n",
       "\t<li>0.29978941830461</li>\n",
       "\t<li>0.342671305093669</li>\n",
       "\t<li>0.000199879454224076</li>\n",
       "</ol>\n",
       "</dd>\n",
       "\t<dt>$Mu_vb</dt>\n",
       "\t\t<dd><table>\n",
       "<tbody>\n",
       "\t<tr><td> 9.233640e-03</td><td> 8.508617e-01</td></tr>\n",
       "\t<tr><td>-4.043861e-02</td><td>-1.117690e-01</td></tr>\n",
       "\t<tr><td> 9.001319e-01</td><td>-2.081824e-02</td></tr>\n",
       "\t<tr><td>-7.143883e-09</td><td>-4.788315e-08</td></tr>\n",
       "</tbody>\n",
       "</table>\n",
       "</dd>\n",
       "\t<dt>$Sigma_vb</dt>\n",
       "\t\t<dd><ol class=list-inline>\n",
       "\t<li>0.0895433514813189</li>\n",
       "\t<li>-0.0391608935420148</li>\n",
       "\t<li>-0.0391608935420148</li>\n",
       "\t<li>0.15090062785612</li>\n",
       "\t<li>0.0308852633904192</li>\n",
       "\t<li>0.00883232096601323</li>\n",
       "\t<li>0.00883232096601323</li>\n",
       "\t<li>0.0727434457768067</li>\n",
       "\t<li>0.169842921224822</li>\n",
       "\t<li>0.0334304526936891</li>\n",
       "\t<li>0.0334304526936891</li>\n",
       "\t<li>0.115846677674083</li>\n",
       "\t<li>0.0999999463936489</li>\n",
       "\t<li>9.97250174290783e-09</li>\n",
       "\t<li>9.97250174290783e-09</li>\n",
       "\t<li>0.0999999902379201</li>\n",
       "</ol>\n",
       "</dd>\n",
       "</dl>\n"
      ],
      "text/latex": [
       "\\begin{description}\n",
       "\\item[\\$p\\_vb] \\begin{enumerate*}\n",
       "\\item 0.357339397147497\n",
       "\\item 0.29978941830461\n",
       "\\item 0.342671305093669\n",
       "\\item 0.000199879454224076\n",
       "\\end{enumerate*}\n",
       "\n",
       "\\item[\\$Mu\\_vb] \\begin{tabular}{ll}\n",
       "\t  9.233640e-03 &  8.508617e-01\\\\\n",
       "\t -4.043861e-02 & -1.117690e-01\\\\\n",
       "\t  9.001319e-01 & -2.081824e-02\\\\\n",
       "\t -7.143883e-09 & -4.788315e-08\\\\\n",
       "\\end{tabular}\n",
       "\n",
       "\\item[\\$Sigma\\_vb] \\begin{enumerate*}\n",
       "\\item 0.0895433514813189\n",
       "\\item -0.0391608935420148\n",
       "\\item -0.0391608935420148\n",
       "\\item 0.15090062785612\n",
       "\\item 0.0308852633904192\n",
       "\\item 0.00883232096601323\n",
       "\\item 0.00883232096601323\n",
       "\\item 0.0727434457768067\n",
       "\\item 0.169842921224822\n",
       "\\item 0.0334304526936891\n",
       "\\item 0.0334304526936891\n",
       "\\item 0.115846677674083\n",
       "\\item 0.0999999463936489\n",
       "\\item 9.97250174290783e-09\n",
       "\\item 9.97250174290783e-09\n",
       "\\item 0.0999999902379201\n",
       "\\end{enumerate*}\n",
       "\n",
       "\\end{description}\n"
      ],
      "text/markdown": [
       "$p_vb\n",
       ":   1. 0.357339397147497\n",
       "2. 0.29978941830461\n",
       "3. 0.342671305093669\n",
       "4. 0.000199879454224076\n",
       "\n",
       "\n",
       "\n",
       "$Mu_vb\n",
       ":   \n",
       "|  9.233640e-03 |  8.508617e-01 |\n",
       "| -4.043861e-02 | -1.117690e-01 |\n",
       "|  9.001319e-01 | -2.081824e-02 |\n",
       "| -7.143883e-09 | -4.788315e-08 |\n",
       "\n",
       "\n",
       "$Sigma_vb\n",
       ":   1. 0.0895433514813189\n",
       "2. -0.0391608935420148\n",
       "3. -0.0391608935420148\n",
       "4. 0.15090062785612\n",
       "5. 0.0308852633904192\n",
       "6. 0.00883232096601323\n",
       "7. 0.00883232096601323\n",
       "8. 0.0727434457768067\n",
       "9. 0.169842921224822\n",
       "10. 0.0334304526936891\n",
       "11. 0.0334304526936891\n",
       "12. 0.115846677674083\n",
       "13. 0.0999999463936489\n",
       "14. 9.97250174290783e-09\n",
       "15. 9.97250174290783e-09\n",
       "16. 0.0999999902379201\n",
       "\n",
       "\n",
       "\n",
       "\n",
       "\n"
      ],
      "text/plain": [
       "$p_vb\n",
       "[1] 0.3573393971 0.2997894183 0.3426713051 0.0001998795\n",
       "\n",
       "$Mu_vb\n",
       "              [,1]          [,2]\n",
       "[1,]  9.233640e-03  8.508617e-01\n",
       "[2,] -4.043861e-02 -1.117690e-01\n",
       "[3,]  9.001319e-01 -2.081824e-02\n",
       "[4,] -7.143883e-09 -4.788315e-08\n",
       "\n",
       "$Sigma_vb\n",
       ", , 1\n",
       "\n",
       "            [,1]        [,2]\n",
       "[1,]  0.08954335 -0.03916089\n",
       "[2,] -0.03916089  0.15090063\n",
       "\n",
       ", , 2\n",
       "\n",
       "            [,1]        [,2]\n",
       "[1,] 0.030885263 0.008832321\n",
       "[2,] 0.008832321 0.072743446\n",
       "\n",
       ", , 3\n",
       "\n",
       "           [,1]       [,2]\n",
       "[1,] 0.16984292 0.03343045\n",
       "[2,] 0.03343045 0.11584668\n",
       "\n",
       ", , 4\n",
       "\n",
       "             [,1]         [,2]\n",
       "[1,] 9.999995e-02 9.972502e-09\n",
       "[2,] 9.972502e-09 9.999999e-02\n",
       "\n"
      ]
     },
     "metadata": {},
     "output_type": "display_data"
    },
    {
     "data": {
      "image/png": "[encoded data removed]",
      "text/plain": [
       "plot without title"
      ]
     },
     "metadata": {},
     "output_type": "display_data"
    }
   ],
   "source": [
    "runVBalgo(x=X,k=Kfit, alpha0 = alpha0, W0inv = solve(W0),\n",
    "                 nu0 = nu0, m0 = m0, beta0=10, tol=1e-6,\n",
    "                  print_values=F,plot_criteria=F,plot_VB=T)"
   ]
  },
  {
   "cell_type": "markdown",
   "metadata": {},
   "source": [
    "We see that the radius of the gaussian components tend to increase as $\\beta_0$ increases, and they tend to comprise the data point from other components."
   ]
  },
  {
   "cell_type": "markdown",
   "metadata": {},
   "source": [
    "Now we change the value of $\\nu_0$ to 100."
   ]
  },
  {
   "cell_type": "code",
   "execution_count": 39,
   "metadata": {},
   "outputs": [
    {
     "data": {
      "text/html": [
       "<dl>\n",
       "\t<dt>$p_vb</dt>\n",
       "\t\t<dd><ol class=list-inline>\n",
       "\t<li>0.18501646535824</li>\n",
       "\t<li>0.386956300303459</li>\n",
       "\t<li>0.314833560637685</li>\n",
       "\t<li>0.113193673700616</li>\n",
       "</ol>\n",
       "</dd>\n",
       "\t<dt>$Mu_vb</dt>\n",
       "\t\t<dd><table>\n",
       "<tbody>\n",
       "\t<tr><td>-0.186550326</td><td> 1.12307931 </td></tr>\n",
       "\t<tr><td>-0.008591628</td><td>-0.04955267 </td></tr>\n",
       "\t<tr><td> 1.025716128</td><td>-0.01514460 </td></tr>\n",
       "\t<tr><td> 0.280284649</td><td> 0.82840739 </td></tr>\n",
       "</tbody>\n",
       "</table>\n",
       "</dd>\n",
       "\t<dt>$Sigma_vb</dt>\n",
       "\t\t<dd><ol class=list-inline>\n",
       "\t<li>0.0322676616136999</li>\n",
       "\t<li>-0.00238793574639364</li>\n",
       "\t<li>-0.00238793574639364</li>\n",
       "\t<li>0.0195414282003317</li>\n",
       "\t<li>0.0242945757059258</li>\n",
       "\t<li>0.00923405773409681</li>\n",
       "\t<li>0.00923405773409681</li>\n",
       "\t<li>0.0657310694138328</li>\n",
       "\t<li>0.046033305216615</li>\n",
       "\t<li>0.020028400380509</li>\n",
       "\t<li>0.020028400380509</li>\n",
       "\t<li>0.0743392665206114</li>\n",
       "\t<li>0.0143447022081661</li>\n",
       "\t<li>0.000609014732248334</li>\n",
       "\t<li>0.000609014732248334</li>\n",
       "\t<li>0.015763888054241</li>\n",
       "</ol>\n",
       "</dd>\n",
       "</dl>\n"
      ],
      "text/latex": [
       "\\begin{description}\n",
       "\\item[\\$p\\_vb] \\begin{enumerate*}\n",
       "\\item 0.18501646535824\n",
       "\\item 0.386956300303459\n",
       "\\item 0.314833560637685\n",
       "\\item 0.113193673700616\n",
       "\\end{enumerate*}\n",
       "\n",
       "\\item[\\$Mu\\_vb] \\begin{tabular}{ll}\n",
       "\t -0.186550326 &  1.12307931 \\\\\n",
       "\t -0.008591628 & -0.04955267 \\\\\n",
       "\t  1.025716128 & -0.01514460 \\\\\n",
       "\t  0.280284649 &  0.82840739 \\\\\n",
       "\\end{tabular}\n",
       "\n",
       "\\item[\\$Sigma\\_vb] \\begin{enumerate*}\n",
       "\\item 0.0322676616136999\n",
       "\\item -0.00238793574639364\n",
       "\\item -0.00238793574639364\n",
       "\\item 0.0195414282003317\n",
       "\\item 0.0242945757059258\n",
       "\\item 0.00923405773409681\n",
       "\\item 0.00923405773409681\n",
       "\\item 0.0657310694138328\n",
       "\\item 0.046033305216615\n",
       "\\item 0.020028400380509\n",
       "\\item 0.020028400380509\n",
       "\\item 0.0743392665206114\n",
       "\\item 0.0143447022081661\n",
       "\\item 0.000609014732248334\n",
       "\\item 0.000609014732248334\n",
       "\\item 0.015763888054241\n",
       "\\end{enumerate*}\n",
       "\n",
       "\\end{description}\n"
      ],
      "text/markdown": [
       "$p_vb\n",
       ":   1. 0.18501646535824\n",
       "2. 0.386956300303459\n",
       "3. 0.314833560637685\n",
       "4. 0.113193673700616\n",
       "\n",
       "\n",
       "\n",
       "$Mu_vb\n",
       ":   \n",
       "| -0.186550326 |  1.12307931  |\n",
       "| -0.008591628 | -0.04955267  |\n",
       "|  1.025716128 | -0.01514460  |\n",
       "|  0.280284649 |  0.82840739  |\n",
       "\n",
       "\n",
       "$Sigma_vb\n",
       ":   1. 0.0322676616136999\n",
       "2. -0.00238793574639364\n",
       "3. -0.00238793574639364\n",
       "4. 0.0195414282003317\n",
       "5. 0.0242945757059258\n",
       "6. 0.00923405773409681\n",
       "7. 0.00923405773409681\n",
       "8. 0.0657310694138328\n",
       "9. 0.046033305216615\n",
       "10. 0.020028400380509\n",
       "11. 0.020028400380509\n",
       "12. 0.0743392665206114\n",
       "13. 0.0143447022081661\n",
       "14. 0.000609014732248334\n",
       "15. 0.000609014732248334\n",
       "16. 0.015763888054241\n",
       "\n",
       "\n",
       "\n",
       "\n",
       "\n"
      ],
      "text/plain": [
       "$p_vb\n",
       "[1] 0.1850165 0.3869563 0.3148336 0.1131937\n",
       "\n",
       "$Mu_vb\n",
       "             [,1]        [,2]\n",
       "[1,] -0.186550326  1.12307931\n",
       "[2,] -0.008591628 -0.04955267\n",
       "[3,]  1.025716128 -0.01514460\n",
       "[4,]  0.280284649  0.82840739\n",
       "\n",
       "$Sigma_vb\n",
       ", , 1\n",
       "\n",
       "             [,1]         [,2]\n",
       "[1,]  0.032267662 -0.002387936\n",
       "[2,] -0.002387936  0.019541428\n",
       "\n",
       ", , 2\n",
       "\n",
       "            [,1]        [,2]\n",
       "[1,] 0.024294576 0.009234058\n",
       "[2,] 0.009234058 0.065731069\n",
       "\n",
       ", , 3\n",
       "\n",
       "           [,1]       [,2]\n",
       "[1,] 0.04603331 0.02002840\n",
       "[2,] 0.02002840 0.07433927\n",
       "\n",
       ", , 4\n",
       "\n",
       "             [,1]         [,2]\n",
       "[1,] 0.0143447022 0.0006090147\n",
       "[2,] 0.0006090147 0.0157638881\n",
       "\n"
      ]
     },
     "metadata": {},
     "output_type": "display_data"
    },
    {
     "data": {
      "image/png": "[encoded data removed]",
      "text/plain": [
       "plot without title"
      ]
     },
     "metadata": {},
     "output_type": "display_data"
    }
   ],
   "source": [
    "runVBalgo(x=X,k=Kfit, alpha0 = alpha0, W0inv = solve(W0),\n",
    "                 nu0 = 100, m0 = m0, beta0=beta0, tol=1e-6,\n",
    "                  print_values=F,plot_criteria=F,plot_VB=T)"
   ]
  },
  {
   "cell_type": "markdown",
   "metadata": {},
   "source": [
    "We again see that the algorithm fails to recover the true number of components."
   ]
  },
  {
   "cell_type": "markdown",
   "metadata": {},
   "source": [
    "Now, let $m_0=c(10,10)$."
   ]
  },
  {
   "cell_type": "code",
   "execution_count": 49,
   "metadata": {},
   "outputs": [
    {
     "data": {
      "text/html": [
       "<dl>\n",
       "\t<dt>$p_vb</dt>\n",
       "\t\t<dd><ol class=list-inline>\n",
       "\t<li>0.218503955486152</li>\n",
       "\t<li>0.463629601545164</li>\n",
       "\t<li>0.317666602840785</li>\n",
       "\t<li>0.000199840127897682</li>\n",
       "</ol>\n",
       "</dd>\n",
       "\t<dt>$Mu_vb</dt>\n",
       "\t\t<dd><table>\n",
       "<tbody>\n",
       "\t<tr><td>-0.11497913</td><td> 1.09116728</td></tr>\n",
       "\t<tr><td> 0.05304608</td><td> 0.11104408</td></tr>\n",
       "\t<tr><td> 1.01786498</td><td>-0.01982138</td></tr>\n",
       "\t<tr><td>10.00000000</td><td>10.00000000</td></tr>\n",
       "</tbody>\n",
       "</table>\n",
       "</dd>\n",
       "\t<dt>$Sigma_vb</dt>\n",
       "\t\t<dd><ol class=list-inline>\n",
       "\t<li>0.161372139407507</li>\n",
       "\t<li>0.0618872967479896</li>\n",
       "\t<li>0.0618872967479896</li>\n",
       "\t<li>0.110271720602985</li>\n",
       "\t<li>0.0901661066216206</li>\n",
       "\t<li>0.0898420704236089</li>\n",
       "\t<li>0.0898420704236089</li>\n",
       "\t<li>0.223212518681838</li>\n",
       "\t<li>0.130475992283498</li>\n",
       "\t<li>0.0908350779964028</li>\n",
       "\t<li>0.0908350779964028</li>\n",
       "\t<li>0.175098608510138</li>\n",
       "\t<li>0.1</li>\n",
       "\t<li>1e-299</li>\n",
       "\t<li>1e-299</li>\n",
       "\t<li>0.1</li>\n",
       "</ol>\n",
       "</dd>\n",
       "</dl>\n"
      ],
      "text/latex": [
       "\\begin{description}\n",
       "\\item[\\$p\\_vb] \\begin{enumerate*}\n",
       "\\item 0.218503955486152\n",
       "\\item 0.463629601545164\n",
       "\\item 0.317666602840785\n",
       "\\item 0.000199840127897682\n",
       "\\end{enumerate*}\n",
       "\n",
       "\\item[\\$Mu\\_vb] \\begin{tabular}{ll}\n",
       "\t -0.11497913 &  1.09116728\\\\\n",
       "\t  0.05304608 &  0.11104408\\\\\n",
       "\t  1.01786498 & -0.01982138\\\\\n",
       "\t 10.00000000 & 10.00000000\\\\\n",
       "\\end{tabular}\n",
       "\n",
       "\\item[\\$Sigma\\_vb] \\begin{enumerate*}\n",
       "\\item 0.161372139407507\n",
       "\\item 0.0618872967479896\n",
       "\\item 0.0618872967479896\n",
       "\\item 0.110271720602985\n",
       "\\item 0.0901661066216206\n",
       "\\item 0.0898420704236089\n",
       "\\item 0.0898420704236089\n",
       "\\item 0.223212518681838\n",
       "\\item 0.130475992283498\n",
       "\\item 0.0908350779964028\n",
       "\\item 0.0908350779964028\n",
       "\\item 0.175098608510138\n",
       "\\item 0.1\n",
       "\\item 1e-299\n",
       "\\item 1e-299\n",
       "\\item 0.1\n",
       "\\end{enumerate*}\n",
       "\n",
       "\\end{description}\n"
      ],
      "text/markdown": [
       "$p_vb\n",
       ":   1. 0.218503955486152\n",
       "2. 0.463629601545164\n",
       "3. 0.317666602840785\n",
       "4. 0.000199840127897682\n",
       "\n",
       "\n",
       "\n",
       "$Mu_vb\n",
       ":   \n",
       "| -0.11497913 |  1.09116728 |\n",
       "|  0.05304608 |  0.11104408 |\n",
       "|  1.01786498 | -0.01982138 |\n",
       "| 10.00000000 | 10.00000000 |\n",
       "\n",
       "\n",
       "$Sigma_vb\n",
       ":   1. 0.161372139407507\n",
       "2. 0.0618872967479896\n",
       "3. 0.0618872967479896\n",
       "4. 0.110271720602985\n",
       "5. 0.0901661066216206\n",
       "6. 0.0898420704236089\n",
       "7. 0.0898420704236089\n",
       "8. 0.223212518681838\n",
       "9. 0.130475992283498\n",
       "10. 0.0908350779964028\n",
       "11. 0.0908350779964028\n",
       "12. 0.175098608510138\n",
       "13. 0.1\n",
       "14. 1e-299\n",
       "15. 1e-299\n",
       "16. 0.1\n",
       "\n",
       "\n",
       "\n",
       "\n",
       "\n"
      ],
      "text/plain": [
       "$p_vb\n",
       "[1] 0.2185039555 0.4636296015 0.3176666028 0.0001998401\n",
       "\n",
       "$Mu_vb\n",
       "            [,1]        [,2]\n",
       "[1,] -0.11497913  1.09116728\n",
       "[2,]  0.05304608  0.11104408\n",
       "[3,]  1.01786498 -0.01982138\n",
       "[4,] 10.00000000 10.00000000\n",
       "\n",
       "$Sigma_vb\n",
       ", , 1\n",
       "\n",
       "          [,1]      [,2]\n",
       "[1,] 0.1613721 0.0618873\n",
       "[2,] 0.0618873 0.1102717\n",
       "\n",
       ", , 2\n",
       "\n",
       "           [,1]       [,2]\n",
       "[1,] 0.09016611 0.08984207\n",
       "[2,] 0.08984207 0.22321252\n",
       "\n",
       ", , 3\n",
       "\n",
       "           [,1]       [,2]\n",
       "[1,] 0.13047599 0.09083508\n",
       "[2,] 0.09083508 0.17509861\n",
       "\n",
       ", , 4\n",
       "\n",
       "       [,1]   [,2]\n",
       "[1,]  1e-01 1e-299\n",
       "[2,] 1e-299  1e-01\n",
       "\n"
      ]
     },
     "metadata": {},
     "output_type": "display_data"
    },
    {
     "data": {
      "image/png": "[encoded data removed]",
      "text/plain": [
       "plot without title"
      ]
     },
     "metadata": {},
     "output_type": "display_data"
    }
   ],
   "source": [
    "runVBalgo(x=X,k=Kfit, alpha0 = alpha0, W0inv = W0inv,\n",
    "                 nu0 = nu0, m0 = 10+m0, beta0=beta0, tol=1e-6,\n",
    "                  print_values=F,plot_criteria=F,plot_VB=T)"
   ]
  },
  {
   "cell_type": "markdown",
   "metadata": {},
   "source": [
    "We already see that the algorithm start to deviate from the true parameters of the model. We can see this more clearly if we increase even more $m_0$."
   ]
  },
  {
   "cell_type": "code",
   "execution_count": 51,
   "metadata": {},
   "outputs": [
    {
     "data": {
      "text/html": [
       "<dl>\n",
       "\t<dt>$p_vb</dt>\n",
       "\t\t<dd><ol class=list-inline>\n",
       "\t<li>0.000199840127897682</li>\n",
       "\t<li>0.999400479616307</li>\n",
       "\t<li>0.000199840127897682</li>\n",
       "\t<li>0.000199840127897682</li>\n",
       "</ol>\n",
       "</dd>\n",
       "\t<dt>$Mu_vb</dt>\n",
       "\t\t<dd><table>\n",
       "<tbody>\n",
       "\t<tr><td>100.0000000</td><td>100.0000000</td></tr>\n",
       "\t<tr><td>  0.3370029</td><td>  0.2977784</td></tr>\n",
       "\t<tr><td>100.0000000</td><td>100.0000000</td></tr>\n",
       "\t<tr><td>100.0000000</td><td>100.0000000</td></tr>\n",
       "</tbody>\n",
       "</table>\n",
       "</dd>\n",
       "\t<dt>$Sigma_vb</dt>\n",
       "\t\t<dd><ol class=list-inline>\n",
       "\t<li>0.1</li>\n",
       "\t<li>1e-297</li>\n",
       "\t<li>1e-297</li>\n",
       "\t<li>0.1</li>\n",
       "\t<li>2.23740699594148</li>\n",
       "\t<li>1.86020811715993</li>\n",
       "\t<li>1.86020811715993</li>\n",
       "\t<li>2.26171361624314</li>\n",
       "\t<li>0.1</li>\n",
       "\t<li>1e-297</li>\n",
       "\t<li>1e-297</li>\n",
       "\t<li>0.1</li>\n",
       "\t<li>0.1</li>\n",
       "\t<li>1e-297</li>\n",
       "\t<li>1e-297</li>\n",
       "\t<li>0.1</li>\n",
       "</ol>\n",
       "</dd>\n",
       "</dl>\n"
      ],
      "text/latex": [
       "\\begin{description}\n",
       "\\item[\\$p\\_vb] \\begin{enumerate*}\n",
       "\\item 0.000199840127897682\n",
       "\\item 0.999400479616307\n",
       "\\item 0.000199840127897682\n",
       "\\item 0.000199840127897682\n",
       "\\end{enumerate*}\n",
       "\n",
       "\\item[\\$Mu\\_vb] \\begin{tabular}{ll}\n",
       "\t 100.0000000 & 100.0000000\\\\\n",
       "\t   0.3370029 &   0.2977784\\\\\n",
       "\t 100.0000000 & 100.0000000\\\\\n",
       "\t 100.0000000 & 100.0000000\\\\\n",
       "\\end{tabular}\n",
       "\n",
       "\\item[\\$Sigma\\_vb] \\begin{enumerate*}\n",
       "\\item 0.1\n",
       "\\item 1e-297\n",
       "\\item 1e-297\n",
       "\\item 0.1\n",
       "\\item 2.23740699594148\n",
       "\\item 1.86020811715993\n",
       "\\item 1.86020811715993\n",
       "\\item 2.26171361624314\n",
       "\\item 0.1\n",
       "\\item 1e-297\n",
       "\\item 1e-297\n",
       "\\item 0.1\n",
       "\\item 0.1\n",
       "\\item 1e-297\n",
       "\\item 1e-297\n",
       "\\item 0.1\n",
       "\\end{enumerate*}\n",
       "\n",
       "\\end{description}\n"
      ],
      "text/markdown": [
       "$p_vb\n",
       ":   1. 0.000199840127897682\n",
       "2. 0.999400479616307\n",
       "3. 0.000199840127897682\n",
       "4. 0.000199840127897682\n",
       "\n",
       "\n",
       "\n",
       "$Mu_vb\n",
       ":   \n",
       "| 100.0000000 | 100.0000000 |\n",
       "|   0.3370029 |   0.2977784 |\n",
       "| 100.0000000 | 100.0000000 |\n",
       "| 100.0000000 | 100.0000000 |\n",
       "\n",
       "\n",
       "$Sigma_vb\n",
       ":   1. 0.1\n",
       "2. 1e-297\n",
       "3. 1e-297\n",
       "4. 0.1\n",
       "5. 2.23740699594148\n",
       "6. 1.86020811715993\n",
       "7. 1.86020811715993\n",
       "8. 2.26171361624314\n",
       "9. 0.1\n",
       "10. 1e-297\n",
       "11. 1e-297\n",
       "12. 0.1\n",
       "13. 0.1\n",
       "14. 1e-297\n",
       "15. 1e-297\n",
       "16. 0.1\n",
       "\n",
       "\n",
       "\n",
       "\n",
       "\n"
      ],
      "text/plain": [
       "$p_vb\n",
       "[1] 0.0001998401 0.9994004796 0.0001998401 0.0001998401\n",
       "\n",
       "$Mu_vb\n",
       "            [,1]        [,2]\n",
       "[1,] 100.0000000 100.0000000\n",
       "[2,]   0.3370029   0.2977784\n",
       "[3,] 100.0000000 100.0000000\n",
       "[4,] 100.0000000 100.0000000\n",
       "\n",
       "$Sigma_vb\n",
       ", , 1\n",
       "\n",
       "       [,1]   [,2]\n",
       "[1,]  1e-01 1e-297\n",
       "[2,] 1e-297  1e-01\n",
       "\n",
       ", , 2\n",
       "\n",
       "         [,1]     [,2]\n",
       "[1,] 2.237407 1.860208\n",
       "[2,] 1.860208 2.261714\n",
       "\n",
       ", , 3\n",
       "\n",
       "       [,1]   [,2]\n",
       "[1,]  1e-01 1e-297\n",
       "[2,] 1e-297  1e-01\n",
       "\n",
       ", , 4\n",
       "\n",
       "       [,1]   [,2]\n",
       "[1,]  1e-01 1e-297\n",
       "[2,] 1e-297  1e-01\n",
       "\n"
      ]
     },
     "metadata": {},
     "output_type": "display_data"
    },
    {
     "data": {
      "image/png": "[encoded data removed]",
      "text/plain": [
       "plot without title"
      ]
     },
     "metadata": {},
     "output_type": "display_data"
    }
   ],
   "source": [
    "runVBalgo(x=X,k=Kfit, alpha0 = alpha0, W0inv = W0inv,\n",
    "                 nu0 = nu0, m0 = 100+m0, beta0=beta0, tol=1e-6,\n",
    "                  print_values=F,plot_criteria=F,plot_VB=T)"
   ]
  },
  {
   "cell_type": "markdown",
   "metadata": {},
   "source": [
    "The model reduce in one big component with very large variance."
   ]
  },
  {
   "cell_type": "markdown",
   "metadata": {},
   "source": [
    "We have further investigated $W_0$ but we have not seen anything significant about this hyperparameter."
   ]
  },
  {
   "cell_type": "markdown",
   "metadata": {},
   "source": [
    "# III. Metropolis-Hastings algorithm"
   ]
  },
  {
   "cell_type": "code",
   "execution_count": 56,
   "metadata": {},
   "outputs": [],
   "source": [
    "##############################################'\n",
    "###' 4. MCMC functions \n",
    "##############################################'\n",
    "\n",
    "dprior <- function( Mu, Sigma, p,\n",
    "                   hpar = list( alpha0= 1,\n",
    "                               m0 = rep(0, ncol(Mu)), beta0 = 1, \n",
    "                               W0 = diag(ncol(Mu)), nu0 = ncol(Mu)))\n",
    "    #'log-prior density on (Mu, Sigma, p)\n",
    "    #' Mu, Sigma, p: see gmllk\n",
    "    #' hpar: a list of hyper-parameters composed of\n",
    "    #' - alpha0> 0 : isotropic dirichlet prior on p\n",
    "    #' - m0: a d vector: mean parameter for the Gaussian-Wishart prior on Mu\n",
    "    #' - beta0: a single number >0: scale parameter for the Gaussian-Wishart prior on Mu\n",
    "    #' - W0: covariance parameter for the inverse-wishart distribution on Sigma\n",
    "    #' - nu0: degrees of freedom >d-1 for the wishart distribution on Sigma.  \n",
    "    \n",
    "{\n",
    "    d <- ncol(Mu)\n",
    "    k <- length(p)\n",
    "    prior_p <- ddirichlet(p, alpha= rep(hpar$alpha0, k), log = TRUE)\n",
    "    prior_MuSigma <- sum(sapply(1:k, function(j){\n",
    "        dnorminvwishart(mu = Mu[j,], mu0 = hpar$m0, lambda = hpar$beta0,\n",
    "                        Sigma = Sigma[,,j], S = hpar$W0, nu = hpar$nu0,\n",
    "                        log = TRUE)}))\n",
    "    return(prior_p + prior_MuSigma)\n",
    "}"
   ]
  },
  {
   "cell_type": "markdown",
   "metadata": {},
   "source": [
    "## III.1. The rproposal function to simulate new parameters at each iteration"
   ]
  },
  {
   "cell_type": "code",
   "execution_count": 57,
   "metadata": {},
   "outputs": [],
   "source": [
    "rproposal <- function( Mu, Sigma, p, ppar=list(var_Mu = 0.1,\n",
    "                                               nu_Sigma = 10,\n",
    "                                               alpha_p = 10))\n",
    "    #' random generator according to a proposal kernel centered at the current value.\n",
    "    #' Mu, Sigma, p: current mixture parameters, see gmllk.\n",
    "    #' ppar: a list made of :\n",
    "    #' - var_Mu: variance parameter for the gaussian kernel for Mu.\n",
    "    #' - nu_Sigma: degrees of freedom for the Wihart kernel for Sigma\n",
    "    #' - alpha_p: concentration aprameter for the Dirichlet kernel for p\n",
    "    #' returns: a list fo proposal parameters: (Mu, Sigma, p), where \n",
    "    #'   p ~ dirichlet(Alpha) with mean = Alpha/sum(Alpha) = current p and\n",
    "    #'   concentration parameter sum(Alpha) = alpha_p.\n",
    "    #' Mu : a k*d matrix and Sigma: a d*d*k array: \n",
    "    #'   for j in 1:k,  Mu[j,]~ Normal(mean= current Mu[j,], covariance = var_Mu*Identity)\n",
    "    #'   Sigma[,,j]~ Wishart(W = 1/nu_Sigma * current Sigma[,,j] ; nu = nu_Sigma)\n",
    "    \n",
    "{\n",
    "    d <- ncol(Mu)\n",
    "    k <- length(p)\n",
    "    alphaProp <- sapply(ppar$alpha_p * p, function(x){max(x,1e-30)})\n",
    "    ## this avoids numerical errors\n",
    "\n",
    "    p <- rdirichlet(n=1, alpha = alphaProp)\n",
    "    p <- sapply(p, function(x){max(x,1e-30)})\n",
    "    p <- p/sum(p)\n",
    "    for(j in (1:k))\n",
    "    {\n",
    "        ## complete the code. use function rmvn \n",
    "        Mu[j,] <- rmvn(n=1, mu=Mu[j,], Sigma=ppar$var_Mu*diag(d))\n",
    "        ## complete the code. use function rwishart\n",
    "        Sigma[,,j] <- rWishart(n=1, df=ppar$nu_Sigma, Sigma=1/ppar$nu_Sigma*Sigma[,,j])\n",
    "    }\n",
    "    return(list(Mu = Mu, Sigma = Sigma, p = p))\n",
    "}"
   ]
  },
  {
   "cell_type": "markdown",
   "metadata": {},
   "source": [
    "## III.2. The MHsample function that performs the MH algorithm"
   ]
  },
  {
   "cell_type": "code",
   "execution_count": 54,
   "metadata": {},
   "outputs": [],
   "source": [
    "MHsample <- function(x, k, nsample,\n",
    "                     init=list(Mu = matrix(0,ncol=ncol(x), nrow=k ),\n",
    "                               Sigma = array(rep(diag(ncol(x)), k),\n",
    "                                             dim=c(ncol(x), ncol(x), k)),\n",
    "                               p = rep(1/k, k)),\n",
    "                     hpar= list( alpha0= 1, \n",
    "                                m0 = rep(0, ncol(Mu)), beta0 = 1, \n",
    "                                W0 = diag(ncol(Mu)), nu0 = ncol(Mu)),\n",
    "                     ppar = list(var_Mu = 0.1,\n",
    "                                 nu_Sigma = 10,\n",
    "                                 alpha_p = 10) )\n",
    "    #' x: the data. A n*d matrix.\n",
    "    #' k: the number of mixture components.\n",
    "    #' nsample: number of MCMC iterations\n",
    "    #' init: starting value for the the MCMC. Format: list(Mu, Sigma, p), see gmllk for details\n",
    "    #' hpar: a list of hyper-parameter for the prior: see dprior.\n",
    "    #' ppar: a list of parameter for the proposal: see rproposal.\n",
    "    #' returns: a sample produced by the Metropolis-Hastings algorithm, together with\n",
    "    #' the log-posterior density (unnormalized) across iterations, and number of acepted proposals.  as a list composed of\n",
    "    #' - p: a k*nsample matrix\n",
    "    #' - Mu: a k*d*nsample array\n",
    "    #' - Sigma: a d*d*k*nsample array\n",
    "    #' - lpostdens: the log posterior density (vector of size nsample)\n",
    "    #' - naccept! number of accepted proposals. \n",
    "{\n",
    "    d <- ncol(x)\n",
    "    output <- list(p = matrix(nrow=k, ncol=nsample),\n",
    "                   Mu = array(dim = c(k, d, nsample)),\n",
    "                   Sigma = array(dim = c(d, d ,k, nsample)),\n",
    "                   lpostdens = rep(0, nsample),\n",
    "                   naccept = 0\n",
    "                   )\n",
    "    current <- init\n",
    "    current$lpost <- gmllk(x=x, Mu=current$Mu,\n",
    "                            Sigma = current$Sigma, p=current$p) +\n",
    "        dprior(Mu = current$Mu, Sigma = current$Sigma, p = current$p,\n",
    "               hpar = hpar)\n",
    "    ## lpost: logarithm of the unnormalized posterior density.\n",
    "    \n",
    "    for (niter in 1:nsample){\n",
    "        proposal <- rproposal(Mu = current$Mu, Sigma = current$Sigma, p=current$p,\n",
    "                              ppar = ppar)\n",
    "\n",
    "        proposal$lpost <- gmllk(x=x, Mu=proposal$Mu,\n",
    "                                Sigma = proposal$Sigma, p=proposal$p) +\n",
    "            dprior(Mu = proposal$Mu, Sigma = proposal$Sigma, p = proposal$p,\n",
    "                   hpar = hpar)\n",
    "    \n",
    "            \n",
    "        llkmoveSigma <- sum(vapply(1:k, FUN = function(j){\n",
    "            dwishart(Omega =proposal$Sigma[,,j], nu=ppar$nu_Sigma,\n",
    "                     S = 1/ppar$nu_Sigma * current$Sigma[,,j] , log=TRUE)},\n",
    "            FUN.VALUE = numeric(1)))\n",
    "\n",
    "        llkbackSigma <- sum(vapply(1:k, FUN = function(j){\n",
    "            dwishart(Omega =current$Sigma[,,j], nu=ppar$nu_Sigma,\n",
    "                     S = 1/ppar$nu_Sigma * proposal$Sigma[,,j] , log=TRUE)},\n",
    "            FUN.VALUE = numeric(1)))\n",
    "        alphaPropmove <- sapply(ppar$alpha_p * current$p, function(x){max(x,1e-30)})\n",
    "        alphaPropback <- sapply(ppar$alpha_p * proposal$p, function(x){max(x,1e-30)})\n",
    "        llkmovep <- ddirichlet(proposal$p, alphaPropmove, log = T)\n",
    "        llkbackp <- ddirichlet(current$p, alphaPropback, log = T)\n",
    "        lacceptratio <-  ## logarithm of the acceptance ratio.\n",
    "            ## Complete the code using\n",
    "            ## lproposal$lpost,  current$lpost,\n",
    "            ## ddirichlet( ... , log=TRUE), llkbackSigma and llkmovesigma. \n",
    "            min(proposal$lpost - current$lpost + llkmovep + llkmoveSigma - llkbackp - llkbackSigma,0)\n",
    "\n",
    "        U <- runif(1)\n",
    "        if(U < exp(lacceptratio)){\n",
    "        ##if (proposal$lpost > current$lpost) {\n",
    "            current <- proposal\n",
    "            output$naccept <- output$naccept + 1\n",
    "        }\n",
    "        output$p[,niter] <- current$p\n",
    "        output$Mu[,,niter] <- current$Mu\n",
    "        output$Sigma[,,,niter] <- current$Sigma\n",
    "        output$lpostdens[niter] <- current$lpost            \n",
    "    }\n",
    "    return(output)\n",
    "    \n",
    "} "
   ]
  },
  {
   "cell_type": "markdown",
   "metadata": {},
   "source": [
    "## III.3. Testing the HM algorithm"
   ]
  },
  {
   "cell_type": "markdown",
   "metadata": {},
   "source": [
    "We run the MH algorithm, this time we set Kmc=6."
   ]
  },
  {
   "cell_type": "code",
   "execution_count": 103,
   "metadata": {},
   "outputs": [
    {
     "data": {
      "text/plain": [
       "   user  system elapsed \n",
       "  24.69    0.00   24.74 "
      ]
     },
     "metadata": {},
     "output_type": "display_data"
    },
    {
     "data": {
      "text/html": [
       "208"
      ],
      "text/latex": [
       "208"
      ],
      "text/markdown": [
       "208"
      ],
      "text/plain": [
       "[1] 208"
      ]
     },
     "metadata": {},
     "output_type": "display_data"
    }
   ],
   "source": [
    "####################################################'\n",
    "####' Metropolis-Hastings\n",
    "####################################################'\n",
    "#' Basic testing for the MH sampler\n",
    "#Kmc <- Kfit ## try with different values\n",
    "Kmc <- 6\n",
    "init <- initPar(x=X, k=Kmc)\n",
    "\n",
    "hpar <- list( alpha0= alpha0, \n",
    "           m0 = rep(0, d), beta0 = beta0, \n",
    "           W0 = W0, nu0 = nu0)\n",
    "\n",
    "ppar <- list(var_Mu = 0.001,\n",
    "            nu_Sigma = 500,\n",
    "            alpha_p = 500) \n",
    "\n",
    "\n",
    "set.seed(1)\n",
    "pct <- proc.time()\n",
    "outputmh <- MHsample(x=X, k=Kmc, nsample= 4000,\n",
    "                    init=init, hpar=hpar, ppar=ppar)\n",
    "newpct <- proc.time()\n",
    "elapsed <- newpct - pct\n",
    "elapsed\n",
    "outputmh$naccept ## should not be ridiculously low. "
   ]
  },
  {
   "cell_type": "markdown",
   "metadata": {},
   "source": [
    "We see that the number of acceptances is about 150. Let's take a look at the log posterior history of the algorithm."
   ]
  },
  {
   "cell_type": "code",
   "execution_count": 104,
   "metadata": {},
   "outputs": [
    {
     "data": {
      "image/png": "[encoded data removed]",
      "text/plain": [
       "plot without title"
      ]
     },
     "metadata": {},
     "output_type": "display_data"
    }
   ],
   "source": [
    "plot(outputmh$lpostdens, type=\"l\", lwd=1)"
   ]
  },
  {
   "cell_type": "markdown",
   "metadata": {},
   "source": [
    "We see that the log posterior generally increase, specially after 3000 samplings."
   ]
  },
  {
   "cell_type": "markdown",
   "metadata": {},
   "source": [
    "## III.4. The cdfTrace function\n",
    "This function computes the trace of cumulative density function of a datapoint x during the sampling."
   ]
  },
  {
   "cell_type": "code",
   "execution_count": 67,
   "metadata": {},
   "outputs": [],
   "source": [
    "cdfTrace <- function(x , sample , burnin = 0 , thin = 1)\n",
    "    #' Traces the evolution of the gmcdf at point x through the MCMC iterations.\n",
    "    #'  Can be used for convergence monitoring. \n",
    "    #' x: a single point (vector of size d)\n",
    "    #' burnin, thin: see MHpredictive\n",
    "    #' returns: a vector of length [ (nsample - burnin )/thin ]\n",
    "{\n",
    "    nsample <- ncol(sample$p)\n",
    "    inds <- (burnin+1):nsample\n",
    "    inds <- inds[inds%%thin==0]\n",
    "    output <- vapply(inds , function(niter){\n",
    "        ## complete the code using gmcdf\n",
    "        gmcdf(x=x,Mu=sample$Mu[,,niter],Sigma=sample$Sigma[,,,niter],p=sample$p[,niter])},\n",
    "        FUN.VALUE = numeric(1))\n",
    "    return(output)\n",
    "}"
   ]
  },
  {
   "cell_type": "markdown",
   "metadata": {},
   "source": [
    "## III.5 Convergence test using Heidelberger and Welch's test"
   ]
  },
  {
   "cell_type": "markdown",
   "metadata": {},
   "source": [
    "We try with 2 random start values."
   ]
  },
  {
   "cell_type": "code",
   "execution_count": 105,
   "metadata": {},
   "outputs": [],
   "source": [
    "idx_list <- round(runif(5,1,N))"
   ]
  },
  {
   "cell_type": "code",
   "execution_count": 106,
   "metadata": {},
   "outputs": [
    {
     "data": {
      "text/plain": [
       "[[1]]\n",
       "                                   \n",
       "     Stationarity start     p-value\n",
       "     test         iteration        \n",
       "var1 passed       1         0.0515 \n",
       "                              \n",
       "     Halfwidth Mean  Halfwidth\n",
       "     test                     \n",
       "var1 passed    0.333 0.00716  \n",
       "\n",
       "[[2]]\n",
       "                                   \n",
       "     Stationarity start     p-value\n",
       "     test         iteration        \n",
       "var1 passed       1         0.152  \n",
       "                              \n",
       "     Halfwidth Mean  Halfwidth\n",
       "     test                     \n",
       "var1 passed    0.365 0.00709  \n",
       "\n",
       "[[3]]\n",
       "                                   \n",
       "     Stationarity start     p-value\n",
       "     test         iteration        \n",
       "var1 passed       401       0.115  \n",
       "                              \n",
       "     Halfwidth Mean  Halfwidth\n",
       "     test                     \n",
       "var1 passed    0.243 0.00484  \n",
       "\n",
       "[[4]]\n",
       "                                   \n",
       "     Stationarity start     p-value\n",
       "     test         iteration        \n",
       "var1 passed       1         0.0987 \n",
       "                              \n",
       "     Halfwidth Mean  Halfwidth\n",
       "     test                     \n",
       "var1 passed    0.413 0.00847  \n",
       "\n",
       "[[5]]\n",
       "                                   \n",
       "     Stationarity start     p-value\n",
       "     test         iteration        \n",
       "var1 passed       1         0.183  \n",
       "                              \n",
       "     Halfwidth Mean  Halfwidth\n",
       "     test                     \n",
       "var1 passed    0.258 0.00645  \n"
      ]
     },
     "metadata": {},
     "output_type": "display_data"
    }
   ],
   "source": [
    "res_list <- lapply(idx_list, function(ind){ cdfTrace(x=X[ind,],sample=outputmh,burnin=0, thin = 1)})\n",
    "res_list <- lapply(res_list, mcmc)\n",
    "heidel.diag(mcmc.list(res_list))"
   ]
  },
  {
   "cell_type": "markdown",
   "metadata": {},
   "source": [
    "We see that all the chains passsed the test. However, different chains have different p-value, indicating that the stability is quite different. To better illustrate this, we'll plot the two chains."
   ]
  },
  {
   "cell_type": "code",
   "execution_count": 107,
   "metadata": {},
   "outputs": [
    {
     "data": {
      "image/png": "[encoded data removed]",
      "text/plain": [
       "Plot with title \"\""
      ]
     },
     "metadata": {},
     "output_type": "display_data"
    }
   ],
   "source": [
    "plot(mcmc.list(res_list))"
   ]
  },
  {
   "cell_type": "markdown",
   "metadata": {},
   "source": [
    "We see that as p-value is quite low, we might need more iterations for this dataset."
   ]
  },
  {
   "cell_type": "markdown",
   "metadata": {},
   "source": [
    "## III.6. Convergence check with Gelman and Rubin's diagnostic"
   ]
  },
  {
   "cell_type": "markdown",
   "metadata": {},
   "source": [
    "In this case we set the number of samplings to 5000. We run 3 different samplings."
   ]
  },
  {
   "cell_type": "code",
   "execution_count": 108,
   "metadata": {},
   "outputs": [],
   "source": [
    "outputmh1 <- MHsample(x=X, k=Kmc, nsample= 5000,\n",
    "                    init=init, hpar=hpar, ppar=ppar)\n",
    "outputmh2 <- MHsample(x=X, k=Kmc, nsample= 5000,\n",
    "                    init=init, hpar=hpar, ppar=ppar)\n",
    "outputmh3 <- MHsample(x=X, k=Kmc, nsample= 5000,\n",
    "                    init=init, hpar=hpar, ppar=ppar)"
   ]
  },
  {
   "cell_type": "code",
   "execution_count": 110,
   "metadata": {},
   "outputs": [],
   "source": [
    "ind <- round(runif(1,1,N))\n",
    "result <- lapply(list(outputmh1,outputmh2,outputmh3), function(outmh){\n",
    "    cdfTrace(x=X[ind,],sample=outmh,burnin=0, thin = 1)})\n",
    "result <- lapply(result, mcmc)"
   ]
  },
  {
   "cell_type": "code",
   "execution_count": 111,
   "metadata": {},
   "outputs": [
    {
     "data": {
      "text/plain": [
       "Potential scale reduction factors:\n",
       "\n",
       "     Point est. Upper C.I.\n",
       "[1,]       4.37       7.21\n"
      ]
     },
     "metadata": {},
     "output_type": "display_data"
    },
    {
     "data": {
      "image/png": "[encoded data removed]",
      "text/plain": [
       "plot without title"
      ]
     },
     "metadata": {},
     "output_type": "display_data"
    }
   ],
   "source": [
    "gelman.diag(mcmc.list(res_list))\n",
    "gelman.plot(mcmc.list(res_list))"
   ]
  },
  {
   "cell_type": "markdown",
   "metadata": {},
   "source": [
    "We see that wee can indeed burn from the 1000 index."
   ]
  },
  {
   "cell_type": "markdown",
   "metadata": {},
   "source": [
    "## III.7. Visualize the numerical approximation of density function"
   ]
  },
  {
   "cell_type": "markdown",
   "metadata": {},
   "source": [
    "We first define the MHpredictive function as follows."
   ]
  },
  {
   "cell_type": "code",
   "execution_count": 87,
   "metadata": {},
   "outputs": [],
   "source": [
    "MHpredictive <- function(x , sample , burnin=0, thin=1)\n",
    "    #' posterior predictive density computed from MH output. \n",
    "    #' x: vector size d (single point)\n",
    "    #' sample: output from the MCMC algorithm should contain\n",
    "    #'    entries Mu, Sigma, p as in MHsample's output\n",
    "    #' burnin: length of the burn-in period\n",
    "    #'   (number of sample being discarded at the beginning of the chain).\n",
    "    #' thin: thinning parameter: only 1 sample out of 'thin' will be kept\n",
    "    #' returns: a single numeric value\n",
    "{\n",
    "    nsample <- ncol(sample$p)\n",
    "    inds <- (burnin+1):nsample\n",
    "    inds <- inds[inds%%thin==0]\n",
    "    vectllk <- vapply(inds, function(niter){\n",
    "        ## complete the code\n",
    "        exp(gmllk(x = x, sample$Mu[,,niter],Sigma=sample$Sigma[,,,niter],p=sample$p[,niter]))}\n",
    ", FUN.VALUE = numeric(1)\n",
    "  )\n",
    "      return(mean(vectllk))\n",
    "}"
   ]
  },
  {
   "cell_type": "markdown",
   "metadata": {},
   "source": [
    "Let's draw the contours of density function."
   ]
  },
  {
   "cell_type": "code",
   "execution_count": 88,
   "metadata": {},
   "outputs": [
    {
     "data": {
      "image/png": "[encoded data removed]",
      "text/plain": [
       "plot without title"
      ]
     },
     "metadata": {},
     "output_type": "display_data"
    }
   ],
   "source": [
    "#######################################################\n",
    "#' Predictive density\n",
    "#' ####################################################\n",
    "xx <- seq(-2,2,length.out=20)\n",
    "yy <- xx\n",
    "dtrue <- outer(X= xx, Y=yy,\n",
    "            FUN = function(x,y){\n",
    "                wrapper(x=x, y=y,\n",
    "                        FUN=function(u,v){\n",
    "                          exp(gmllk(x = c(u,v), Mu = Mu,\n",
    "                          Sigma = Sigma, p = p))\n",
    "                        })\n",
    "            })\n",
    "\n",
    "dpredmh <-  outer(X= xx, Y=yy,\n",
    "            FUN = function(x,y){\n",
    "                wrapper(x = x, y = y,\n",
    "                        FUN =function(u,v){\n",
    "                     ## complete the code    \n",
    "                        MHpredictive(x = c(u,v) , sample = outputmh , burnin=0, thin=100)})\n",
    "            })\n",
    "\n",
    "breaks <- c(seq(0.01,0.09, length.out=5),seq(0.1,0.3,length.out=5))\n",
    "nbreaks <- length(breaks)\n",
    "contour(xx,yy, z = dtrue, nlevels=nbreaks, levels = breaks,col='green')\n",
    "contour(xx,yy, z = dpredmh,  nlevels=nbreaks, levels = breaks,\n",
    "          add=TRUE, col='red')"
   ]
  },
  {
   "cell_type": "markdown",
   "metadata": {},
   "source": [
    "We see that the MH algorithm approximates very close to the true distribution."
   ]
  },
  {
   "cell_type": "markdown",
   "metadata": {},
   "source": [
    "# IV. Predictive distributions versus maximum likelihood distribution"
   ]
  },
  {
   "cell_type": "markdown",
   "metadata": {},
   "source": [
    "## IV.1. The functions MHpredictiveCdf and vbPredictiveCdf"
   ]
  },
  {
   "cell_type": "markdown",
   "metadata": {},
   "source": [
    "These two function compute the predictive cumulative density function of one single datapoint with respect to the outputs of MH and VB algorithms."
   ]
  },
  {
   "cell_type": "code",
   "execution_count": 90,
   "metadata": {},
   "outputs": [],
   "source": [
    "MHpredictiveCdf <- function(x , sample , burnin = 0, thin = 1)\n",
    "    #' posterior predictive cdf computed from MH output.\n",
    "    #' arguments: see MHpredictive.\n",
    "    #' returns: a single numeric value. \n",
    "{\n",
    "    nsample <- ncol(sample$p)\n",
    "    inds <- (burnin+1):nsample\n",
    "    inds <- inds[inds%%thin==0]\n",
    "\n",
    "    vectcdf <- vapply(inds, function(niter){\n",
    "    ## complete the code \n",
    "    gmcdf(x=x,Mu=sample$Mu[,,niter],Sigma=sample$Sigma[,,,niter],p=sample$p[,niter])\n",
    "  }, FUN.VALUE = numeric(1)\n",
    "  )\n",
    "      return(mean(vectcdf))\n",
    "}"
   ]
  },
  {
   "cell_type": "code",
   "execution_count": 91,
   "metadata": {},
   "outputs": [],
   "source": [
    "vbPredictiveCdf <- function(x, Alpha, Beta, M, Winv, Nu)\n",
    "    #' predictive cumulative distribution function based on the VB approximation.\n",
    "    #' x: a single point (vector): where to evaluate the cdf. \n",
    "    #' Alpha, Winv, Nu, M, Beta: the VB posterior parameters,  see vbEstep\n",
    "    #' returns the value of the variational posterior predictive cdf\n",
    "    #'  (= mean of the mixture cdf under the variational posterior predictive)\n",
    "    #'   at point x. \n",
    "{\n",
    "    k <- length(Alpha)\n",
    "    d <-  length(x)\n",
    "    vectcdf <- vapply(X= 1:k, FUN= function(j){\n",
    "        W <- Winv[,,j]\n",
    "        L <-  (1 + Beta[j])/ ((Nu[j] + 1 - d) * Beta[j])  *   W\n",
    "        L <- 1/2 * (L + t(L)) ## ensures symmetry despite numerical errors\n",
    "        return(pmt(x=x, mean = M[j,], S = L, df = Nu[j] + 1 - d, log=FALSE))} ,\n",
    "        FUN.VALUE= numeric(1) )\n",
    "\n",
    "    return(sum(Alpha * vectcdf) / sum(Alpha))\n",
    "}"
   ]
  },
  {
   "cell_type": "markdown",
   "metadata": {},
   "source": [
    "## IV.2. Performance on a diagonal line"
   ]
  },
  {
   "cell_type": "code",
   "execution_count": 93,
   "metadata": {
    "scrolled": true
   },
   "outputs": [
    {
     "name": "stderr",
     "output_type": "stream",
     "text": [
      "Warning message in biv.nt.prob(df, lower = rep(-Inf, 2), upper = x[j, ], mean[j, :\n",
      "\"non integer df is rounded to integer\"Warning message in biv.nt.prob(df, lower = rep(-Inf, 2), upper = x[j, ], mean[j, :\n",
      "\"non integer df is rounded to integer\"Warning message in biv.nt.prob(df, lower = rep(-Inf, 2), upper = x[j, ], mean[j, :\n",
      "\"non integer df is rounded to integer\"Warning message in biv.nt.prob(df, lower = rep(-Inf, 2), upper = x[j, ], mean[j, :\n",
      "\"non integer df is rounded to integer\"Warning message in biv.nt.prob(df, lower = rep(-Inf, 2), upper = x[j, ], mean[j, :\n",
      "\"non integer df is rounded to integer\"Warning message in biv.nt.prob(df, lower = rep(-Inf, 2), upper = x[j, ], mean[j, :\n",
      "\"non integer df is rounded to integer\"Warning message in biv.nt.prob(df, lower = rep(-Inf, 2), upper = x[j, ], mean[j, :\n",
      "\"non integer df is rounded to integer\"Warning message in biv.nt.prob(df, lower = rep(-Inf, 2), upper = x[j, ], mean[j, :\n",
      "\"non integer df is rounded to integer\"Warning message in biv.nt.prob(df, lower = rep(-Inf, 2), upper = x[j, ], mean[j, :\n",
      "\"non integer df is rounded to integer\"Warning message in biv.nt.prob(df, lower = rep(-Inf, 2), upper = x[j, ], mean[j, :\n",
      "\"non integer df is rounded to integer\"Warning message in biv.nt.prob(df, lower = rep(-Inf, 2), upper = x[j, ], mean[j, :\n",
      "\"non integer df is rounded to integer\"Warning message in biv.nt.prob(df, lower = rep(-Inf, 2), upper = x[j, ], mean[j, :\n",
      "\"non integer df is rounded to integer\"Warning message in biv.nt.prob(df, lower = rep(-Inf, 2), upper = x[j, ], mean[j, :\n",
      "\"non integer df is rounded to integer\"Warning message in biv.nt.prob(df, lower = rep(-Inf, 2), upper = x[j, ], mean[j, :\n",
      "\"non integer df is rounded to integer\"Warning message in biv.nt.prob(df, lower = rep(-Inf, 2), upper = x[j, ], mean[j, :\n",
      "\"non integer df is rounded to integer\"Warning message in biv.nt.prob(df, lower = rep(-Inf, 2), upper = x[j, ], mean[j, :\n",
      "\"non integer df is rounded to integer\"Warning message in biv.nt.prob(df, lower = rep(-Inf, 2), upper = x[j, ], mean[j, :\n",
      "\"non integer df is rounded to integer\"Warning message in biv.nt.prob(df, lower = rep(-Inf, 2), upper = x[j, ], mean[j, :\n",
      "\"non integer df is rounded to integer\"Warning message in biv.nt.prob(df, lower = rep(-Inf, 2), upper = x[j, ], mean[j, :\n",
      "\"non integer df is rounded to integer\"Warning message in biv.nt.prob(df, lower = rep(-Inf, 2), upper = x[j, ], mean[j, :\n",
      "\"non integer df is rounded to integer\"Warning message in biv.nt.prob(df, lower = rep(-Inf, 2), upper = x[j, ], mean[j, :\n",
      "\"non integer df is rounded to integer\"Warning message in biv.nt.prob(df, lower = rep(-Inf, 2), upper = x[j, ], mean[j, :\n",
      "\"non integer df is rounded to integer\"Warning message in biv.nt.prob(df, lower = rep(-Inf, 2), upper = x[j, ], mean[j, :\n",
      "\"non integer df is rounded to integer\"Warning message in biv.nt.prob(df, lower = rep(-Inf, 2), upper = x[j, ], mean[j, :\n",
      "\"non integer df is rounded to integer\"Warning message in biv.nt.prob(df, lower = rep(-Inf, 2), upper = x[j, ], mean[j, :\n",
      "\"non integer df is rounded to integer\"Warning message in biv.nt.prob(df, lower = rep(-Inf, 2), upper = x[j, ], mean[j, :\n",
      "\"non integer df is rounded to integer\"Warning message in biv.nt.prob(df, lower = rep(-Inf, 2), upper = x[j, ], mean[j, :\n",
      "\"non integer df is rounded to integer\"Warning message in biv.nt.prob(df, lower = rep(-Inf, 2), upper = x[j, ], mean[j, :\n",
      "\"non integer df is rounded to integer\"Warning message in biv.nt.prob(df, lower = rep(-Inf, 2), upper = x[j, ], mean[j, :\n",
      "\"non integer df is rounded to integer\"Warning message in biv.nt.prob(df, lower = rep(-Inf, 2), upper = x[j, ], mean[j, :\n",
      "\"non integer df is rounded to integer\"Warning message in biv.nt.prob(df, lower = rep(-Inf, 2), upper = x[j, ], mean[j, :\n",
      "\"non integer df is rounded to integer\"Warning message in biv.nt.prob(df, lower = rep(-Inf, 2), upper = x[j, ], mean[j, :\n",
      "\"non integer df is rounded to integer\"Warning message in biv.nt.prob(df, lower = rep(-Inf, 2), upper = x[j, ], mean[j, :\n",
      "\"non integer df is rounded to integer\"Warning message in biv.nt.prob(df, lower = rep(-Inf, 2), upper = x[j, ], mean[j, :\n",
      "\"non integer df is rounded to integer\"Warning message in biv.nt.prob(df, lower = rep(-Inf, 2), upper = x[j, ], mean[j, :\n",
      "\"non integer df is rounded to integer\"Warning message in biv.nt.prob(df, lower = rep(-Inf, 2), upper = x[j, ], mean[j, :\n",
      "\"non integer df is rounded to integer\"Warning message in biv.nt.prob(df, lower = rep(-Inf, 2), upper = x[j, ], mean[j, :\n",
      "\"non integer df is rounded to integer\"Warning message in biv.nt.prob(df, lower = rep(-Inf, 2), upper = x[j, ], mean[j, :\n",
      "\"non integer df is rounded to integer\"Warning message in biv.nt.prob(df, lower = rep(-Inf, 2), upper = x[j, ], mean[j, :\n",
      "\"non integer df is rounded to integer\"Warning message in biv.nt.prob(df, lower = rep(-Inf, 2), upper = x[j, ], mean[j, :\n",
      "\"non integer df is rounded to integer\"Warning message in biv.nt.prob(df, lower = rep(-Inf, 2), upper = x[j, ], mean[j, :\n",
      "\"non integer df is rounded to integer\"Warning message in biv.nt.prob(df, lower = rep(-Inf, 2), upper = x[j, ], mean[j, :\n",
      "\"non integer df is rounded to integer\"Warning message in biv.nt.prob(df, lower = rep(-Inf, 2), upper = x[j, ], mean[j, :\n",
      "\"non integer df is rounded to integer\"Warning message in biv.nt.prob(df, lower = rep(-Inf, 2), upper = x[j, ], mean[j, :\n",
      "\"non integer df is rounded to integer\"Warning message in biv.nt.prob(df, lower = rep(-Inf, 2), upper = x[j, ], mean[j, :\n",
      "\"non integer df is rounded to integer\"Warning message in biv.nt.prob(df, lower = rep(-Inf, 2), upper = x[j, ], mean[j, :\n",
      "\"non integer df is rounded to integer\"Warning message in biv.nt.prob(df, lower = rep(-Inf, 2), upper = x[j, ], mean[j, :\n",
      "\"non integer df is rounded to integer\"Warning message in biv.nt.prob(df, lower = rep(-Inf, 2), upper = x[j, ], mean[j, :\n",
      "\"non integer df is rounded to integer\"Warning message in biv.nt.prob(df, lower = rep(-Inf, 2), upper = x[j, ], mean[j, :\n",
      "\"non integer df is rounded to integer\"Warning message in biv.nt.prob(df, lower = rep(-Inf, 2), upper = x[j, ], mean[j, :\n",
      "\"non integer df is rounded to integer\"Warning message in biv.nt.prob(df, lower = rep(-Inf, 2), upper = x[j, ], mean[j, :\n",
      "\"non integer df is rounded to integer\"Warning message in biv.nt.prob(df, lower = rep(-Inf, 2), upper = x[j, ], mean[j, :\n",
      "\"non integer df is rounded to integer\"Warning message in biv.nt.prob(df, lower = rep(-Inf, 2), upper = x[j, ], mean[j, :\n",
      "\"non integer df is rounded to integer\"Warning message in biv.nt.prob(df, lower = rep(-Inf, 2), upper = x[j, ], mean[j, :\n",
      "\"non integer df is rounded to integer\"Warning message in biv.nt.prob(df, lower = rep(-Inf, 2), upper = x[j, ], mean[j, :\n",
      "\"non integer df is rounded to integer\"Warning message in biv.nt.prob(df, lower = rep(-Inf, 2), upper = x[j, ], mean[j, :\n",
      "\"non integer df is rounded to integer\"Warning message in biv.nt.prob(df, lower = rep(-Inf, 2), upper = x[j, ], mean[j, :\n",
      "\"non integer df is rounded to integer\"Warning message in biv.nt.prob(df, lower = rep(-Inf, 2), upper = x[j, ], mean[j, :\n",
      "\"non integer df is rounded to integer\"Warning message in biv.nt.prob(df, lower = rep(-Inf, 2), upper = x[j, ], mean[j, :\n",
      "\"non integer df is rounded to integer\"Warning message in biv.nt.prob(df, lower = rep(-Inf, 2), upper = x[j, ], mean[j, :\n",
      "\"non integer df is rounded to integer\"Warning message in biv.nt.prob(df, lower = rep(-Inf, 2), upper = x[j, ], mean[j, :\n",
      "\"non integer df is rounded to integer\"Warning message in biv.nt.prob(df, lower = rep(-Inf, 2), upper = x[j, ], mean[j, :\n",
      "\"non integer df is rounded to integer\"Warning message in biv.nt.prob(df, lower = rep(-Inf, 2), upper = x[j, ], mean[j, :\n",
      "\"non integer df is rounded to integer\"Warning message in biv.nt.prob(df, lower = rep(-Inf, 2), upper = x[j, ], mean[j, :\n",
      "\"non integer df is rounded to integer\"Warning message in biv.nt.prob(df, lower = rep(-Inf, 2), upper = x[j, ], mean[j, :\n",
      "\"non integer df is rounded to integer\"Warning message in biv.nt.prob(df, lower = rep(-Inf, 2), upper = x[j, ], mean[j, :\n",
      "\"non integer df is rounded to integer\"Warning message in biv.nt.prob(df, lower = rep(-Inf, 2), upper = x[j, ], mean[j, :\n",
      "\"non integer df is rounded to integer\"Warning message in biv.nt.prob(df, lower = rep(-Inf, 2), upper = x[j, ], mean[j, :\n",
      "\"non integer df is rounded to integer\"Warning message in biv.nt.prob(df, lower = rep(-Inf, 2), upper = x[j, ], mean[j, :\n",
      "\"non integer df is rounded to integer\"Warning message in biv.nt.prob(df, lower = rep(-Inf, 2), upper = x[j, ], mean[j, :\n",
      "\"non integer df is rounded to integer\"Warning message in biv.nt.prob(df, lower = rep(-Inf, 2), upper = x[j, ], mean[j, :\n",
      "\"non integer df is rounded to integer\"Warning message in biv.nt.prob(df, lower = rep(-Inf, 2), upper = x[j, ], mean[j, :\n",
      "\"non integer df is rounded to integer\"Warning message in biv.nt.prob(df, lower = rep(-Inf, 2), upper = x[j, ], mean[j, :\n",
      "\"non integer df is rounded to integer\"Warning message in biv.nt.prob(df, lower = rep(-Inf, 2), upper = x[j, ], mean[j, :\n",
      "\"non integer df is rounded to integer\"Warning message in biv.nt.prob(df, lower = rep(-Inf, 2), upper = x[j, ], mean[j, :\n",
      "\"non integer df is rounded to integer\"Warning message in biv.nt.prob(df, lower = rep(-Inf, 2), upper = x[j, ], mean[j, :\n",
      "\"non integer df is rounded to integer\"Warning message in biv.nt.prob(df, lower = rep(-Inf, 2), upper = x[j, ], mean[j, :\n",
      "\"non integer df is rounded to integer\"Warning message in biv.nt.prob(df, lower = rep(-Inf, 2), upper = x[j, ], mean[j, :\n",
      "\"non integer df is rounded to integer\"Warning message in biv.nt.prob(df, lower = rep(-Inf, 2), upper = x[j, ], mean[j, :\n",
      "\"non integer df is rounded to integer\"Warning message in biv.nt.prob(df, lower = rep(-Inf, 2), upper = x[j, ], mean[j, :\n",
      "\"non integer df is rounded to integer\"Warning message in biv.nt.prob(df, lower = rep(-Inf, 2), upper = x[j, ], mean[j, :\n",
      "\"non integer df is rounded to integer\"Warning message in biv.nt.prob(df, lower = rep(-Inf, 2), upper = x[j, ], mean[j, :\n",
      "\"non integer df is rounded to integer\"Warning message in biv.nt.prob(df, lower = rep(-Inf, 2), upper = x[j, ], mean[j, :\n",
      "\"non integer df is rounded to integer\"Warning message in biv.nt.prob(df, lower = rep(-Inf, 2), upper = x[j, ], mean[j, :\n",
      "\"non integer df is rounded to integer\"Warning message in biv.nt.prob(df, lower = rep(-Inf, 2), upper = x[j, ], mean[j, :\n",
      "\"non integer df is rounded to integer\"Warning message in biv.nt.prob(df, lower = rep(-Inf, 2), upper = x[j, ], mean[j, :\n",
      "\"non integer df is rounded to integer\"Warning message in biv.nt.prob(df, lower = rep(-Inf, 2), upper = x[j, ], mean[j, :\n",
      "\"non integer df is rounded to integer\"Warning message in biv.nt.prob(df, lower = rep(-Inf, 2), upper = x[j, ], mean[j, :\n",
      "\"non integer df is rounded to integer\"Warning message in biv.nt.prob(df, lower = rep(-Inf, 2), upper = x[j, ], mean[j, :\n",
      "\"non integer df is rounded to integer\"Warning message in biv.nt.prob(df, lower = rep(-Inf, 2), upper = x[j, ], mean[j, :\n",
      "\"non integer df is rounded to integer\"Warning message in biv.nt.prob(df, lower = rep(-Inf, 2), upper = x[j, ], mean[j, :\n",
      "\"non integer df is rounded to integer\"Warning message in biv.nt.prob(df, lower = rep(-Inf, 2), upper = x[j, ], mean[j, :\n",
      "\"non integer df is rounded to integer\"Warning message in biv.nt.prob(df, lower = rep(-Inf, 2), upper = x[j, ], mean[j, :\n",
      "\"non integer df is rounded to integer\"Warning message in biv.nt.prob(df, lower = rep(-Inf, 2), upper = x[j, ], mean[j, :\n",
      "\"non integer df is rounded to integer\"Warning message in biv.nt.prob(df, lower = rep(-Inf, 2), upper = x[j, ], mean[j, :\n",
      "\"non integer df is rounded to integer\"Warning message in biv.nt.prob(df, lower = rep(-Inf, 2), upper = x[j, ], mean[j, :\n",
      "\"non integer df is rounded to integer\"Warning message in biv.nt.prob(df, lower = rep(-Inf, 2), upper = x[j, ], mean[j, :\n",
      "\"non integer df is rounded to integer\"Warning message in biv.nt.prob(df, lower = rep(-Inf, 2), upper = x[j, ], mean[j, :\n",
      "\"non integer df is rounded to integer\"Warning message in biv.nt.prob(df, lower = rep(-Inf, 2), upper = x[j, ], mean[j, :\n",
      "\"non integer df is rounded to integer\"Warning message in biv.nt.prob(df, lower = rep(-Inf, 2), upper = x[j, ], mean[j, :\n",
      "\"non integer df is rounded to integer\"Warning message in biv.nt.prob(df, lower = rep(-Inf, 2), upper = x[j, ], mean[j, :\n",
      "\"non integer df is rounded to integer\"Warning message in biv.nt.prob(df, lower = rep(-Inf, 2), upper = x[j, ], mean[j, :\n",
      "\"non integer df is rounded to integer\"Warning message in biv.nt.prob(df, lower = rep(-Inf, 2), upper = x[j, ], mean[j, :\n",
      "\"non integer df is rounded to integer\"Warning message in biv.nt.prob(df, lower = rep(-Inf, 2), upper = x[j, ], mean[j, :\n",
      "\"non integer df is rounded to integer\"Warning message in biv.nt.prob(df, lower = rep(-Inf, 2), upper = x[j, ], mean[j, :\n",
      "\"non integer df is rounded to integer\"Warning message in biv.nt.prob(df, lower = rep(-Inf, 2), upper = x[j, ], mean[j, :\n",
      "\"non integer df is rounded to integer\"Warning message in biv.nt.prob(df, lower = rep(-Inf, 2), upper = x[j, ], mean[j, :\n",
      "\"non integer df is rounded to integer\"Warning message in biv.nt.prob(df, lower = rep(-Inf, 2), upper = x[j, ], mean[j, :\n",
      "\"non integer df is rounded to integer\"Warning message in biv.nt.prob(df, lower = rep(-Inf, 2), upper = x[j, ], mean[j, :\n",
      "\"non integer df is rounded to integer\"Warning message in biv.nt.prob(df, lower = rep(-Inf, 2), upper = x[j, ], mean[j, :\n",
      "\"non integer df is rounded to integer\"Warning message in biv.nt.prob(df, lower = rep(-Inf, 2), upper = x[j, ], mean[j, :\n",
      "\"non integer df is rounded to integer\"Warning message in biv.nt.prob(df, lower = rep(-Inf, 2), upper = x[j, ], mean[j, :\n",
      "\"non integer df is rounded to integer\"Warning message in biv.nt.prob(df, lower = rep(-Inf, 2), upper = x[j, ], mean[j, :\n",
      "\"non integer df is rounded to integer\"Warning message in biv.nt.prob(df, lower = rep(-Inf, 2), upper = x[j, ], mean[j, :\n",
      "\"non integer df is rounded to integer\"Warning message in biv.nt.prob(df, lower = rep(-Inf, 2), upper = x[j, ], mean[j, :\n",
      "\"non integer df is rounded to integer\"Warning message in biv.nt.prob(df, lower = rep(-Inf, 2), upper = x[j, ], mean[j, :\n",
      "\"non integer df is rounded to integer\"Warning message in biv.nt.prob(df, lower = rep(-Inf, 2), upper = x[j, ], mean[j, :\n",
      "\"non integer df is rounded to integer\"Warning message in biv.nt.prob(df, lower = rep(-Inf, 2), upper = x[j, ], mean[j, :\n",
      "\"non integer df is rounded to integer\"Warning message in biv.nt.prob(df, lower = rep(-Inf, 2), upper = x[j, ], mean[j, :\n",
      "\"non integer df is rounded to integer\"Warning message in biv.nt.prob(df, lower = rep(-Inf, 2), upper = x[j, ], mean[j, :\n",
      "\"non integer df is rounded to integer\""
     ]
    },
    {
     "data": {
      "image/png": "[encoded data removed]",
      "text/plain": [
       "plot without title"
      ]
     },
     "metadata": {},
     "output_type": "display_data"
    }
   ],
   "source": [
    "#########################'\n",
    "##' predictive Cdf's\n",
    "#########################'\n",
    "Pexcess <- rep(0,10)\n",
    "Pexcess_vb <- Pexcess; Pexcess_mh <- Pexcess\n",
    "thres_vect <-  seq(-1, 4, length.out=30)\n",
    "for(i in seq_along(thres_vect)){\n",
    "threshold <- rep(thres_vect[i], 2)\n",
    "Pexcess[i] <- 1 - gmcdf(x = threshold, Mu = Mu, Sigma=Sigma, p=p)\n",
    "T <- ncol(outputvb$Alphamat)\n",
    "Pexcess_vb[i] <-  ## complete the code:\n",
    "    ## posterior predictive  estimator using VB output: \n",
    "    ## use vbPredictiveCdf\n",
    "    1 - vbPredictiveCdf (x = threshold, \n",
    "                         Alpha = outputvb$Alphamat[,T], \n",
    "                         Beta = outputvb$Betamat[,T], \n",
    "                         M = outputvb$Marray[,,T], \n",
    "                         Winv = outputvb$Winvarray[,,,T], \n",
    "                         Nu = outputvb$Numat[,T])\n",
    "    \n",
    "Pexcess_mh[i] <-  ## complete the code:\n",
    "    ## posterior predictive  estimator using MH output:\n",
    "    ## use MHpredictiveCdf. \n",
    "    1 - MHpredictiveCdf(x = threshold , sample = outputmh , burnin = 0, thin = 100)\n",
    "    }\n",
    "\n",
    "ylim <- range(Pexcess, Pexcess_vb, Pexcess_mh)\n",
    "plot(thres_vect,Pexcess, ylim = ylim)\n",
    "lines(thres_vect, Pexcess_vb, col='red')\n",
    "lines(thres_vect, Pexcess_mh, col='green')"
   ]
  },
  {
   "cell_type": "markdown",
   "metadata": {},
   "source": [
    "We see that both the two methods approximate correctly the excess probability of the true model. We can see in this case that the VB algorithm stops at the two boundaries 0 and 1 while the HM algorithm manages to follow the true function."
   ]
  },
  {
   "cell_type": "markdown",
   "metadata": {},
   "source": [
    "## IV.3. Looking at the tail of the distribution"
   ]
  },
  {
   "cell_type": "code",
   "execution_count": 94,
   "metadata": {},
   "outputs": [
    {
     "name": "stderr",
     "output_type": "stream",
     "text": [
      "Warning message in biv.nt.prob(df, lower = rep(-Inf, 2), upper = x[j, ], mean[j, :\n",
      "\"non integer df is rounded to integer\"Warning message in biv.nt.prob(df, lower = rep(-Inf, 2), upper = x[j, ], mean[j, :\n",
      "\"non integer df is rounded to integer\"Warning message in biv.nt.prob(df, lower = rep(-Inf, 2), upper = x[j, ], mean[j, :\n",
      "\"non integer df is rounded to integer\"Warning message in biv.nt.prob(df, lower = rep(-Inf, 2), upper = x[j, ], mean[j, :\n",
      "\"non integer df is rounded to integer\"Warning message in biv.nt.prob(df, lower = rep(-Inf, 2), upper = x[j, ], mean[j, :\n",
      "\"non integer df is rounded to integer\"Warning message in biv.nt.prob(df, lower = rep(-Inf, 2), upper = x[j, ], mean[j, :\n",
      "\"non integer df is rounded to integer\"Warning message in biv.nt.prob(df, lower = rep(-Inf, 2), upper = x[j, ], mean[j, :\n",
      "\"non integer df is rounded to integer\"Warning message in biv.nt.prob(df, lower = rep(-Inf, 2), upper = x[j, ], mean[j, :\n",
      "\"non integer df is rounded to integer\"Warning message in biv.nt.prob(df, lower = rep(-Inf, 2), upper = x[j, ], mean[j, :\n",
      "\"non integer df is rounded to integer\"Warning message in biv.nt.prob(df, lower = rep(-Inf, 2), upper = x[j, ], mean[j, :\n",
      "\"non integer df is rounded to integer\"Warning message in biv.nt.prob(df, lower = rep(-Inf, 2), upper = x[j, ], mean[j, :\n",
      "\"non integer df is rounded to integer\"Warning message in biv.nt.prob(df, lower = rep(-Inf, 2), upper = x[j, ], mean[j, :\n",
      "\"non integer df is rounded to integer\"Warning message in biv.nt.prob(df, lower = rep(-Inf, 2), upper = x[j, ], mean[j, :\n",
      "\"non integer df is rounded to integer\"Warning message in biv.nt.prob(df, lower = rep(-Inf, 2), upper = x[j, ], mean[j, :\n",
      "\"non integer df is rounded to integer\"Warning message in biv.nt.prob(df, lower = rep(-Inf, 2), upper = x[j, ], mean[j, :\n",
      "\"non integer df is rounded to integer\"Warning message in biv.nt.prob(df, lower = rep(-Inf, 2), upper = x[j, ], mean[j, :\n",
      "\"non integer df is rounded to integer\"Warning message in biv.nt.prob(df, lower = rep(-Inf, 2), upper = x[j, ], mean[j, :\n",
      "\"non integer df is rounded to integer\"Warning message in biv.nt.prob(df, lower = rep(-Inf, 2), upper = x[j, ], mean[j, :\n",
      "\"non integer df is rounded to integer\"Warning message in biv.nt.prob(df, lower = rep(-Inf, 2), upper = x[j, ], mean[j, :\n",
      "\"non integer df is rounded to integer\"Warning message in biv.nt.prob(df, lower = rep(-Inf, 2), upper = x[j, ], mean[j, :\n",
      "\"non integer df is rounded to integer\"Warning message in biv.nt.prob(df, lower = rep(-Inf, 2), upper = x[j, ], mean[j, :\n",
      "\"non integer df is rounded to integer\"Warning message in biv.nt.prob(df, lower = rep(-Inf, 2), upper = x[j, ], mean[j, :\n",
      "\"non integer df is rounded to integer\"Warning message in biv.nt.prob(df, lower = rep(-Inf, 2), upper = x[j, ], mean[j, :\n",
      "\"non integer df is rounded to integer\"Warning message in biv.nt.prob(df, lower = rep(-Inf, 2), upper = x[j, ], mean[j, :\n",
      "\"non integer df is rounded to integer\"Warning message in biv.nt.prob(df, lower = rep(-Inf, 2), upper = x[j, ], mean[j, :\n",
      "\"non integer df is rounded to integer\"Warning message in biv.nt.prob(df, lower = rep(-Inf, 2), upper = x[j, ], mean[j, :\n",
      "\"non integer df is rounded to integer\"Warning message in biv.nt.prob(df, lower = rep(-Inf, 2), upper = x[j, ], mean[j, :\n",
      "\"non integer df is rounded to integer\"Warning message in biv.nt.prob(df, lower = rep(-Inf, 2), upper = x[j, ], mean[j, :\n",
      "\"non integer df is rounded to integer\"Warning message in biv.nt.prob(df, lower = rep(-Inf, 2), upper = x[j, ], mean[j, :\n",
      "\"non integer df is rounded to integer\"Warning message in biv.nt.prob(df, lower = rep(-Inf, 2), upper = x[j, ], mean[j, :\n",
      "\"non integer df is rounded to integer\"Warning message in biv.nt.prob(df, lower = rep(-Inf, 2), upper = x[j, ], mean[j, :\n",
      "\"non integer df is rounded to integer\"Warning message in biv.nt.prob(df, lower = rep(-Inf, 2), upper = x[j, ], mean[j, :\n",
      "\"non integer df is rounded to integer\"Warning message in biv.nt.prob(df, lower = rep(-Inf, 2), upper = x[j, ], mean[j, :\n",
      "\"non integer df is rounded to integer\"Warning message in biv.nt.prob(df, lower = rep(-Inf, 2), upper = x[j, ], mean[j, :\n",
      "\"non integer df is rounded to integer\"Warning message in biv.nt.prob(df, lower = rep(-Inf, 2), upper = x[j, ], mean[j, :\n",
      "\"non integer df is rounded to integer\"Warning message in biv.nt.prob(df, lower = rep(-Inf, 2), upper = x[j, ], mean[j, :\n",
      "\"non integer df is rounded to integer\"Warning message in biv.nt.prob(df, lower = rep(-Inf, 2), upper = x[j, ], mean[j, :\n",
      "\"non integer df is rounded to integer\"Warning message in biv.nt.prob(df, lower = rep(-Inf, 2), upper = x[j, ], mean[j, :\n",
      "\"non integer df is rounded to integer\"Warning message in biv.nt.prob(df, lower = rep(-Inf, 2), upper = x[j, ], mean[j, :\n",
      "\"non integer df is rounded to integer\"Warning message in biv.nt.prob(df, lower = rep(-Inf, 2), upper = x[j, ], mean[j, :\n",
      "\"non integer df is rounded to integer\"Warning message in biv.nt.prob(df, lower = rep(-Inf, 2), upper = x[j, ], mean[j, :\n",
      "\"non integer df is rounded to integer\"Warning message in biv.nt.prob(df, lower = rep(-Inf, 2), upper = x[j, ], mean[j, :\n",
      "\"non integer df is rounded to integer\"Warning message in biv.nt.prob(df, lower = rep(-Inf, 2), upper = x[j, ], mean[j, :\n",
      "\"non integer df is rounded to integer\"Warning message in biv.nt.prob(df, lower = rep(-Inf, 2), upper = x[j, ], mean[j, :\n",
      "\"non integer df is rounded to integer\"Warning message in biv.nt.prob(df, lower = rep(-Inf, 2), upper = x[j, ], mean[j, :\n",
      "\"non integer df is rounded to integer\"Warning message in biv.nt.prob(df, lower = rep(-Inf, 2), upper = x[j, ], mean[j, :\n",
      "\"non integer df is rounded to integer\"Warning message in biv.nt.prob(df, lower = rep(-Inf, 2), upper = x[j, ], mean[j, :\n",
      "\"non integer df is rounded to integer\"Warning message in biv.nt.prob(df, lower = rep(-Inf, 2), upper = x[j, ], mean[j, :\n",
      "\"non integer df is rounded to integer\"Warning message in biv.nt.prob(df, lower = rep(-Inf, 2), upper = x[j, ], mean[j, :\n",
      "\"non integer df is rounded to integer\"Warning message in biv.nt.prob(df, lower = rep(-Inf, 2), upper = x[j, ], mean[j, :\n",
      "\"non integer df is rounded to integer\"Warning message in biv.nt.prob(df, lower = rep(-Inf, 2), upper = x[j, ], mean[j, :\n",
      "\"non integer df is rounded to integer\"Warning message in biv.nt.prob(df, lower = rep(-Inf, 2), upper = x[j, ], mean[j, :\n",
      "\"non integer df is rounded to integer\"Warning message in biv.nt.prob(df, lower = rep(-Inf, 2), upper = x[j, ], mean[j, :\n",
      "\"non integer df is rounded to integer\"Warning message in biv.nt.prob(df, lower = rep(-Inf, 2), upper = x[j, ], mean[j, :\n",
      "\"non integer df is rounded to integer\"Warning message in biv.nt.prob(df, lower = rep(-Inf, 2), upper = x[j, ], mean[j, :\n",
      "\"non integer df is rounded to integer\"Warning message in biv.nt.prob(df, lower = rep(-Inf, 2), upper = x[j, ], mean[j, :\n",
      "\"non integer df is rounded to integer\"Warning message in biv.nt.prob(df, lower = rep(-Inf, 2), upper = x[j, ], mean[j, :\n",
      "\"non integer df is rounded to integer\"Warning message in biv.nt.prob(df, lower = rep(-Inf, 2), upper = x[j, ], mean[j, :\n",
      "\"non integer df is rounded to integer\"Warning message in biv.nt.prob(df, lower = rep(-Inf, 2), upper = x[j, ], mean[j, :\n",
      "\"non integer df is rounded to integer\"Warning message in biv.nt.prob(df, lower = rep(-Inf, 2), upper = x[j, ], mean[j, :\n",
      "\"non integer df is rounded to integer\"Warning message in biv.nt.prob(df, lower = rep(-Inf, 2), upper = x[j, ], mean[j, :\n",
      "\"non integer df is rounded to integer\"Warning message in biv.nt.prob(df, lower = rep(-Inf, 2), upper = x[j, ], mean[j, :\n",
      "\"non integer df is rounded to integer\"Warning message in biv.nt.prob(df, lower = rep(-Inf, 2), upper = x[j, ], mean[j, :\n",
      "\"non integer df is rounded to integer\"Warning message in biv.nt.prob(df, lower = rep(-Inf, 2), upper = x[j, ], mean[j, :\n",
      "\"non integer df is rounded to integer\"Warning message in biv.nt.prob(df, lower = rep(-Inf, 2), upper = x[j, ], mean[j, :\n",
      "\"non integer df is rounded to integer\"Warning message in biv.nt.prob(df, lower = rep(-Inf, 2), upper = x[j, ], mean[j, :\n",
      "\"non integer df is rounded to integer\"Warning message in biv.nt.prob(df, lower = rep(-Inf, 2), upper = x[j, ], mean[j, :\n",
      "\"non integer df is rounded to integer\"Warning message in biv.nt.prob(df, lower = rep(-Inf, 2), upper = x[j, ], mean[j, :\n",
      "\"non integer df is rounded to integer\"Warning message in biv.nt.prob(df, lower = rep(-Inf, 2), upper = x[j, ], mean[j, :\n",
      "\"non integer df is rounded to integer\"Warning message in biv.nt.prob(df, lower = rep(-Inf, 2), upper = x[j, ], mean[j, :\n",
      "\"non integer df is rounded to integer\"Warning message in biv.nt.prob(df, lower = rep(-Inf, 2), upper = x[j, ], mean[j, :\n",
      "\"non integer df is rounded to integer\"Warning message in biv.nt.prob(df, lower = rep(-Inf, 2), upper = x[j, ], mean[j, :\n",
      "\"non integer df is rounded to integer\"Warning message in biv.nt.prob(df, lower = rep(-Inf, 2), upper = x[j, ], mean[j, :\n",
      "\"non integer df is rounded to integer\"Warning message in biv.nt.prob(df, lower = rep(-Inf, 2), upper = x[j, ], mean[j, :\n",
      "\"non integer df is rounded to integer\"Warning message in biv.nt.prob(df, lower = rep(-Inf, 2), upper = x[j, ], mean[j, :\n",
      "\"non integer df is rounded to integer\"Warning message in biv.nt.prob(df, lower = rep(-Inf, 2), upper = x[j, ], mean[j, :\n",
      "\"non integer df is rounded to integer\"Warning message in biv.nt.prob(df, lower = rep(-Inf, 2), upper = x[j, ], mean[j, :\n",
      "\"non integer df is rounded to integer\"Warning message in biv.nt.prob(df, lower = rep(-Inf, 2), upper = x[j, ], mean[j, :\n",
      "\"non integer df is rounded to integer\"Warning message in biv.nt.prob(df, lower = rep(-Inf, 2), upper = x[j, ], mean[j, :\n",
      "\"non integer df is rounded to integer\"Warning message in biv.nt.prob(df, lower = rep(-Inf, 2), upper = x[j, ], mean[j, :\n",
      "\"non integer df is rounded to integer\"Warning message in biv.nt.prob(df, lower = rep(-Inf, 2), upper = x[j, ], mean[j, :\n",
      "\"non integer df is rounded to integer\"Warning message in biv.nt.prob(df, lower = rep(-Inf, 2), upper = x[j, ], mean[j, :\n",
      "\"non integer df is rounded to integer\"Warning message in biv.nt.prob(df, lower = rep(-Inf, 2), upper = x[j, ], mean[j, :\n",
      "\"non integer df is rounded to integer\"Warning message in biv.nt.prob(df, lower = rep(-Inf, 2), upper = x[j, ], mean[j, :\n",
      "\"non integer df is rounded to integer\"Warning message in biv.nt.prob(df, lower = rep(-Inf, 2), upper = x[j, ], mean[j, :\n",
      "\"non integer df is rounded to integer\"Warning message in biv.nt.prob(df, lower = rep(-Inf, 2), upper = x[j, ], mean[j, :\n",
      "\"non integer df is rounded to integer\"Warning message in biv.nt.prob(df, lower = rep(-Inf, 2), upper = x[j, ], mean[j, :\n",
      "\"non integer df is rounded to integer\"Warning message in biv.nt.prob(df, lower = rep(-Inf, 2), upper = x[j, ], mean[j, :\n",
      "\"non integer df is rounded to integer\"Warning message in biv.nt.prob(df, lower = rep(-Inf, 2), upper = x[j, ], mean[j, :\n",
      "\"non integer df is rounded to integer\"Warning message in biv.nt.prob(df, lower = rep(-Inf, 2), upper = x[j, ], mean[j, :\n",
      "\"non integer df is rounded to integer\"Warning message in biv.nt.prob(df, lower = rep(-Inf, 2), upper = x[j, ], mean[j, :\n",
      "\"non integer df is rounded to integer\"Warning message in biv.nt.prob(df, lower = rep(-Inf, 2), upper = x[j, ], mean[j, :\n",
      "\"non integer df is rounded to integer\"Warning message in biv.nt.prob(df, lower = rep(-Inf, 2), upper = x[j, ], mean[j, :\n",
      "\"non integer df is rounded to integer\"Warning message in biv.nt.prob(df, lower = rep(-Inf, 2), upper = x[j, ], mean[j, :\n",
      "\"non integer df is rounded to integer\"Warning message in biv.nt.prob(df, lower = rep(-Inf, 2), upper = x[j, ], mean[j, :\n",
      "\"non integer df is rounded to integer\"Warning message in biv.nt.prob(df, lower = rep(-Inf, 2), upper = x[j, ], mean[j, :\n",
      "\"non integer df is rounded to integer\"Warning message in biv.nt.prob(df, lower = rep(-Inf, 2), upper = x[j, ], mean[j, :\n",
      "\"non integer df is rounded to integer\"Warning message in biv.nt.prob(df, lower = rep(-Inf, 2), upper = x[j, ], mean[j, :\n",
      "\"non integer df is rounded to integer\"Warning message in biv.nt.prob(df, lower = rep(-Inf, 2), upper = x[j, ], mean[j, :\n",
      "\"non integer df is rounded to integer\"Warning message in biv.nt.prob(df, lower = rep(-Inf, 2), upper = x[j, ], mean[j, :\n",
      "\"non integer df is rounded to integer\"Warning message in biv.nt.prob(df, lower = rep(-Inf, 2), upper = x[j, ], mean[j, :\n",
      "\"non integer df is rounded to integer\"Warning message in biv.nt.prob(df, lower = rep(-Inf, 2), upper = x[j, ], mean[j, :\n",
      "\"non integer df is rounded to integer\"Warning message in biv.nt.prob(df, lower = rep(-Inf, 2), upper = x[j, ], mean[j, :\n",
      "\"non integer df is rounded to integer\"Warning message in biv.nt.prob(df, lower = rep(-Inf, 2), upper = x[j, ], mean[j, :\n",
      "\"non integer df is rounded to integer\"Warning message in biv.nt.prob(df, lower = rep(-Inf, 2), upper = x[j, ], mean[j, :\n",
      "\"non integer df is rounded to integer\"Warning message in biv.nt.prob(df, lower = rep(-Inf, 2), upper = x[j, ], mean[j, :\n",
      "\"non integer df is rounded to integer\"Warning message in biv.nt.prob(df, lower = rep(-Inf, 2), upper = x[j, ], mean[j, :\n",
      "\"non integer df is rounded to integer\"Warning message in biv.nt.prob(df, lower = rep(-Inf, 2), upper = x[j, ], mean[j, :\n",
      "\"non integer df is rounded to integer\"Warning message in biv.nt.prob(df, lower = rep(-Inf, 2), upper = x[j, ], mean[j, :\n",
      "\"non integer df is rounded to integer\"Warning message in biv.nt.prob(df, lower = rep(-Inf, 2), upper = x[j, ], mean[j, :\n",
      "\"non integer df is rounded to integer\"Warning message in biv.nt.prob(df, lower = rep(-Inf, 2), upper = x[j, ], mean[j, :\n",
      "\"non integer df is rounded to integer\"Warning message in biv.nt.prob(df, lower = rep(-Inf, 2), upper = x[j, ], mean[j, :\n",
      "\"non integer df is rounded to integer\"Warning message in biv.nt.prob(df, lower = rep(-Inf, 2), upper = x[j, ], mean[j, :\n",
      "\"non integer df is rounded to integer\"Warning message in biv.nt.prob(df, lower = rep(-Inf, 2), upper = x[j, ], mean[j, :\n",
      "\"non integer df is rounded to integer\"Warning message in biv.nt.prob(df, lower = rep(-Inf, 2), upper = x[j, ], mean[j, :\n",
      "\"non integer df is rounded to integer\"Warning message in biv.nt.prob(df, lower = rep(-Inf, 2), upper = x[j, ], mean[j, :\n",
      "\"non integer df is rounded to integer\"Warning message in biv.nt.prob(df, lower = rep(-Inf, 2), upper = x[j, ], mean[j, :\n",
      "\"non integer df is rounded to integer\"Warning message in biv.nt.prob(df, lower = rep(-Inf, 2), upper = x[j, ], mean[j, :\n",
      "\"non integer df is rounded to integer\"Warning message in biv.nt.prob(df, lower = rep(-Inf, 2), upper = x[j, ], mean[j, :\n",
      "\"non integer df is rounded to integer\"Warning message in biv.nt.prob(df, lower = rep(-Inf, 2), upper = x[j, ], mean[j, :\n",
      "\"non integer df is rounded to integer\""
     ]
    },
    {
     "data": {
      "image/png": "[encoded data removed]",
      "text/plain": [
       "plot without title"
      ]
     },
     "metadata": {},
     "output_type": "display_data"
    }
   ],
   "source": [
    "#########################'\n",
    "##' predictive Cdf's\n",
    "#########################'\n",
    "Pexcess <- rep(0,10)\n",
    "Pexcess_vb <- Pexcess; Pexcess_mh <- Pexcess\n",
    "thres_vect <-  seq(1, 5, length.out=30)\n",
    "for(i in seq_along(thres_vect)){\n",
    "threshold <- rep(thres_vect[i], 2)\n",
    "Pexcess[i] <- 1 - gmcdf(x = threshold, Mu = Mu, Sigma=Sigma, p=p)\n",
    "T <- ncol(outputvb$Alphamat)\n",
    "Pexcess_vb[i] <-  ## complete the code:\n",
    "    ## posterior predictive  estimator using VB output: \n",
    "    ## use vbPredictiveCdf\n",
    "    1 - vbPredictiveCdf (x = threshold, \n",
    "                         Alpha = outputvb$Alphamat[,T], \n",
    "                         Beta = outputvb$Betamat[,T], \n",
    "                         M = outputvb$Marray[,,T], \n",
    "                         Winv = outputvb$Winvarray[,,,T], \n",
    "                         Nu = outputvb$Numat[,T])\n",
    "    \n",
    "Pexcess_mh[i] <-  ## complete the code:\n",
    "    ## posterior predictive  estimator using MH output:\n",
    "    ## use MHpredictiveCdf. \n",
    "    1 - MHpredictiveCdf(x = threshold , sample = outputmh , burnin = 0, thin = 1)\n",
    "    }\n",
    "\n",
    "ylim <- range(Pexcess, Pexcess_vb, Pexcess_mh)\n",
    "plot(thres_vect,Pexcess, ylim = ylim)\n",
    "lines(thres_vect, Pexcess_vb, col='red')\n",
    "lines(thres_vect, Pexcess_mh, col='green')"
   ]
  },
  {
   "cell_type": "markdown",
   "metadata": {},
   "source": [
    "Looking closer at the tail of the distribution, we see that the VB method peforms more poorly compared to the MH method."
   ]
  },
  {
   "cell_type": "markdown",
   "metadata": {},
   "source": [
    "## IV.3. Results after bruning"
   ]
  },
  {
   "cell_type": "code",
   "execution_count": 114,
   "metadata": {},
   "outputs": [
    {
     "data": {
      "image/png": "[encoded data removed]",
      "text/plain": [
       "plot without title"
      ]
     },
     "metadata": {},
     "output_type": "display_data"
    }
   ],
   "source": [
    "Pexcess <- rep(0,10)\n",
    "Pexcess_vb <- Pexcess; Pexcess_mh <- Pexcess\n",
    "thres_vect <-  seq(-1, 4, length.out=30)\n",
    "for(i in seq_along(thres_vect)){\n",
    "threshold <- rep(thres_vect[i], 2)\n",
    "Pexcess[i] <- 1 - gmcdf(x = threshold, Mu = Mu, Sigma=Sigma, p=p)\n",
    "    \n",
    "Pexcess_mh[i] <-  ## complete the code:\n",
    "    ## posterior predictive  estimator using MH output:\n",
    "    ## use MHpredictiveCdf. \n",
    "    1 - MHpredictiveCdf(x = threshold , sample = outputmh , burnin = 1000, thin = 10)\n",
    "    }\n",
    "\n",
    "ylim <- range(Pexcess, Pexcess_vb, Pexcess_mh)\n",
    "plot(thres_vect,Pexcess, ylim = ylim)\n",
    "lines(thres_vect, Pexcess_mh, col='green')"
   ]
  },
  {
   "cell_type": "markdown",
   "metadata": {},
   "source": [
    "The line match perfectly the true function."
   ]
  }
 ],
 "metadata": {
  "kernelspec": {
   "display_name": "R",
   "language": "R",
   "name": "ir"
  },
  "language_info": {
   "codemirror_mode": "r",
   "file_extension": ".r",
   "mimetype": "text/x-r-source",
   "name": "R",
   "pygments_lexer": "r",
   "version": "3.6.1"
  }
 },
 "nbformat": 4,
 "nbformat_minor": 2
}
