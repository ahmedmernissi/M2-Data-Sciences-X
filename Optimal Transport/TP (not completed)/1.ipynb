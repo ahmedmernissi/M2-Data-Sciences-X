{
 "cells": [
  {
   "cell_type": "markdown",
   "metadata": {},
   "source": [
    "# Part 1: Optimal Transport and Wasserstein Distances"
   ]
  },
  {
   "cell_type": "markdown",
   "metadata": {},
   "source": [
    "The goal of this first practical session is to introduce computational optimal transport (OT) in Python. You will familiarize yourself with OT by:\n",
    "1. using the Python library POT (Python Optimal Transport),\n",
    "2. coding Sinkhorn's algorithm.\n",
    "\n",
    "In the second practical session, we will use optimal transport as a nice geometrical tool in machine learning."
   ]
  },
  {
   "cell_type": "markdown",
   "metadata": {},
   "source": [
    "You first need to install the package POT:\n",
    "* Install with pip: ```bash pip install pot```\n",
    "* Install with conda: ```bash conda install -c conda-forge pot ```"
   ]
  },
  {
   "cell_type": "code",
   "execution_count": 1,
   "metadata": {},
   "outputs": [],
   "source": [
    "# Check your installation by importing POT\n",
    "import ot"
   ]
  },
  {
   "cell_type": "code",
   "execution_count": 4,
   "metadata": {},
   "outputs": [],
   "source": [
    "import numpy as np\n",
    "import matplotlib.pyplot as plt"
   ]
  },
  {
   "cell_type": "markdown",
   "metadata": {},
   "source": [
    "## 1. Solving Exact OT: Linear Programming"
   ]
  },
  {
   "cell_type": "markdown",
   "metadata": {},
   "source": [
    "### Reminders on Optimal Transport"
   ]
  },
  {
   "cell_type": "markdown",
   "metadata": {},
   "source": [
    "Optimal Transport is a theory that allows us to compare two (weighted) points clouds $(X, a)$ and $(Y, b)$, where $X \\in \\mathbb{R}^{n \\times d}$ and $Y \\in \\mathbb{R}^{m \\times d}$ are the locations of the $n$ (resp. $m$) points in dimension $d$, and $a \\in \\mathbb{R}^n$, $b \\in \\mathbb{R}^m$ are the weights. We ask that the total weights sum to one, i.e. $\\sum_{i=1}^n a_i = \\sum_{j=1}^m b_j = 1$."
   ]
  },
  {
   "cell_type": "markdown",
   "metadata": {},
   "source": [
    "The basic idea of Optimal Transport is to \"transport\" the mass located at points $X$ to the mass located at points $Y$.\n",
    "\n",
    "Let us denote by $\\mathcal{U}(a,b) = \\left\\{ P \\in \\mathbb{R}^{n \\times m} \\,|\\, P \\geq 0, \\sum_{j=1}^m P_{ij} = a_i, \\sum_{i=1}^n P_{ij} = b_j\\right\\}$ the set of admissible transport plans.\n",
    "\n",
    "If $P \\in \\mathcal{U}(a,b)$, the quantity $P_{ij} \\geq 0$ should be regarded as the mass transported from point $X_i$ to point $Y_j$. For this reason, it is called a *transport plan*.\n",
    "\n",
    "We will also consider a *cost matrix* $C \\in \\mathbb{R}^{n \\times m}$. The quantity $C_{ij}$ should be regarded as the cost paid for transporting one unit of mass from $X_i$ to $Y_j$. This cost is usually computed using the positions $X_i$ and $Y_j$, for example $C_{ij} = \\|X_i - Y_j\\|$ or $C_{ij} = \\|X_i - Y_j\\|^2$.\n",
    "\n",
    "Then transporting mass according to $P \\in \\mathcal{U}(a,b)$ has a total cost of $\\sum_{ij} P_{ij} C_{ij}$."
   ]
  },
  {
   "cell_type": "markdown",
   "metadata": {},
   "source": [
    "In \"Optimal Transport\", there is the word _Optimal_. Indeed, we want to find a transport plan $P \\in \\mathcal{U}(a,b)$ that will minimize its total cost. In other words, we want to solve\n",
    "$$\n",
    "    \\min_{P \\in \\mathcal{U}(a,b)} \\sum_{ij} C_{ij }P_{ij}.\n",
    "$$"
   ]
  },
  {
   "cell_type": "markdown",
   "metadata": {},
   "source": [
    "This problem is a Linear Program: the objective function is linear in the variable $P$, and the constraints are linear in $P$. We can thus solve this problem using classical Linear Programming algorithms, such as the simplex algorithm."
   ]
  },
  {
   "cell_type": "markdown",
   "metadata": {},
   "source": [
    "If $P^*$ is a solution to the Optimal Transport problem, we will say that $P^*$ is an optimal transport plan between $(X, a)$ and $(Y, b)$, and that $\\sum_{ij} P^*_{ij} C_{ij}$ is the optimal transport distance between $(X, a)$ and $(Y, b)$: it is the minimal amount of \"energy\" that is necessary to transport the initial mass located at points $X$ to the target mass lcoated at points $Y$."
   ]
  },
  {
   "cell_type": "markdown",
   "metadata": {},
   "source": [
    "### Computing Optimal \"Croissant\" Transport using POT"
   ]
  },
  {
   "cell_type": "markdown",
   "metadata": {},
   "source": [
    "We will solve the Bakery/Cafés problem of transporting croissants from a number of Bakeries to Cafés in Palaiseau.\n",
    "\n",
    "We use fictional positions, production and sale numbers (that both sum to the same value).\n",
    "\n",
    "We have acess to the position of Bakeries $X \\in \\mathbb{R}^{8 \\times 2}$ and their respective production $a \\in \\mathbb{R}^8$ which describe the source point cloud. The Cafés where the croissants are sold are defined by their position $Y \\in \\mathbb{R}^{5 \\times 2}$ and $b \\in \\mathbb{R}^{5}$."
   ]
  },
  {
   "cell_type": "code",
   "execution_count": 2,
   "metadata": {},
   "outputs": [
    {
     "name": "stdout",
     "output_type": "stream",
     "text": [
      "Bakery productions = [31. 48. 82. 30. 40. 48. 89. 73.]\n",
      "Café sales = [82. 88. 92. 88. 91.]\n",
      "Total number of croissants = 441.0\n"
     ]
    }
   ],
   "source": [
    "# Load the data\n",
    "import pickle\n",
    "\n",
    "with open('data/croissants.pickle', 'rb') as file:\n",
    "    croissants = pickle.load(file)\n",
    "\n",
    "X = croissants['bakery_pos']\n",
    "a = croissants['bakery_prod']\n",
    "Y = croissants['cafe_pos']\n",
    "b = croissants['cafe_prod']\n",
    "\n",
    "print('Bakery productions =', a)\n",
    "print('Café sales =', b)\n",
    "print('Total number of croissants =', a.sum())"
   ]
  },
  {
   "cell_type": "code",
   "execution_count": 5,
   "metadata": {},
   "outputs": [
    {
     "data": {
      "image/png": "[encoded data removed]",
      "text/plain": [
       "<Figure size 576x576 with 1 Axes>"
      ]
     },
     "metadata": {
      "needs_background": "light"
     },
     "output_type": "display_data"
    }
   ],
   "source": [
    "plt.figure(figsize=(8,8))\n",
    "plt.scatter(X[:,0], X[:,1], s=10*a, c='r', edgecolors='k', label='Bakeries')\n",
    "plt.scatter(Y[:,0], Y[:,1], s=10*b, c='b', edgecolors='k', label='Cafés')\n",
    "plt.legend(fontsize=20)\n",
    "plt.axis('off')\n",
    "plt.title('Palaiseau Bakeries and Cafés', fontsize=25)\n",
    "plt.show()"
   ]
  },
  {
   "cell_type": "markdown",
   "metadata": {},
   "source": [
    "Let us now compute the cost matrix $C \\in \\mathbb{R}^{n \\times m}$. Here, we will use two different costs: $\\ell_1$ and $\\ell_2$ costs."
   ]
  },
  {
   "cell_type": "code",
   "execution_count": null,
   "metadata": {},
   "outputs": [],
   "source": [
    "C_1 = np.zeros((8,5))\n",
    "C_2 = np.zeros((8,5))\n",
    "# TODO: compute the l1 and l2 norms between the points"
   ]
  },
  {
   "cell_type": "markdown",
   "metadata": {},
   "source": [
    "We can now compute the Optimal Transport plan to transport the croissants from the bakeries to the cafés, for the two different costs."
   ]
  },
  {
   "cell_type": "code",
   "execution_count": null,
   "metadata": {},
   "outputs": [],
   "source": [
    "optimal_plan_1 = # TODO: use POT function emd\n",
    "print(optimal_plan_1)\n",
    "optimal_cost_1 = # TODO: compute the transport cost\n",
    "print('l1-Wasserstein distance =', optimal_cost_1)\n",
    "print('')\n",
    "\n",
    "optimal_plan_2 = # TODO: use POT function emd\n",
    "print(optimal_plan_2)\n",
    "optimal_cost_2 = # TODO: compute the transport cost\n",
    "print('l2-Wasserstein distance =', np.sqrt(optimal_cost_2))"
   ]
  },
  {
   "cell_type": "code",
   "execution_count": null,
   "metadata": {},
   "outputs": [],
   "source": [
    "fig = plt.figure(figsize=(17,8))\n",
    "\n",
    "ax = fig.add_subplot(1, 2, 1)\n",
    "ax.scatter(X[:,0], X[:,1], s=10*a, c='r', edgecolors='k', label='Bakeries')\n",
    "ax.scatter(Y[:,0], Y[:,1], s=10*b, c='b', edgecolors='k', label='Cafés')\n",
    "for i in range(8):\n",
    "    for j in range(5):\n",
    "        ax.plot([X[i,0], Y[j,0]], [X[i,1], Y[j,1]], c='k', lw=0.15*optimal_plan_1[i,j], alpha=0.8)\n",
    "ax.axis('off')\n",
    "ax.set_title('$\\ell_1$ cost', fontsize=30)\n",
    "\n",
    "ax = fig.add_subplot(1, 2, 2)\n",
    "ax.scatter(X[:,0], X[:,1], s=10*a, c='r', edgecolors='k', label='Bakeries')\n",
    "ax.scatter(Y[:,0], Y[:,1], s=10*b, c='b', edgecolors='k', label='Cafés')\n",
    "for i in range(8):\n",
    "    for j in range(5):\n",
    "        ax.plot([X[i,0], Y[j,0]], [X[i,1], Y[j,1]], c='k', lw=0.15*optimal_plan_2[i,j], alpha=0.8)\n",
    "ax.axis('off')\n",
    "ax.set_title('$\\ell_2$ cost', fontsize=30)\n",
    "\n",
    "plt.legend(fontsize=20)\n",
    "plt.show()"
   ]
  },
  {
   "cell_type": "markdown",
   "metadata": {},
   "source": [
    "## 2. Sinkhorn Algorithm for Entropy Regularized Optimal Transport"
   ]
  },
  {
   "cell_type": "markdown",
   "metadata": {},
   "source": [
    "### Reminders on Sinkhorn Algorithm"
   ]
  },
  {
   "cell_type": "markdown",
   "metadata": {},
   "source": [
    "In real applications, and especially in Machine Learning, we often have to deal with huge numbers of points. In this case, the linear programming algorithms which have cubic complexity will take too much time to run.\n",
    "\n",
    "That's why in practise, among other reasons, people minimize another criterion given by\n",
    "$$\n",
    "    \\min_{P \\in \\mathcal{U}(a,b)} \\langle C, P \\rangle + \\epsilon \\sum_{ij} P_{ij} [ \\log(P_{ij}) - 1].\n",
    "$$\n",
    "When $\\epsilon$ is sufficiently small, we can consider that a solution to the above problem (often refered to as \"Entropy-regularized Optimal Transport\") is a good approximation of a real optimal transport plan."
   ]
  },
  {
   "cell_type": "markdown",
   "metadata": {},
   "source": [
    "In order to solve this problem, one can remark that the optimality conditions imply that a solution $P_\\epsilon^*$ necessarily is of the form $P_\\epsilon^* = \\text{diag}(u) \\, K \\, \\text{diag}(v)$, where $K = \\exp(-C/\\epsilon)$ and $u,v$ are two non-negative vectors."
   ]
  },
  {
   "cell_type": "markdown",
   "metadata": {},
   "source": [
    "$P_\\epsilon^*$ should verify the constraints, i.e. $P_\\epsilon^* \\in \\mathcal{U}(a,b)$, so that\n",
    "$$\n",
    "    P_\\epsilon^* 1_m = a \\text{  and  } (P_\\epsilon^*)^T 1_n = b\n",
    "$$\n",
    "which can be rewritten as\n",
    "$$\n",
    "    u \\odot (Kv) = a \\text{  and  } v \\odot (K^T u) = b\n",
    "$$\n",
    "\n",
    "Then Sinkhorn's algorithm alternate between the resolution of these two equations, and reads\n",
    "$$\n",
    "    u \\leftarrow \\frac{a}{Kv} \\text{  and  } v \\leftarrow \\frac{b}{K^T u}\n",
    "$$"
   ]
  },
  {
   "cell_type": "code",
   "execution_count": null,
   "metadata": {},
   "outputs": [],
   "source": [
    "def sinkhorn(a, b, C, epsilon=0.1, max_iters=100):\n",
    "    \"\"\"Run Sinnkhorn's algorithm\"\"\"\n",
    "    \n",
    "    # TODO: run Sinkhorn Algorithm"
   ]
  },
  {
   "cell_type": "code",
   "execution_count": null,
   "metadata": {},
   "outputs": [],
   "source": [
    "np.round(sinkhorn(a, b, C_2/C_2.max(), epsilon=0.01), 2)"
   ]
  },
  {
   "cell_type": "code",
   "execution_count": null,
   "metadata": {},
   "outputs": [],
   "source": [
    "optimal_plan_2"
   ]
  },
  {
   "cell_type": "markdown",
   "metadata": {},
   "source": [
    "We first show that this algorithm is consistent with classical optimal transport, using the \"croissant\" transport example."
   ]
  },
  {
   "cell_type": "code",
   "execution_count": null,
   "metadata": {},
   "outputs": [],
   "source": [
    "plan_diff = []\n",
    "distance_diff = []\n",
    "for epsilon in np.linspace(0.01, 1, 100):\n",
    "    # For a regularization strength epsilon, compute the OT plan and OT value for the l2 ground cost, ans store them."
   ]
  },
  {
   "cell_type": "code",
   "execution_count": null,
   "metadata": {},
   "outputs": [],
   "source": [
    "plt.figure(figsize=(16,5))\n",
    "plt.loglog(np.linspace(0.01, 1, 100), plan_diff, lw=4)\n",
    "plt.xlabel('Regularization Strength $\\epsilon$', fontsize=25)\n",
    "plt.ylabel('$||P^* - P_\\epsilon^*||_F$', fontsize=25)\n",
    "plt.xticks(fontsize=20)\n",
    "plt.yticks(fontsize=20)\n",
    "plt.grid(ls='--')\n",
    "plt.show()"
   ]
  },
  {
   "cell_type": "code",
   "execution_count": null,
   "metadata": {},
   "outputs": [],
   "source": [
    "plt.figure(figsize=(16,5))\n",
    "plt.loglog(np.linspace(0.01, 1, 100), distance_diff, lw=4)\n",
    "plt.xlabel('Regularization Strength $\\epsilon$', fontsize=25)\n",
    "plt.ylabel('Error in %', fontsize=25)\n",
    "plt.xticks(fontsize=20)\n",
    "plt.yticks(fontsize=20)\n",
    "plt.grid(ls='--')\n",
    "plt.show()"
   ]
  },
  {
   "cell_type": "markdown",
   "metadata": {},
   "source": [
    "Let us now compare the running time for sinkhorn and classical optimal transport algorithm on more data."
   ]
  },
  {
   "cell_type": "code",
   "execution_count": null,
   "metadata": {},
   "outputs": [],
   "source": [
    "n = 1000\n",
    "m = 1000\n",
    "d = 2\n",
    "\n",
    "X = np.random.randn(n,d)\n",
    "Y = np.random.randn(m,d)\n",
    "\n",
    "a = np.ones(n)\n",
    "b = np.ones(m)\n",
    "\n",
    "C = # TODO: l2 cost between X and Y"
   ]
  },
  {
   "cell_type": "code",
   "execution_count": null,
   "metadata": {},
   "outputs": [],
   "source": [
    "%timeit ot.emd(a,b,C)"
   ]
  },
  {
   "cell_type": "code",
   "execution_count": null,
   "metadata": {},
   "outputs": [],
   "source": [
    "%timeit sinkhorn(a,b,C)"
   ]
  },
  {
   "cell_type": "markdown",
   "metadata": {},
   "source": [
    "We see that sinkhorn is faster. What is even more interesting is that sinkhorn can be parallelerized on GPUs, giving further acceleration. Of course, Sinkhorn algorithm is not computing the exact optimal transport plan any more."
   ]
  },
  {
   "cell_type": "markdown",
   "metadata": {},
   "source": [
    "## 3. Optimal Transport in Dimension 1\n",
    "\n",
    "In dimension $d=1$, computing OT boils down to sorting the points. You will check this fact, and discuss the influence of the regularization strength $\\epsilon$."
   ]
  },
  {
   "cell_type": "code",
   "execution_count": null,
   "metadata": {},
   "outputs": [],
   "source": [
    "n = 4\n",
    "\n",
    "X = np.random.uniform(size=n)\n",
    "Y = np.random.uniform(size=n)\n",
    "\n",
    "a = np.ones(n)\n",
    "b = np.ones(n)\n",
    "\n",
    "C = #TODO: l2 cost between X and Y\n",
    "\n",
    "plt.figure(figsize=(17,4))\n",
    "plt.scatter(X, np.zeros(n), s=200*a, c='r')\n",
    "plt.scatter(Y, np.zeros(n), s=200*b, c='b')\n",
    "for i in range(n):\n",
    "    plt.gca().annotate(str(i+1), xy=(X[i],0.005), size=30, color='r', ha='center')\n",
    "for j in range(n):\n",
    "    plt.gca().annotate(str(j+1), xy=(Y[j],0.005), size=30, color='b', ha='center')\n",
    "plt.axis('off')\n",
    "plt.show()"
   ]
  },
  {
   "cell_type": "code",
   "execution_count": null,
   "metadata": {},
   "outputs": [],
   "source": [
    "# TODO: compute the OT plan using function 'ot.emd', function 'sinkhorn' and sorting."
   ]
  },
  {
   "cell_type": "code",
   "execution_count": null,
   "metadata": {},
   "outputs": [],
   "source": [
    "sort_plan"
   ]
  },
  {
   "cell_type": "code",
   "execution_count": null,
   "metadata": {},
   "outputs": [],
   "source": [
    "optimal_plan"
   ]
  },
  {
   "cell_type": "code",
   "execution_count": null,
   "metadata": {},
   "outputs": [],
   "source": [
    "np.round(optimal_plan_sinkhorn, 3)"
   ]
  },
  {
   "cell_type": "markdown",
   "metadata": {},
   "source": [
    "## Wasserstein Geodesic in 1D"
   ]
  },
  {
   "cell_type": "code",
   "execution_count": null,
   "metadata": {},
   "outputs": [],
   "source": [
    "n = 1000000\n",
    "\n",
    "X1 = 1.5*np.random.randn(int(n/4))\n",
    "X2 = -5 + 5*np.random.randn(int(n/2))\n",
    "X3 = -20 + 10*np.random.randn(int(n/4))\n",
    "X = np.append(X1, X2, axis=0)\n",
    "X = np.append(X, X3, axis=0)\n",
    "\n",
    "Y1 = 40 + 8*np.random.randn(int(n/2))\n",
    "Y2 = 30 + 3*np.random.randn(int(n/4))\n",
    "Y3 = 20 + 2*np.random.randn(int(n/4))\n",
    "Y = np.append(Y1, Y2, axis=0)\n",
    "Y = np.append(Y, Y3, axis=0)\n",
    "\n",
    "plt.figure(figsize=(15,3))\n",
    "plt.hist(X, bins=300, density=True);\n",
    "plt.hist(Y, bins=300, density=True);\n",
    "plt.show()"
   ]
  },
  {
   "cell_type": "code",
   "execution_count": null,
   "metadata": {},
   "outputs": [],
   "source": [
    "# TODO: compute the OT plan"
   ]
  },
  {
   "cell_type": "code",
   "execution_count": null,
   "metadata": {
    "scrolled": false
   },
   "outputs": [],
   "source": [
    "for t in np.linspace(0,1,10):\n",
    "    Z = # TODO: geodesic between X and Y at time t\n",
    "    plt.figure(figsize=(15,3))\n",
    "    plt.hist(X, bins=300, density=True);\n",
    "    plt.hist(Y, bins=300, density=True);\n",
    "    plt.hist(Z, bins=300, density=True, alpha=0.6);\n",
    "    plt.show()"
   ]
  }
 ],
 "metadata": {
  "kernelspec": {
   "display_name": "Python 3",
   "language": "python",
   "name": "python3"
  },
  "language_info": {
   "codemirror_mode": {
    "name": "ipython",
    "version": 3
   },
   "file_extension": ".py",
   "mimetype": "text/x-python",
   "name": "python",
   "nbconvert_exporter": "python",
   "pygments_lexer": "ipython3",
   "version": "3.6.1"
  }
 },
 "nbformat": 4,
 "nbformat_minor": 2
}
